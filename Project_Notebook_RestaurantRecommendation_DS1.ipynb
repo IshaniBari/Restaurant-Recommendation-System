{
  "cells": [
    {
      "cell_type": "markdown",
      "metadata": {
        "id": "X7NRzLEINgFU"
      },
      "source": [
        "<h3 align='center'><b>PROJECT TITLE - Building a Restaurant Recommendation System</b></h3>\n",
        "\n",
        "\n",
        "**Team Name - Ensemblers**\n",
        "\n",
        "**Team Members** -<br>\n",
        "*   Ishani Bari\n",
        "*   Preetpal Singh\n",
        "*   Rampunit Kumar \n",
        "*   Umang Agarwal\n"
      ]
    },
    {
      "cell_type": "markdown",
      "metadata": {
        "id": "oWxXkxseOKDH"
      },
      "source": [
        "**PROBLEM STATEMENT** - <br>\n",
        "Create a recommendation system for restaurants using collaborative filtering (CF).\n",
        "\n",
        "\n",
        "**DATASET** -<br>\n",
        "We will be using the Yelp Dataset for this. The yelp dataset contains 5 JSON files -\n",
        "*   **business.json** which contains business data including location data, attributes, and categories.\n",
        "*   **review.json** which contains full review text data including the user_id that wrote the review and the business_id the review is written for.\n",
        "*   **user.json** that has user data including the user's friend mapping and all the metadata associated with the user.\n",
        "*   **checkin.json** that stores checkins on a business.\n",
        "*   **tip.json** that contains tips written by a user on a business. Tips are shorter than reviews and tend to convey quick suggestions.\n",
        "\n"
      ]
    },
    {
      "cell_type": "markdown",
      "metadata": {
        "id": "Nuc-wOBfPmIa"
      },
      "source": [
        "**OUR APPROACH TO THIS PROBLEM STATEMENT**-<br>\n",
        "*   First, we have unzip the yelp dataset's .tar file and stored the extracted JSON files in a google drive.\n",
        "*   Then we have created a database **'restaurants.db'** which stores the tables for review, user, checkin and tip data in the respective tables.\n",
        "*   Pre-processing the business data - read the business.json file as dataframe, kept only the business of category restaurant or food and preprocessed that dataset.\n",
        "*   Pushed the cleaned business dataframe into restaurants.db\n",
        "*   Fetched the required data from 'restaurants.db' and performed EDA on datasets 'user' and 'review'.\n",
        "*   Joined the business table and reviews tables on 'business_id' attribute and stored in a dataframe 'business_reviews'.\n",
        "*   Joined users table to 'business_reviews' on 'user_id'.\n",
        "*   Created a database of item-item similarities.\n",
        "*   CF-based Recommender system using Stochastic Gradient Descent.\n",
        "*   Evaluation and recommending restaurants to users."
      ]
    },
    {
      "cell_type": "code",
      "execution_count": null,
      "metadata": {
        "id": "pabrh74maens"
      },
      "outputs": [],
      "source": [
        "# Importing the required libraries\n",
        "import pandas as pd\n",
        "import numpy as np\n",
        "import os\n",
        "import json\n",
        "import seaborn as sns\n",
        "import matplotlib.pyplot as plt\n",
        "from datetime import date\n",
        "from prettytable import PrettyTable\n",
        "import warnings\n",
        "from datetime import datetime as dt\n",
        "import sqlite3\n",
        "from sqlalchemy import create_engine\n",
        "from sklearn.impute import SimpleImputer\n",
        "from keras.regularizers import l2\n",
        "import tensorflow as tf \n",
        "from tensorflow import keras\n",
        "from sklearn.model_selection import train_test_split\n",
        "from tensorflow.keras.utils import model_to_dot\n",
        "from IPython.display import SVG\n",
        "from tensorflow.keras import backend as K\n",
        "warnings.filterwarnings('ignore')"
      ]
    },
    {
      "cell_type": "code",
      "execution_count": null,
      "metadata": {
        "id": "zLjePCkFaP4C"
      },
      "outputs": [],
      "source": [
        "# # downloading the json files from gdrive\n",
        "# # !gdown --folder https://drive.google.com/drive/folders/1yIEP45IIfJrJE1OrWIMJfU2Rq6pvDTvo"
      ]
    },
    {
      "cell_type": "code",
      "execution_count": null,
      "metadata": {
        "id": "F0zPCf2da44y"
      },
      "outputs": [],
      "source": [
        "# # removing unnecessary files\n",
        "# files =['/content/DS1 Project'+'/'+path for path in  os.listdir('/content/DS1 Project')]\n",
        "# for file in files:\n",
        "#   if file.endswith('.json'):\n",
        "#     continue\n",
        "#   else:\n",
        "#     os.remove(file)"
      ]
    },
    {
      "cell_type": "markdown",
      "metadata": {
        "id": "df086e23"
      },
      "source": [
        "### **Creating the database 'restaurants.db' and storing data as tables in it.**\n",
        "This file contains the following tables - \n",
        "\n",
        "1) User table **(Name : user_sql)** </br>\n",
        "2) review table **(Name : review_sql)** </br>\n",
        "3) tips table **(Name : tips_sql)**</br>\n",
        "4) checkin table **(Name : checkin_sql)**</br>\n",
        "5) Item item cosine similarity **(Name : item_item_sql)**</br>"
      ]
    },
    {
      "cell_type": "code",
      "execution_count": null,
      "metadata": {
        "id": "37cff5fe"
      },
      "outputs": [],
      "source": [
        "chunk_size = 500000\n",
        "batch_no = 1"
      ]
    },
    {
      "cell_type": "code",
      "execution_count": null,
      "metadata": {
        "id": "3cjvmAU3s9-T"
      },
      "outputs": [],
      "source": [
        "#set this to true if you want to create a db again\n",
        "create_db = False"
      ]
    },
    {
      "cell_type": "code",
      "execution_count": null,
      "metadata": {
        "id": "0eb99e1d"
      },
      "outputs": [],
      "source": [
        "if create_db: \n",
        "  restaurants = create_engine('sqlite:///restaurats.db')"
      ]
    },
    {
      "cell_type": "code",
      "execution_count": null,
      "metadata": {
        "id": "b224a2f9"
      },
      "outputs": [],
      "source": [
        "if create_db:  \n",
        "  for chunk in pd.read_json(r\"C:\\Users\\UMANG\\DS1 PROJECT\\yelp_academic_dataset_user.json\" , lines = True , chunksize=chunk_size):\n",
        "      chunk.to_sql('user_sql',restaurants , if_exists = 'append')\n",
        "      batch_no = batch_no+1\n",
        "      print(\"Batch No : {}\".format(batch_no))"
      ]
    },
    {
      "cell_type": "code",
      "execution_count": null,
      "metadata": {
        "id": "0b618c5c"
      },
      "outputs": [],
      "source": [
        "if create_db:\n",
        "  for chunk in pd.read_json(r\"C:\\Users\\UMANG\\DS1 PROJECT\\yelp_academic_dataset_review.json\" , lines = True , chunksize=chunk_size):\n",
        "      chunk.to_sql('review_sql',restaurants , if_exists = 'append')\n",
        "      batch_no = batch_no+1\n",
        "      print(\"Batch No : {}\".format(batch_no))"
      ]
    },
    {
      "cell_type": "code",
      "execution_count": null,
      "metadata": {
        "id": "95b28509"
      },
      "outputs": [],
      "source": [
        "if create_db:\n",
        "  for chunk in pd.read_json(r\"C:\\Users\\UMANG\\DS1 PROJECT\\yelp_academic_dataset_tip.json\" , lines = True , chunksize=chunk_size):\n",
        "      chunk.to_sql('tips_sql',restaurants , if_exists = 'append')\n",
        "      batch_no = batch_no+1\n",
        "      print(\"Batch No : {}\".format(batch_no))"
      ]
    },
    {
      "cell_type": "code",
      "execution_count": null,
      "metadata": {
        "id": "4fedac33"
      },
      "outputs": [],
      "source": [
        "if create_db: \n",
        "  for chunk in pd.read_json(r\"C:\\Users\\UMANG\\DS1 PROJECT\\yelp_academic_dataset_checkin.json\" , lines = True , chunksize=chunk_size):\n",
        "      chunk.to_sql('checkin_sql',restaurants , if_exists = 'append')\n",
        "      batch_no = batch_no+1\n",
        "      print(\"Batch No : {}\".format(batch_no))"
      ]
    },
    {
      "cell_type": "code",
      "execution_count": null,
      "metadata": {
        "colab": {
          "base_uri": "https://localhost:8080/"
        },
        "id": "05_OAWu9rUG1",
        "outputId": "e5f8e8fa-6f8a-48b9-d667-16171a8106d3"
      },
      "outputs": [
        {
          "output_type": "stream",
          "name": "stdout",
          "text": [
            "Downloading...\n",
            "From: https://drive.google.com/uc?id=1s2QdsvUMDpalm3kvRfQwX-NJtelVGY_0\n",
            "To: /content/restaurants.db\n",
            "100% 9.18G/9.18G [01:00<00:00, 151MB/s]\n"
          ]
        }
      ],
      "source": [
        "# # downloading db object from google drive\n",
        "!gdown 1s2QdsvUMDpalm3kvRfQwX-NJtelVGY_0"
      ]
    },
    {
      "cell_type": "code",
      "execution_count": null,
      "metadata": {
        "id": "qrcgSWnztWrx"
      },
      "outputs": [],
      "source": [
        "if not create_db:\n",
        "  conn = sqlite3.connect(\"restaurants.db\")\n",
        "  cursor = conn.cursor()"
      ]
    },
    {
      "cell_type": "markdown",
      "metadata": {
        "id": "aI7P-WeGwZVA"
      },
      "source": [
        "### **Pre processing business df by doing following steps:**\n",
        "\n",
        "\n",
        "1.   Unpacking the json into columns.\n",
        "2.   Dropping null values except for attributes.\n",
        "3.   Unpacking nested json columns.\n",
        "4.   Merging the nested dataframes.\n",
        "5.   One hot encoding the categorical columns which we get from nested dfs\n",
        "6.   Converting daily hours to individual columns\n"
      ]
    },
    {
      "cell_type": "markdown",
      "metadata": {
        "id": "Tl0gusoewxua"
      },
      "source": [
        "#### 1. Unpacking json into columns"
      ]
    },
    {
      "cell_type": "code",
      "execution_count": null,
      "metadata": {
        "id": "26TBOf48bVdZ"
      },
      "outputs": [],
      "source": [
        "# reading the business.json file\n",
        "with open(r\"C:\\Users\\UMANG\\DS1 PROJECT\\yelp_academic_dataset_business.json\", 'rb') as f:\n",
        "    file1 = f.readlines()"
      ]
    },
    {
      "cell_type": "code",
      "execution_count": null,
      "metadata": {
        "id": "6O7QFAwsduEk"
      },
      "outputs": [],
      "source": [
        "file1 = [json.loads(file.strip()) for file in file1]"
      ]
    },
    {
      "cell_type": "code",
      "execution_count": null,
      "metadata": {
        "colab": {
          "base_uri": "https://localhost:8080/",
          "height": 490
        },
        "id": "Az6qBj-RwJtL",
        "outputId": "307e8227-bace-449d-9b73-daa8cb20607b"
      },
      "outputs": [
        {
          "data": {
            "text/html": [
              "<div>\n",
              "<style scoped>\n",
              "    .dataframe tbody tr th:only-of-type {\n",
              "        vertical-align: middle;\n",
              "    }\n",
              "\n",
              "    .dataframe tbody tr th {\n",
              "        vertical-align: top;\n",
              "    }\n",
              "\n",
              "    .dataframe thead th {\n",
              "        text-align: right;\n",
              "    }\n",
              "</style>\n",
              "<table border=\"1\" class=\"dataframe\">\n",
              "  <thead>\n",
              "    <tr style=\"text-align: right;\">\n",
              "      <th></th>\n",
              "      <th>business_id</th>\n",
              "      <th>name</th>\n",
              "      <th>address</th>\n",
              "      <th>city</th>\n",
              "      <th>state</th>\n",
              "      <th>postal_code</th>\n",
              "      <th>latitude</th>\n",
              "      <th>longitude</th>\n",
              "      <th>stars</th>\n",
              "      <th>review_count</th>\n",
              "      <th>...</th>\n",
              "      <th>attributes_AcceptsInsurance</th>\n",
              "      <th>attributes_BestNights</th>\n",
              "      <th>attributes_BYOB</th>\n",
              "      <th>attributes_Corkage</th>\n",
              "      <th>attributes_BYOBCorkage</th>\n",
              "      <th>attributes_HairSpecializesIn</th>\n",
              "      <th>attributes_Open24Hours</th>\n",
              "      <th>attributes_RestaurantsCounterService</th>\n",
              "      <th>attributes_AgesAllowed</th>\n",
              "      <th>attributes_DietaryRestrictions</th>\n",
              "    </tr>\n",
              "  </thead>\n",
              "  <tbody>\n",
              "    <tr>\n",
              "      <th>0</th>\n",
              "      <td>Pns2l4eNsfO8kk83dixA6A</td>\n",
              "      <td>Abby Rappoport, LAC, CMQ</td>\n",
              "      <td>1616 Chapala St, Ste 2</td>\n",
              "      <td>Santa Barbara</td>\n",
              "      <td>CA</td>\n",
              "      <td>93101</td>\n",
              "      <td>34.426679</td>\n",
              "      <td>-119.711197</td>\n",
              "      <td>5.0</td>\n",
              "      <td>7</td>\n",
              "      <td>...</td>\n",
              "      <td>NaN</td>\n",
              "      <td>NaN</td>\n",
              "      <td>NaN</td>\n",
              "      <td>NaN</td>\n",
              "      <td>NaN</td>\n",
              "      <td>NaN</td>\n",
              "      <td>NaN</td>\n",
              "      <td>NaN</td>\n",
              "      <td>NaN</td>\n",
              "      <td>NaN</td>\n",
              "    </tr>\n",
              "    <tr>\n",
              "      <th>1</th>\n",
              "      <td>mpf3x-BjTdTEA3yCZrAYPw</td>\n",
              "      <td>The UPS Store</td>\n",
              "      <td>87 Grasso Plaza Shopping Center</td>\n",
              "      <td>Affton</td>\n",
              "      <td>MO</td>\n",
              "      <td>63123</td>\n",
              "      <td>38.551126</td>\n",
              "      <td>-90.335695</td>\n",
              "      <td>3.0</td>\n",
              "      <td>15</td>\n",
              "      <td>...</td>\n",
              "      <td>NaN</td>\n",
              "      <td>NaN</td>\n",
              "      <td>NaN</td>\n",
              "      <td>NaN</td>\n",
              "      <td>NaN</td>\n",
              "      <td>NaN</td>\n",
              "      <td>NaN</td>\n",
              "      <td>NaN</td>\n",
              "      <td>NaN</td>\n",
              "      <td>NaN</td>\n",
              "    </tr>\n",
              "    <tr>\n",
              "      <th>2</th>\n",
              "      <td>tUFrWirKiKi_TAnsVWINQQ</td>\n",
              "      <td>Target</td>\n",
              "      <td>5255 E Broadway Blvd</td>\n",
              "      <td>Tucson</td>\n",
              "      <td>AZ</td>\n",
              "      <td>85711</td>\n",
              "      <td>32.223236</td>\n",
              "      <td>-110.880452</td>\n",
              "      <td>3.5</td>\n",
              "      <td>22</td>\n",
              "      <td>...</td>\n",
              "      <td>NaN</td>\n",
              "      <td>NaN</td>\n",
              "      <td>NaN</td>\n",
              "      <td>NaN</td>\n",
              "      <td>NaN</td>\n",
              "      <td>NaN</td>\n",
              "      <td>NaN</td>\n",
              "      <td>NaN</td>\n",
              "      <td>NaN</td>\n",
              "      <td>NaN</td>\n",
              "    </tr>\n",
              "    <tr>\n",
              "      <th>3</th>\n",
              "      <td>MTSW4McQd7CbVtyjqoe9mw</td>\n",
              "      <td>St Honore Pastries</td>\n",
              "      <td>935 Race St</td>\n",
              "      <td>Philadelphia</td>\n",
              "      <td>PA</td>\n",
              "      <td>19107</td>\n",
              "      <td>39.955505</td>\n",
              "      <td>-75.155564</td>\n",
              "      <td>4.0</td>\n",
              "      <td>80</td>\n",
              "      <td>...</td>\n",
              "      <td>NaN</td>\n",
              "      <td>NaN</td>\n",
              "      <td>NaN</td>\n",
              "      <td>NaN</td>\n",
              "      <td>NaN</td>\n",
              "      <td>NaN</td>\n",
              "      <td>NaN</td>\n",
              "      <td>NaN</td>\n",
              "      <td>NaN</td>\n",
              "      <td>NaN</td>\n",
              "    </tr>\n",
              "    <tr>\n",
              "      <th>4</th>\n",
              "      <td>mWMc6_wTdE0EUBKIGXDVfA</td>\n",
              "      <td>Perkiomen Valley Brewery</td>\n",
              "      <td>101 Walnut St</td>\n",
              "      <td>Green Lane</td>\n",
              "      <td>PA</td>\n",
              "      <td>18054</td>\n",
              "      <td>40.338183</td>\n",
              "      <td>-75.471659</td>\n",
              "      <td>4.5</td>\n",
              "      <td>13</td>\n",
              "      <td>...</td>\n",
              "      <td>NaN</td>\n",
              "      <td>NaN</td>\n",
              "      <td>NaN</td>\n",
              "      <td>NaN</td>\n",
              "      <td>NaN</td>\n",
              "      <td>NaN</td>\n",
              "      <td>NaN</td>\n",
              "      <td>NaN</td>\n",
              "      <td>NaN</td>\n",
              "      <td>NaN</td>\n",
              "    </tr>\n",
              "  </tbody>\n",
              "</table>\n",
              "<p>5 rows × 60 columns</p>\n",
              "</div>"
            ],
            "text/plain": [
              "              business_id                      name  \\\n",
              "0  Pns2l4eNsfO8kk83dixA6A  Abby Rappoport, LAC, CMQ   \n",
              "1  mpf3x-BjTdTEA3yCZrAYPw             The UPS Store   \n",
              "2  tUFrWirKiKi_TAnsVWINQQ                    Target   \n",
              "3  MTSW4McQd7CbVtyjqoe9mw        St Honore Pastries   \n",
              "4  mWMc6_wTdE0EUBKIGXDVfA  Perkiomen Valley Brewery   \n",
              "\n",
              "                           address           city state postal_code  \\\n",
              "0           1616 Chapala St, Ste 2  Santa Barbara    CA       93101   \n",
              "1  87 Grasso Plaza Shopping Center         Affton    MO       63123   \n",
              "2             5255 E Broadway Blvd         Tucson    AZ       85711   \n",
              "3                      935 Race St   Philadelphia    PA       19107   \n",
              "4                    101 Walnut St     Green Lane    PA       18054   \n",
              "\n",
              "    latitude   longitude  stars  review_count  ...  \\\n",
              "0  34.426679 -119.711197    5.0             7  ...   \n",
              "1  38.551126  -90.335695    3.0            15  ...   \n",
              "2  32.223236 -110.880452    3.5            22  ...   \n",
              "3  39.955505  -75.155564    4.0            80  ...   \n",
              "4  40.338183  -75.471659    4.5            13  ...   \n",
              "\n",
              "   attributes_AcceptsInsurance attributes_BestNights  attributes_BYOB  \\\n",
              "0                          NaN                   NaN              NaN   \n",
              "1                          NaN                   NaN              NaN   \n",
              "2                          NaN                   NaN              NaN   \n",
              "3                          NaN                   NaN              NaN   \n",
              "4                          NaN                   NaN              NaN   \n",
              "\n",
              "  attributes_Corkage attributes_BYOBCorkage attributes_HairSpecializesIn  \\\n",
              "0                NaN                    NaN                          NaN   \n",
              "1                NaN                    NaN                          NaN   \n",
              "2                NaN                    NaN                          NaN   \n",
              "3                NaN                    NaN                          NaN   \n",
              "4                NaN                    NaN                          NaN   \n",
              "\n",
              "  attributes_Open24Hours attributes_RestaurantsCounterService  \\\n",
              "0                    NaN                                  NaN   \n",
              "1                    NaN                                  NaN   \n",
              "2                    NaN                                  NaN   \n",
              "3                    NaN                                  NaN   \n",
              "4                    NaN                                  NaN   \n",
              "\n",
              "  attributes_AgesAllowed attributes_DietaryRestrictions  \n",
              "0                    NaN                            NaN  \n",
              "1                    NaN                            NaN  \n",
              "2                    NaN                            NaN  \n",
              "3                    NaN                            NaN  \n",
              "4                    NaN                            NaN  \n",
              "\n",
              "[5 rows x 60 columns]"
            ]
          },
          "execution_count": 15,
          "metadata": {},
          "output_type": "execute_result"
        }
      ],
      "source": [
        "# Reading as dataframe\n",
        "business_df = pd.json_normalize(file1, sep='_')\n",
        "business_df.head()"
      ]
    },
    {
      "cell_type": "markdown",
      "metadata": {
        "id": "CUPGt5-Cpvmy"
      },
      "source": [
        "#### Filtering only the businesses categories which contain restaurants."
      ]
    },
    {
      "cell_type": "code",
      "execution_count": null,
      "metadata": {
        "colab": {
          "base_uri": "https://localhost:8080/"
        },
        "id": "mSDR-jvIoww-",
        "outputId": "467441a0-e4c8-452d-dba0-5ff00caab04b"
      },
      "outputs": [
        {
          "name": "stdout",
          "output_type": "stream",
          "text": [
            "business which are restaurants:  21057\n"
          ]
        }
      ],
      "source": [
        "# we only want the restaurants from the dataframe, filtering them out from the vanilla business df\n",
        "\n",
        "# create a mask for restaurants\n",
        "mask_restaurants = business_df['categories'].str.contains('Restaurants')\n",
        "\n",
        "# create a mask for food\n",
        "mask_food = business_df['categories'].str.contains('Food')\n",
        "\n",
        "# apply both masks\n",
        "business_df = business_df[mask_restaurants & mask_food]\n",
        "\n",
        "# number of businesses that have food and restaurant in their category\n",
        "print(\"business which are restaurants: \", business_df['categories'].shape[0])"
      ]
    },
    {
      "cell_type": "code",
      "execution_count": null,
      "metadata": {
        "colab": {
          "base_uri": "https://localhost:8080/"
        },
        "id": "9KRZjov1qTIZ",
        "outputId": "d6acb3ff-c794-4989-c61f-ed7e41329ed1"
      },
      "outputs": [
        {
          "data": {
            "text/plain": [
              " Acai Bowls          148\n",
              " Accessories           5\n",
              " Accountants           1\n",
              " Active Life          52\n",
              " Acupuncture           1\n",
              "                    ... \n",
              "Wine Tasting Room      2\n",
              "Wine Tours             1\n",
              "Wineries              13\n",
              "Wraps                 16\n",
              "Yoga                   3\n",
              "Length: 835, dtype: int64"
            ]
          },
          "execution_count": 17,
          "metadata": {},
          "output_type": "execute_result"
        }
      ],
      "source": [
        "#checking the sparsity of categories containing food or restaurant as keywords\n",
        "business_df['categories'].str.get_dummies(',').sum(axis=0)"
      ]
    },
    {
      "cell_type": "code",
      "execution_count": null,
      "metadata": {
        "id": "bOCvbrEFrIxc"
      },
      "outputs": [],
      "source": [
        "#dropping the categories columns, as it's very sparse if we one hot encode it and dosen't provides much info\n",
        "business_df.drop('categories', axis=1, inplace=True)"
      ]
    },
    {
      "cell_type": "code",
      "execution_count": null,
      "metadata": {
        "id": "XmreIPM29XmO"
      },
      "outputs": [],
      "source": [
        "business_df.drop(['attributes', 'hours'], inplace=True, axis=1)"
      ]
    },
    {
      "cell_type": "code",
      "execution_count": null,
      "metadata": {
        "id": "898ZN5swFGPL"
      },
      "outputs": [],
      "source": [
        "day_col = [hour for hour in business_df.columns if hour.startswith('hour')]\n",
        "attributes_col = [attr for attr in business_df.columns if attr.startswith('attributes')]"
      ]
    },
    {
      "cell_type": "code",
      "execution_count": null,
      "metadata": {
        "id": "M6VV5LbEF5-6"
      },
      "outputs": [],
      "source": [
        "# creating dataframe after dropping attributes and hours cols\n",
        "business_df_1 = business_df.drop(day_col+attributes_col, axis=1)"
      ]
    },
    {
      "cell_type": "markdown",
      "metadata": {
        "id": "rPQgMugLxoiI"
      },
      "source": [
        "#### 2 Dropping null values form business df except for attributes\n",
        "\n",
        "\n",
        "#### 1.   Replacing null values in attributes by 0 and converting true false to 1 and 0\n",
        "\n"
      ]
    },
    {
      "cell_type": "code",
      "execution_count": null,
      "metadata": {
        "id": "4_JQhY7uCbA1"
      },
      "outputs": [],
      "source": [
        "hours_attr = business_df[day_col + attributes_col].fillna(0).replace(['True', 'False', 'None'], [1, 0, 0])"
      ]
    },
    {
      "cell_type": "code",
      "execution_count": null,
      "metadata": {
        "id": "6ymiakySw9yu"
      },
      "outputs": [],
      "source": [
        "#converting true false values to one hot encoded values\n",
        "for col in attributes_col:\n",
        "    try:\n",
        "        hours_attr[col] = hours_attr[col].astype(int).fillna(0)\n",
        "    except Exception as e:\n",
        "        continue"
      ]
    },
    {
      "cell_type": "code",
      "execution_count": null,
      "metadata": {
        "colab": {
          "base_uri": "https://localhost:8080/"
        },
        "id": "LsUqILD-JLYM",
        "outputId": "d8abf782-6d0b-4e01-b7a6-348f62635c10"
      },
      "outputs": [
        {
          "data": {
            "text/plain": [
              "[]"
            ]
          },
          "execution_count": 24,
          "metadata": {},
          "output_type": "execute_result"
        }
      ],
      "source": [
        "# finding days which are having 0 values lesser then 0.2% of the observations\n",
        "[col for col in day_col if sum(hours_attr[col] == 0) < hours_attr.shape[0] / 500]"
      ]
    },
    {
      "cell_type": "code",
      "execution_count": null,
      "metadata": {
        "id": "hOmM-rUtLNQH"
      },
      "outputs": [],
      "source": [
        "#finding attributes which are less then 1% and dropping them \n",
        "mapping = hours_attr[attributes_col].sum(axis=0) < hours_attr.shape[0] * 0.01\n",
        "for i in mapping.iteritems():\n",
        "  if i[1] == True:\n",
        "    hours_attr.drop(i[0], axis=1, inplace=True)\n",
        "    attributes_col.remove(i[0])"
      ]
    },
    {
      "cell_type": "code",
      "execution_count": null,
      "metadata": {
        "colab": {
          "base_uri": "https://localhost:8080/"
        },
        "id": "wYDm7BDTv5Rj",
        "outputId": "26f85594-10c4-4a12-9981-e5db92397d9b"
      },
      "outputs": [
        {
          "data": {
            "text/plain": [
              "attributes_BusinessAcceptsCreditCards    False\n",
              "attributes_BikeParking                   False\n",
              "attributes_RestaurantsPriceRange2        False\n",
              "attributes_RestaurantsTakeOut            False\n",
              "attributes_RestaurantsDelivery           False\n",
              "attributes_Caters                        False\n",
              "attributes_WheelchairAccessible          False\n",
              "attributes_HappyHour                     False\n",
              "attributes_OutdoorSeating                False\n",
              "attributes_HasTV                         False\n",
              "attributes_RestaurantsReservations       False\n",
              "attributes_DogsAllowed                   False\n",
              "attributes_GoodForKids                   False\n",
              "attributes_RestaurantsTableService       False\n",
              "attributes_RestaurantsGoodForGroups      False\n",
              "attributes_DriveThru                     False\n",
              "attributes_BYOB                          False\n",
              "attributes_Corkage                       False\n",
              "dtype: bool"
            ]
          },
          "execution_count": 26,
          "metadata": {},
          "output_type": "execute_result"
        }
      ],
      "source": [
        "#checking for dropped attributes\n",
        "hours_attr[attributes_col].sum(axis=0) < hours_attr.shape[0] * 0.01"
      ]
    },
    {
      "cell_type": "markdown",
      "metadata": {
        "id": "LEoP4Sb70ASn"
      },
      "source": [
        "#### 2. dropping null values from business df except for attributes and hours"
      ]
    },
    {
      "cell_type": "code",
      "execution_count": null,
      "metadata": {
        "colab": {
          "base_uri": "https://localhost:8080/"
        },
        "id": "bQV-wCSQ8Le_",
        "outputId": "ba2e9585-3d41-4b07-bcef-be894dc5b809"
      },
      "outputs": [
        {
          "data": {
            "text/plain": [
              "business_id     0\n",
              "name            0\n",
              "address         0\n",
              "city            0\n",
              "state           0\n",
              "postal_code     0\n",
              "latitude        0\n",
              "longitude       0\n",
              "stars           0\n",
              "review_count    0\n",
              "is_open         0\n",
              "dtype: int64"
            ]
          },
          "execution_count": 27,
          "metadata": {},
          "output_type": "execute_result"
        }
      ],
      "source": [
        "#checking for null values\n",
        "business_df_1.isna().sum()"
      ]
    },
    {
      "cell_type": "code",
      "execution_count": null,
      "metadata": {
        "colab": {
          "base_uri": "https://localhost:8080/"
        },
        "id": "CItTyBJtHLcF",
        "outputId": "c7dd4863-b14a-4c32-f60c-c636bcc1587c"
      },
      "outputs": [
        {
          "name": "stdout",
          "output_type": "stream",
          "text": [
            "Shape of final_Business_df shape : (21057, 11)\n"
          ]
        }
      ],
      "source": [
        "print(\"Shape of final_Business_df shape : {}\".format(business_df_1.shape))"
      ]
    },
    {
      "cell_type": "code",
      "execution_count": null,
      "metadata": {
        "colab": {
          "base_uri": "https://localhost:8080/"
        },
        "id": "5WQ17quJGkxo",
        "outputId": "e730c2d2-08ce-4436-f7b1-5dff3dc13a6a"
      },
      "outputs": [
        {
          "data": {
            "text/plain": [
              "(21057, 50)"
            ]
          },
          "execution_count": 29,
          "metadata": {},
          "output_type": "execute_result"
        }
      ],
      "source": [
        "# concatenating final business df with hours feature\n",
        "business_df_new = business_df_1.join(hours_attr, how='inner')\n",
        "business_df_new.shape"
      ]
    },
    {
      "cell_type": "code",
      "execution_count": null,
      "metadata": {
        "colab": {
          "base_uri": "https://localhost:8080/"
        },
        "id": "4fNxB-3MHXbB",
        "outputId": "e3068084-daf0-4ad0-d714-a121ceca6bb1"
      },
      "outputs": [
        {
          "name": "stdout",
          "output_type": "stream",
          "text": [
            "Null values in the dataframe : 0\n"
          ]
        }
      ],
      "source": [
        "print(f\"Null values in the dataframe : {sum(business_df_new.isna().sum())}\")"
      ]
    },
    {
      "cell_type": "code",
      "execution_count": null,
      "metadata": {
        "colab": {
          "base_uri": "https://localhost:8080/"
        },
        "id": "KCaV1XloaBev",
        "outputId": "c393eaa7-db89-4f3f-ce64-d0b668940831"
      },
      "outputs": [
        {
          "data": {
            "text/plain": [
              "business_id                               object\n",
              "name                                      object\n",
              "address                                   object\n",
              "city                                      object\n",
              "state                                     object\n",
              "postal_code                               object\n",
              "latitude                                 float64\n",
              "longitude                                float64\n",
              "stars                                    float64\n",
              "review_count                               int64\n",
              "is_open                                    int64\n",
              "hours_Monday                              object\n",
              "hours_Tuesday                             object\n",
              "hours_Wednesday                           object\n",
              "hours_Thursday                            object\n",
              "hours_Friday                              object\n",
              "hours_Saturday                            object\n",
              "hours_Sunday                              object\n",
              "attributes_BusinessAcceptsCreditCards      int32\n",
              "attributes_BikeParking                     int32\n",
              "attributes_RestaurantsPriceRange2          int32\n",
              "attributes_RestaurantsTakeOut              int32\n",
              "attributes_RestaurantsDelivery             int32\n",
              "attributes_Caters                          int32\n",
              "attributes_WiFi                           object\n",
              "attributes_BusinessParking                object\n",
              "attributes_WheelchairAccessible            int32\n",
              "attributes_HappyHour                       int32\n",
              "attributes_OutdoorSeating                  int32\n",
              "attributes_HasTV                           int32\n",
              "attributes_RestaurantsReservations         int32\n",
              "attributes_DogsAllowed                     int32\n",
              "attributes_Alcohol                        object\n",
              "attributes_GoodForKids                     int32\n",
              "attributes_RestaurantsAttire              object\n",
              "attributes_Ambience                       object\n",
              "attributes_RestaurantsTableService         int32\n",
              "attributes_RestaurantsGoodForGroups        int32\n",
              "attributes_DriveThru                       int32\n",
              "attributes_NoiseLevel                     object\n",
              "attributes_GoodForMeal                    object\n",
              "attributes_Smoking                        object\n",
              "attributes_Music                          object\n",
              "attributes_BestNights                     object\n",
              "attributes_BYOB                            int32\n",
              "attributes_Corkage                         int32\n",
              "attributes_BYOBCorkage                    object\n",
              "attributes_HairSpecializesIn              object\n",
              "attributes_AgesAllowed                    object\n",
              "attributes_DietaryRestrictions            object\n",
              "dtype: object"
            ]
          },
          "execution_count": 31,
          "metadata": {},
          "output_type": "execute_result"
        }
      ],
      "source": [
        "#checking for data types \n",
        "business_df_new.dtypes"
      ]
    },
    {
      "cell_type": "code",
      "execution_count": null,
      "metadata": {
        "colab": {
          "base_uri": "https://localhost:8080/"
        },
        "id": "n6LiPMX5Zu6B",
        "outputId": "9285e61e-bc03-46d3-9b8b-68d0c494cd25"
      },
      "outputs": [
        {
          "data": {
            "text/plain": [
              "['attributes_WiFi',\n",
              " 'attributes_BusinessParking',\n",
              " 'attributes_Alcohol',\n",
              " 'attributes_RestaurantsAttire',\n",
              " 'attributes_Ambience',\n",
              " 'attributes_NoiseLevel',\n",
              " 'attributes_GoodForMeal',\n",
              " 'attributes_Smoking',\n",
              " 'attributes_Music',\n",
              " 'attributes_BestNights',\n",
              " 'attributes_BYOBCorkage',\n",
              " 'attributes_HairSpecializesIn',\n",
              " 'attributes_AgesAllowed',\n",
              " 'attributes_DietaryRestrictions']"
            ]
          },
          "execution_count": 32,
          "metadata": {},
          "output_type": "execute_result"
        }
      ],
      "source": [
        "# filtering on all object type attributes for further preprocessing\n",
        "attr_object_dtype = business_df_new[attributes_col].dtypes[business_df_new[attributes_col].dtypes == 'object'].index.values.tolist()\n",
        "attr_object_dtype"
      ]
    },
    {
      "cell_type": "code",
      "execution_count": null,
      "metadata": {
        "id": "MBeohBoNhLzh"
      },
      "outputs": [],
      "source": [
        "# dropping columns having  missing values greater than 90%\n",
        "cols_to_drop = []\n",
        "rem_attr_object_dtype = attr_object_dtype[:]\n",
        "dict_cols = []\n",
        "for col in attr_object_dtype:\n",
        "  if business_df_new[col].value_counts()[0] > (business_df_new.shape[0] * 0.9):\n",
        "    cols_to_drop.append(col)\n",
        "    rem_attr_object_dtype.remove(col)\n",
        "  else:\n",
        "    for idx in business_df_new[col].value_counts().index:\n",
        "      if type(idx) == str and idx.startswith('{'):\n",
        "        dict_cols.append(col)\n",
        "        rem_attr_object_dtype.remove(col)\n",
        "        break"
      ]
    },
    {
      "cell_type": "code",
      "execution_count": null,
      "metadata": {
        "colab": {
          "base_uri": "https://localhost:8080/"
        },
        "id": "Qkpt0V6emgo2",
        "outputId": "3f4cc0da-0943-4ff7-d400-8b5987f71253"
      },
      "outputs": [
        {
          "data": {
            "text/plain": [
              "['attributes_Smoking',\n",
              " 'attributes_Music',\n",
              " 'attributes_BestNights',\n",
              " 'attributes_BYOBCorkage',\n",
              " 'attributes_HairSpecializesIn',\n",
              " 'attributes_AgesAllowed',\n",
              " 'attributes_DietaryRestrictions']"
            ]
          },
          "execution_count": 34,
          "metadata": {},
          "output_type": "execute_result"
        }
      ],
      "source": [
        "cols_to_drop"
      ]
    },
    {
      "cell_type": "code",
      "execution_count": null,
      "metadata": {
        "colab": {
          "base_uri": "https://localhost:8080/"
        },
        "id": "OrkuC26xmchT",
        "outputId": "9acd63c8-0e85-4a2d-9786-0541b6622a66"
      },
      "outputs": [
        {
          "data": {
            "text/plain": [
              "['attributes_BusinessParking', 'attributes_Ambience', 'attributes_GoodForMeal']"
            ]
          },
          "execution_count": 35,
          "metadata": {},
          "output_type": "execute_result"
        }
      ],
      "source": [
        "# columns containing dictionary as string or contain multivalue.\n",
        "dict_cols"
      ]
    },
    {
      "cell_type": "code",
      "execution_count": null,
      "metadata": {
        "id": "NlimAezLiX1U"
      },
      "outputs": [],
      "source": [
        "# dropping the above listed columns with missing values > 90%\n",
        "business_df_new.drop(cols_to_drop, inplace=True, axis=1)"
      ]
    },
    {
      "cell_type": "markdown",
      "metadata": {
        "id": "e-_QYJtCy3DC"
      },
      "source": [
        "#### 3. Unpacking nested json columns:\n",
        "\n",
        "\n",
        "1.   'attributes_BusinessParking'\n",
        "2.   'attributes_Ambience'\n",
        "3.   'attributes_GoodForMeal'"
      ]
    },
    {
      "cell_type": "code",
      "execution_count": null,
      "metadata": {
        "id": "nJVN2Teoxhmn"
      },
      "outputs": [],
      "source": [
        "#Unpacking nested json values\n",
        "nested_dfs = []\n",
        "for col in dict_cols:\n",
        "  idx_dict = business_df_new[col][business_df_new[col] != 0].index\n",
        "  idx_values = business_df_new[col][business_df_new[col] != 0].values.tolist()\n",
        "  idx_values = list(map(eval, idx_values))\n",
        "  df = pd.DataFrame(idx_values, index=idx_dict)\n",
        "  df.columns = [col + '_' + name for name in df.columns]\n",
        "  nested_dfs.append(df.fillna(0).astype(int))"
      ]
    },
    {
      "cell_type": "code",
      "execution_count": null,
      "metadata": {
        "colab": {
          "base_uri": "https://localhost:8080/"
        },
        "id": "H2Ves9CJzRYM",
        "outputId": "9ec01ba7-7bbb-4e0f-8b10-ea06e2530329"
      },
      "outputs": [
        {
          "data": {
            "text/plain": [
              "(attributes_BusinessParking_garage       0\n",
              " attributes_BusinessParking_street       0\n",
              " attributes_BusinessParking_validated    0\n",
              " attributes_BusinessParking_lot          0\n",
              " attributes_BusinessParking_valet        0\n",
              " dtype: int64,\n",
              " attributes_Ambience_touristy    0\n",
              " attributes_Ambience_hipster     0\n",
              " attributes_Ambience_romantic    0\n",
              " attributes_Ambience_divey       0\n",
              " attributes_Ambience_intimate    0\n",
              " attributes_Ambience_trendy      0\n",
              " attributes_Ambience_upscale     0\n",
              " attributes_Ambience_classy      0\n",
              " attributes_Ambience_casual      0\n",
              " dtype: int64,\n",
              " attributes_GoodForMeal_dessert      0\n",
              " attributes_GoodForMeal_latenight    0\n",
              " attributes_GoodForMeal_lunch        0\n",
              " attributes_GoodForMeal_dinner       0\n",
              " attributes_GoodForMeal_brunch       0\n",
              " attributes_GoodForMeal_breakfast    0\n",
              " dtype: int64)"
            ]
          },
          "execution_count": 38,
          "metadata": {},
          "output_type": "execute_result"
        }
      ],
      "source": [
        "# checking for null values in nested dataframes\n",
        "nested_dfs[0].isna().sum(), nested_dfs[1].isna().sum(), nested_dfs[2].isna().sum()"
      ]
    },
    {
      "cell_type": "code",
      "execution_count": null,
      "metadata": {
        "id": "r9JK4fJ01Yoz"
      },
      "outputs": [],
      "source": [
        "#Dropping original nested columns\n",
        "business_df_new.drop(dict_cols, axis=1, inplace=True)"
      ]
    },
    {
      "cell_type": "markdown",
      "metadata": {
        "id": "dCy-aemFzUVG"
      },
      "source": [
        "#### 4. Merging the nested dfs"
      ]
    },
    {
      "cell_type": "code",
      "execution_count": null,
      "metadata": {
        "colab": {
          "base_uri": "https://localhost:8080/"
        },
        "id": "UhsApBbzz97U",
        "outputId": "ec4c461c-9743-40e7-a5ae-5c97e6788a0b"
      },
      "outputs": [
        {
          "data": {
            "text/plain": [
              "Index(['business_id', 'name', 'address', 'city', 'state', 'postal_code',\n",
              "       'latitude', 'longitude', 'stars', 'review_count', 'is_open',\n",
              "       'hours_Monday', 'hours_Tuesday', 'hours_Wednesday', 'hours_Thursday',\n",
              "       'hours_Friday', 'hours_Saturday', 'hours_Sunday',\n",
              "       'attributes_BusinessAcceptsCreditCards', 'attributes_BikeParking',\n",
              "       'attributes_RestaurantsPriceRange2', 'attributes_RestaurantsTakeOut',\n",
              "       'attributes_RestaurantsDelivery', 'attributes_Caters',\n",
              "       'attributes_WiFi', 'attributes_WheelchairAccessible',\n",
              "       'attributes_HappyHour', 'attributes_OutdoorSeating', 'attributes_HasTV',\n",
              "       'attributes_RestaurantsReservations', 'attributes_DogsAllowed',\n",
              "       'attributes_Alcohol', 'attributes_GoodForKids',\n",
              "       'attributes_RestaurantsAttire', 'attributes_RestaurantsTableService',\n",
              "       'attributes_RestaurantsGoodForGroups', 'attributes_DriveThru',\n",
              "       'attributes_NoiseLevel', 'attributes_BYOB', 'attributes_Corkage',\n",
              "       'attributes_BusinessParking_garage',\n",
              "       'attributes_BusinessParking_street',\n",
              "       'attributes_BusinessParking_validated',\n",
              "       'attributes_BusinessParking_lot', 'attributes_BusinessParking_valet',\n",
              "       'attributes_Ambience_touristy', 'attributes_Ambience_hipster',\n",
              "       'attributes_Ambience_romantic', 'attributes_Ambience_divey',\n",
              "       'attributes_Ambience_intimate', 'attributes_Ambience_trendy',\n",
              "       'attributes_Ambience_upscale', 'attributes_Ambience_classy',\n",
              "       'attributes_Ambience_casual', 'attributes_GoodForMeal_dessert',\n",
              "       'attributes_GoodForMeal_latenight', 'attributes_GoodForMeal_lunch',\n",
              "       'attributes_GoodForMeal_dinner', 'attributes_GoodForMeal_brunch',\n",
              "       'attributes_GoodForMeal_breakfast'],\n",
              "      dtype='object')"
            ]
          },
          "execution_count": 40,
          "metadata": {},
          "output_type": "execute_result"
        }
      ],
      "source": [
        "final_business_df = pd.concat([business_df_new]+nested_dfs, axis=1)\n",
        "final_business_df.fillna(0, inplace=True)\n",
        "final_business_df.shape\n",
        "final_business_df.columns"
      ]
    },
    {
      "cell_type": "code",
      "execution_count": null,
      "metadata": {
        "colab": {
          "base_uri": "https://localhost:8080/"
        },
        "id": "y2xN_wPU-8Od",
        "outputId": "24543ee8-3359-4974-d155-c1daef605cc5"
      },
      "outputs": [
        {
          "name": "stdout",
          "output_type": "stream",
          "text": [
            "Shape of Business_DF : (21057, 60)\n"
          ]
        }
      ],
      "source": [
        "print(\"Shape of Business_DF : {}\".format(final_business_df.shape))"
      ]
    },
    {
      "cell_type": "markdown",
      "metadata": {
        "id": "xDl50s0LzcBN"
      },
      "source": [
        "#### 5. One hot encoding the columns which we get from nested dfs"
      ]
    },
    {
      "cell_type": "code",
      "execution_count": null,
      "metadata": {
        "id": "0j3nLSim4R7r"
      },
      "outputs": [],
      "source": [
        "# one hot encoding nested json values\n",
        "for col in rem_attr_object_dtype:\n",
        "  df = pd.get_dummies(final_business_df[col])\n",
        "  final_business_df.drop(col, axis=1, inplace=True)\n",
        "  df = df[df.columns[1:]]\n",
        "  df.columns = [col + name for name in df.columns]\n",
        "  final_business_df = final_business_df.join(df)"
      ]
    },
    {
      "cell_type": "code",
      "execution_count": null,
      "metadata": {
        "colab": {
          "base_uri": "https://localhost:8080/"
        },
        "id": "DrYVWu1Z_KZt",
        "outputId": "df2b0da5-2a67-4f7d-dafc-949a664ae0b5"
      },
      "outputs": [
        {
          "data": {
            "text/plain": [
              "(21057, 82)"
            ]
          },
          "execution_count": 43,
          "metadata": {},
          "output_type": "execute_result"
        }
      ],
      "source": [
        "final_business_df.shape"
      ]
    },
    {
      "cell_type": "code",
      "execution_count": null,
      "metadata": {
        "id": "XXnIrDNpfFdX"
      },
      "outputs": [],
      "source": [
        "final_business_df.reset_index(drop=True, inplace=True)"
      ]
    },
    {
      "cell_type": "markdown",
      "metadata": {
        "id": "Xf_iI1b_1A6_"
      },
      "source": [
        "#### 6. Converting daily hours to individual columns"
      ]
    },
    {
      "cell_type": "markdown",
      "metadata": {
        "id": "uujpD6ptIKNz"
      },
      "source": [
        "##### Handling missing values and dropping business which are having all days hours value as 0"
      ]
    },
    {
      "cell_type": "code",
      "execution_count": null,
      "metadata": {
        "colab": {
          "base_uri": "https://localhost:8080/",
          "height": 424
        },
        "id": "mDVsEFALBMq9",
        "outputId": "258e4d32-3432-48ce-dd06-1e1c894c5f77"
      },
      "outputs": [
        {
          "data": {
            "text/html": [
              "<div>\n",
              "<style scoped>\n",
              "    .dataframe tbody tr th:only-of-type {\n",
              "        vertical-align: middle;\n",
              "    }\n",
              "\n",
              "    .dataframe tbody tr th {\n",
              "        vertical-align: top;\n",
              "    }\n",
              "\n",
              "    .dataframe thead th {\n",
              "        text-align: right;\n",
              "    }\n",
              "</style>\n",
              "<table border=\"1\" class=\"dataframe\">\n",
              "  <thead>\n",
              "    <tr style=\"text-align: right;\">\n",
              "      <th></th>\n",
              "      <th>hours_Monday</th>\n",
              "      <th>hours_Tuesday</th>\n",
              "      <th>hours_Wednesday</th>\n",
              "      <th>hours_Thursday</th>\n",
              "      <th>hours_Friday</th>\n",
              "      <th>hours_Saturday</th>\n",
              "      <th>hours_Sunday</th>\n",
              "    </tr>\n",
              "  </thead>\n",
              "  <tbody>\n",
              "    <tr>\n",
              "      <th>0</th>\n",
              "      <td>7:0-20:0</td>\n",
              "      <td>7:0-20:0</td>\n",
              "      <td>7:0-20:0</td>\n",
              "      <td>7:0-20:0</td>\n",
              "      <td>7:0-21:0</td>\n",
              "      <td>7:0-21:0</td>\n",
              "      <td>7:0-21:0</td>\n",
              "    </tr>\n",
              "    <tr>\n",
              "      <th>1</th>\n",
              "      <td>0:0-0:0</td>\n",
              "      <td>6:0-22:0</td>\n",
              "      <td>6:0-22:0</td>\n",
              "      <td>6:0-22:0</td>\n",
              "      <td>9:0-0:0</td>\n",
              "      <td>9:0-22:0</td>\n",
              "      <td>8:0-22:0</td>\n",
              "    </tr>\n",
              "    <tr>\n",
              "      <th>2</th>\n",
              "      <td>0:0-0:0</td>\n",
              "      <td>6:0-21:0</td>\n",
              "      <td>6:0-21:0</td>\n",
              "      <td>6:0-16:0</td>\n",
              "      <td>6:0-16:0</td>\n",
              "      <td>6:0-17:0</td>\n",
              "      <td>6:0-21:0</td>\n",
              "    </tr>\n",
              "    <tr>\n",
              "      <th>3</th>\n",
              "      <td>11:0-14:0</td>\n",
              "      <td>11:0-14:0</td>\n",
              "      <td>11:0-14:0</td>\n",
              "      <td>11:0-14:0</td>\n",
              "      <td>11:0-14:0</td>\n",
              "      <td>5:0-10:0</td>\n",
              "      <td>15:0-18:0</td>\n",
              "    </tr>\n",
              "    <tr>\n",
              "      <th>4</th>\n",
              "      <td>10:0-18:0</td>\n",
              "      <td>10:0-20:0</td>\n",
              "      <td>10:0-20:0</td>\n",
              "      <td>10:0-20:0</td>\n",
              "      <td>10:0-20:0</td>\n",
              "      <td>10:0-20:0</td>\n",
              "      <td>0</td>\n",
              "    </tr>\n",
              "    <tr>\n",
              "      <th>...</th>\n",
              "      <td>...</td>\n",
              "      <td>...</td>\n",
              "      <td>...</td>\n",
              "      <td>...</td>\n",
              "      <td>...</td>\n",
              "      <td>...</td>\n",
              "      <td>...</td>\n",
              "    </tr>\n",
              "    <tr>\n",
              "      <th>21052</th>\n",
              "      <td>9:0-19:30</td>\n",
              "      <td>9:0-19:30</td>\n",
              "      <td>9:0-19:30</td>\n",
              "      <td>9:0-19:30</td>\n",
              "      <td>9:0-17:0</td>\n",
              "      <td>11:0-17:0</td>\n",
              "      <td>11:0-19:30</td>\n",
              "    </tr>\n",
              "    <tr>\n",
              "      <th>21053</th>\n",
              "      <td>0:0-0:0</td>\n",
              "      <td>16:0-21:0</td>\n",
              "      <td>16:0-21:0</td>\n",
              "      <td>16:0-21:0</td>\n",
              "      <td>16:0-22:0</td>\n",
              "      <td>15:0-22:0</td>\n",
              "      <td>12:0-21:0</td>\n",
              "    </tr>\n",
              "    <tr>\n",
              "      <th>21054</th>\n",
              "      <td>0:0-0:0</td>\n",
              "      <td>0:0-0:0</td>\n",
              "      <td>0:0-0:0</td>\n",
              "      <td>0:0-0:0</td>\n",
              "      <td>0:0-0:0</td>\n",
              "      <td>0:0-0:0</td>\n",
              "      <td>0:0-0:0</td>\n",
              "    </tr>\n",
              "    <tr>\n",
              "      <th>21055</th>\n",
              "      <td>0:0-0:0</td>\n",
              "      <td>0:0-17:0</td>\n",
              "      <td>0:0-0:0</td>\n",
              "      <td>0:0-0:0</td>\n",
              "      <td>0:0-0:0</td>\n",
              "      <td>0:0-0:0</td>\n",
              "      <td>0:0-0:0</td>\n",
              "    </tr>\n",
              "    <tr>\n",
              "      <th>21056</th>\n",
              "      <td>0:0-0:0</td>\n",
              "      <td>0:0-0:0</td>\n",
              "      <td>0:0-0:0</td>\n",
              "      <td>0:0-0:0</td>\n",
              "      <td>0:0-0:0</td>\n",
              "      <td>0:0-0:0</td>\n",
              "      <td>0:0-0:0</td>\n",
              "    </tr>\n",
              "  </tbody>\n",
              "</table>\n",
              "<p>21057 rows × 7 columns</p>\n",
              "</div>"
            ],
            "text/plain": [
              "      hours_Monday hours_Tuesday hours_Wednesday hours_Thursday hours_Friday  \\\n",
              "0         7:0-20:0      7:0-20:0        7:0-20:0       7:0-20:0     7:0-21:0   \n",
              "1          0:0-0:0      6:0-22:0        6:0-22:0       6:0-22:0      9:0-0:0   \n",
              "2          0:0-0:0      6:0-21:0        6:0-21:0       6:0-16:0     6:0-16:0   \n",
              "3        11:0-14:0     11:0-14:0       11:0-14:0      11:0-14:0    11:0-14:0   \n",
              "4        10:0-18:0     10:0-20:0       10:0-20:0      10:0-20:0    10:0-20:0   \n",
              "...            ...           ...             ...            ...          ...   \n",
              "21052    9:0-19:30     9:0-19:30       9:0-19:30      9:0-19:30     9:0-17:0   \n",
              "21053      0:0-0:0     16:0-21:0       16:0-21:0      16:0-21:0    16:0-22:0   \n",
              "21054      0:0-0:0       0:0-0:0         0:0-0:0        0:0-0:0      0:0-0:0   \n",
              "21055      0:0-0:0      0:0-17:0         0:0-0:0        0:0-0:0      0:0-0:0   \n",
              "21056      0:0-0:0       0:0-0:0         0:0-0:0        0:0-0:0      0:0-0:0   \n",
              "\n",
              "      hours_Saturday hours_Sunday  \n",
              "0           7:0-21:0     7:0-21:0  \n",
              "1           9:0-22:0     8:0-22:0  \n",
              "2           6:0-17:0     6:0-21:0  \n",
              "3           5:0-10:0    15:0-18:0  \n",
              "4          10:0-20:0            0  \n",
              "...              ...          ...  \n",
              "21052      11:0-17:0   11:0-19:30  \n",
              "21053      15:0-22:0    12:0-21:0  \n",
              "21054        0:0-0:0      0:0-0:0  \n",
              "21055        0:0-0:0      0:0-0:0  \n",
              "21056        0:0-0:0      0:0-0:0  \n",
              "\n",
              "[21057 rows x 7 columns]"
            ]
          },
          "execution_count": 45,
          "metadata": {},
          "output_type": "execute_result"
        }
      ],
      "source": [
        "final_business_df[day_col]"
      ]
    },
    {
      "cell_type": "code",
      "execution_count": null,
      "metadata": {
        "colab": {
          "base_uri": "https://localhost:8080/",
          "height": 424
        },
        "id": "gp9vruxp41Hp",
        "outputId": "be31f336-fbeb-45df-9a46-04a303c40545"
      },
      "outputs": [
        {
          "data": {
            "text/html": [
              "<div>\n",
              "<style scoped>\n",
              "    .dataframe tbody tr th:only-of-type {\n",
              "        vertical-align: middle;\n",
              "    }\n",
              "\n",
              "    .dataframe tbody tr th {\n",
              "        vertical-align: top;\n",
              "    }\n",
              "\n",
              "    .dataframe thead th {\n",
              "        text-align: right;\n",
              "    }\n",
              "</style>\n",
              "<table border=\"1\" class=\"dataframe\">\n",
              "  <thead>\n",
              "    <tr style=\"text-align: right;\">\n",
              "      <th></th>\n",
              "      <th>hours_Monday</th>\n",
              "      <th>hours_Tuesday</th>\n",
              "      <th>hours_Wednesday</th>\n",
              "      <th>hours_Thursday</th>\n",
              "      <th>hours_Friday</th>\n",
              "      <th>hours_Saturday</th>\n",
              "      <th>hours_Sunday</th>\n",
              "    </tr>\n",
              "  </thead>\n",
              "  <tbody>\n",
              "    <tr>\n",
              "      <th>33</th>\n",
              "      <td>0</td>\n",
              "      <td>0</td>\n",
              "      <td>0</td>\n",
              "      <td>0</td>\n",
              "      <td>0</td>\n",
              "      <td>0</td>\n",
              "      <td>0</td>\n",
              "    </tr>\n",
              "    <tr>\n",
              "      <th>45</th>\n",
              "      <td>0</td>\n",
              "      <td>0</td>\n",
              "      <td>0</td>\n",
              "      <td>0</td>\n",
              "      <td>0</td>\n",
              "      <td>0</td>\n",
              "      <td>0</td>\n",
              "    </tr>\n",
              "    <tr>\n",
              "      <th>46</th>\n",
              "      <td>0</td>\n",
              "      <td>0</td>\n",
              "      <td>0</td>\n",
              "      <td>0</td>\n",
              "      <td>0</td>\n",
              "      <td>0</td>\n",
              "      <td>0</td>\n",
              "    </tr>\n",
              "    <tr>\n",
              "      <th>47</th>\n",
              "      <td>0</td>\n",
              "      <td>0</td>\n",
              "      <td>0</td>\n",
              "      <td>0</td>\n",
              "      <td>0</td>\n",
              "      <td>0</td>\n",
              "      <td>0</td>\n",
              "    </tr>\n",
              "    <tr>\n",
              "      <th>50</th>\n",
              "      <td>0</td>\n",
              "      <td>0</td>\n",
              "      <td>0</td>\n",
              "      <td>0</td>\n",
              "      <td>0</td>\n",
              "      <td>0</td>\n",
              "      <td>0</td>\n",
              "    </tr>\n",
              "    <tr>\n",
              "      <th>...</th>\n",
              "      <td>...</td>\n",
              "      <td>...</td>\n",
              "      <td>...</td>\n",
              "      <td>...</td>\n",
              "      <td>...</td>\n",
              "      <td>...</td>\n",
              "      <td>...</td>\n",
              "    </tr>\n",
              "    <tr>\n",
              "      <th>21024</th>\n",
              "      <td>0</td>\n",
              "      <td>0</td>\n",
              "      <td>0</td>\n",
              "      <td>0</td>\n",
              "      <td>0</td>\n",
              "      <td>0</td>\n",
              "      <td>0</td>\n",
              "    </tr>\n",
              "    <tr>\n",
              "      <th>21025</th>\n",
              "      <td>0</td>\n",
              "      <td>0</td>\n",
              "      <td>0</td>\n",
              "      <td>0</td>\n",
              "      <td>0</td>\n",
              "      <td>0</td>\n",
              "      <td>0</td>\n",
              "    </tr>\n",
              "    <tr>\n",
              "      <th>21044</th>\n",
              "      <td>0</td>\n",
              "      <td>0</td>\n",
              "      <td>0</td>\n",
              "      <td>0</td>\n",
              "      <td>0</td>\n",
              "      <td>0</td>\n",
              "      <td>0</td>\n",
              "    </tr>\n",
              "    <tr>\n",
              "      <th>21045</th>\n",
              "      <td>0</td>\n",
              "      <td>0</td>\n",
              "      <td>0</td>\n",
              "      <td>0</td>\n",
              "      <td>0</td>\n",
              "      <td>0</td>\n",
              "      <td>0</td>\n",
              "    </tr>\n",
              "    <tr>\n",
              "      <th>21047</th>\n",
              "      <td>0</td>\n",
              "      <td>0</td>\n",
              "      <td>0</td>\n",
              "      <td>0</td>\n",
              "      <td>0</td>\n",
              "      <td>0</td>\n",
              "      <td>0</td>\n",
              "    </tr>\n",
              "  </tbody>\n",
              "</table>\n",
              "<p>2118 rows × 7 columns</p>\n",
              "</div>"
            ],
            "text/plain": [
              "      hours_Monday hours_Tuesday hours_Wednesday hours_Thursday hours_Friday  \\\n",
              "33               0             0               0              0            0   \n",
              "45               0             0               0              0            0   \n",
              "46               0             0               0              0            0   \n",
              "47               0             0               0              0            0   \n",
              "50               0             0               0              0            0   \n",
              "...            ...           ...             ...            ...          ...   \n",
              "21024            0             0               0              0            0   \n",
              "21025            0             0               0              0            0   \n",
              "21044            0             0               0              0            0   \n",
              "21045            0             0               0              0            0   \n",
              "21047            0             0               0              0            0   \n",
              "\n",
              "      hours_Saturday hours_Sunday  \n",
              "33                 0            0  \n",
              "45                 0            0  \n",
              "46                 0            0  \n",
              "47                 0            0  \n",
              "50                 0            0  \n",
              "...              ...          ...  \n",
              "21024              0            0  \n",
              "21025              0            0  \n",
              "21044              0            0  \n",
              "21045              0            0  \n",
              "21047              0            0  \n",
              "\n",
              "[2118 rows x 7 columns]"
            ]
          },
          "execution_count": 46,
          "metadata": {},
          "output_type": "execute_result"
        }
      ],
      "source": [
        "#looking for rows with missing days\n",
        "missing_days = final_business_df.index[np.all(final_business_df[day_col] == 0, axis=1)]\n",
        "final_business_df[day_col].iloc[missing_days, :]"
      ]
    },
    {
      "cell_type": "code",
      "execution_count": null,
      "metadata": {
        "id": "AuI0UMVjG4tc"
      },
      "outputs": [],
      "source": [
        "#dropping rows where the restaurant remained closed for all 7 days \n",
        "final_business_df.drop(missing_days, axis=0, inplace=True)"
      ]
    },
    {
      "cell_type": "code",
      "execution_count": null,
      "metadata": {
        "colab": {
          "base_uri": "https://localhost:8080/"
        },
        "id": "G4Qb9kOmHLGK",
        "outputId": "23b31d5f-f6cd-4687-e6d1-7f83613c1314"
      },
      "outputs": [
        {
          "data": {
            "text/plain": [
              "(18939, 82)"
            ]
          },
          "execution_count": 48,
          "metadata": {},
          "output_type": "execute_result"
        }
      ],
      "source": [
        "#reset index of dataframe\n",
        "final_business_df.reset_index(inplace=True, drop=True)\n",
        "final_business_df.shape"
      ]
    },
    {
      "cell_type": "code",
      "execution_count": null,
      "metadata": {
        "colab": {
          "base_uri": "https://localhost:8080/"
        },
        "id": "abiy7OocHC2p",
        "outputId": "30a751ab-05aa-441b-9b75-0ded285b1c06"
      },
      "outputs": [
        {
          "data": {
            "text/plain": [
              "(18939, 7)"
            ]
          },
          "execution_count": 49,
          "metadata": {},
          "output_type": "execute_result"
        }
      ],
      "source": [
        "# imputing the missing values with the most frequent values using simple imputer along rows\n",
        "imputer = SimpleImputer(missing_values=0, strategy='most_frequent')\n",
        "X = imputer.fit_transform(final_business_df[day_col].T).T\n",
        "X.shape"
      ]
    },
    {
      "cell_type": "code",
      "execution_count": null,
      "metadata": {
        "id": "QiqGskk-4ppu"
      },
      "outputs": [],
      "source": [
        "final_business_df[day_col] = X"
      ]
    },
    {
      "cell_type": "code",
      "execution_count": null,
      "metadata": {
        "colab": {
          "base_uri": "https://localhost:8080/"
        },
        "id": "N9eiZDntHzQp",
        "outputId": "10aa36c3-31d2-4048-8fbc-01d61c140334"
      },
      "outputs": [
        {
          "data": {
            "text/plain": [
              "hours_Monday       0\n",
              "hours_Tuesday      0\n",
              "hours_Wednesday    0\n",
              "hours_Thursday     0\n",
              "hours_Friday       0\n",
              "hours_Saturday     0\n",
              "hours_Sunday       0\n",
              "dtype: int64"
            ]
          },
          "execution_count": 51,
          "metadata": {},
          "output_type": "execute_result"
        }
      ],
      "source": [
        "# checking for null values\n",
        "final_business_df[day_col].isna().sum()"
      ]
    },
    {
      "cell_type": "markdown",
      "metadata": {
        "id": "e45p9yLbmKng"
      },
      "source": [
        "Some of the shops are having working hours such as 0:0-0:0, and 0:0-0:0 on the next corresponding day too, indicating that these shops are probably an online business. Where as 0 indicates the shop was not open at all."
      ]
    },
    {
      "cell_type": "markdown",
      "metadata": {
        "id": "0_IeVPlzITUo"
      },
      "source": [
        "#### Converting hours interval to open and closing timestamp columns"
      ]
    },
    {
      "cell_type": "code",
      "execution_count": null,
      "metadata": {
        "id": "_lqS328dgGUC"
      },
      "outputs": [],
      "source": [
        "for day in day_col:\n",
        "  df = pd.DataFrame(final_business_df[day].str.split('-').values)\n",
        "  df = pd.DataFrame(df[0].tolist(), columns = [day+'_opening', day+ '_closing'])\n",
        "  final_business_df.drop(day, axis=1, inplace=True)\n",
        "  final_business_df = pd.concat([final_business_df, df], axis=1)"
      ]
    },
    {
      "cell_type": "code",
      "execution_count": null,
      "metadata": {
        "colab": {
          "base_uri": "https://localhost:8080/"
        },
        "id": "BQlyuoCuKEgv",
        "outputId": "2723be10-b5d7-43e2-8a6a-3b0f533e451b"
      },
      "outputs": [
        {
          "data": {
            "text/plain": [
              "(18939, 89)"
            ]
          },
          "execution_count": 53,
          "metadata": {},
          "output_type": "execute_result"
        }
      ],
      "source": [
        "final_business_df.shape"
      ]
    },
    {
      "cell_type": "code",
      "execution_count": null,
      "metadata": {
        "colab": {
          "base_uri": "https://localhost:8080/"
        },
        "id": "l6ashYpD4GFP",
        "outputId": "9b6c8d42-263e-44d0-d316-e0bc7ffb911e"
      },
      "outputs": [
        {
          "data": {
            "text/plain": [
              "['hours_Monday_opening',\n",
              " 'hours_Monday_closing',\n",
              " 'hours_Tuesday_opening',\n",
              " 'hours_Tuesday_closing',\n",
              " 'hours_Wednesday_opening',\n",
              " 'hours_Wednesday_closing',\n",
              " 'hours_Thursday_opening',\n",
              " 'hours_Thursday_closing',\n",
              " 'hours_Friday_opening',\n",
              " 'hours_Friday_closing',\n",
              " 'hours_Saturday_opening',\n",
              " 'hours_Saturday_closing',\n",
              " 'hours_Sunday_opening',\n",
              " 'hours_Sunday_closing']"
            ]
          },
          "execution_count": 54,
          "metadata": {},
          "output_type": "execute_result"
        }
      ],
      "source": [
        "day_col_new = []\n",
        "for day in day_col:\n",
        "  day_col_new.extend([day+'_opening', day+ '_closing'])\n",
        "day_col_new"
      ]
    },
    {
      "cell_type": "code",
      "execution_count": null,
      "metadata": {
        "id": "__kvvwjnLyjq"
      },
      "outputs": [],
      "source": [
        "for col in day_col_new:\n",
        "# converting hours columns to datetime object\n",
        " final_business_df[col] = pd.to_datetime(final_business_df[col], format='%H:%M')"
      ]
    },
    {
      "cell_type": "code",
      "execution_count": null,
      "metadata": {
        "colab": {
          "base_uri": "https://localhost:8080/",
          "height": 488
        },
        "id": "Abl1y4EzOGHw",
        "outputId": "c889b08c-7cbb-4a66-c76c-901997c90bb4"
      },
      "outputs": [
        {
          "data": {
            "text/html": [
              "<div>\n",
              "<style scoped>\n",
              "    .dataframe tbody tr th:only-of-type {\n",
              "        vertical-align: middle;\n",
              "    }\n",
              "\n",
              "    .dataframe tbody tr th {\n",
              "        vertical-align: top;\n",
              "    }\n",
              "\n",
              "    .dataframe thead th {\n",
              "        text-align: right;\n",
              "    }\n",
              "</style>\n",
              "<table border=\"1\" class=\"dataframe\">\n",
              "  <thead>\n",
              "    <tr style=\"text-align: right;\">\n",
              "      <th></th>\n",
              "      <th>hours_Monday_opening</th>\n",
              "      <th>hours_Monday_closing</th>\n",
              "      <th>hours_Tuesday_opening</th>\n",
              "      <th>hours_Tuesday_closing</th>\n",
              "      <th>hours_Wednesday_opening</th>\n",
              "      <th>hours_Wednesday_closing</th>\n",
              "      <th>hours_Thursday_opening</th>\n",
              "      <th>hours_Thursday_closing</th>\n",
              "      <th>hours_Friday_opening</th>\n",
              "      <th>hours_Friday_closing</th>\n",
              "      <th>hours_Saturday_opening</th>\n",
              "      <th>hours_Saturday_closing</th>\n",
              "      <th>hours_Sunday_opening</th>\n",
              "      <th>hours_Sunday_closing</th>\n",
              "    </tr>\n",
              "  </thead>\n",
              "  <tbody>\n",
              "    <tr>\n",
              "      <th>0</th>\n",
              "      <td>1900-01-01 07:00:00</td>\n",
              "      <td>1900-01-01 20:00:00</td>\n",
              "      <td>1900-01-01 07:00:00</td>\n",
              "      <td>1900-01-01 20:00:00</td>\n",
              "      <td>1900-01-01 07:00:00</td>\n",
              "      <td>1900-01-01 20:00:00</td>\n",
              "      <td>1900-01-01 07:00:00</td>\n",
              "      <td>1900-01-01 20:00:00</td>\n",
              "      <td>1900-01-01 07:00:00</td>\n",
              "      <td>1900-01-01 21:00:00</td>\n",
              "      <td>1900-01-01 07:00:00</td>\n",
              "      <td>1900-01-01 21:00:00</td>\n",
              "      <td>1900-01-01 07:00:00</td>\n",
              "      <td>1900-01-01 21:00:00</td>\n",
              "    </tr>\n",
              "    <tr>\n",
              "      <th>1</th>\n",
              "      <td>1900-01-01 00:00:00</td>\n",
              "      <td>1900-01-01 00:00:00</td>\n",
              "      <td>1900-01-01 06:00:00</td>\n",
              "      <td>1900-01-01 22:00:00</td>\n",
              "      <td>1900-01-01 06:00:00</td>\n",
              "      <td>1900-01-01 22:00:00</td>\n",
              "      <td>1900-01-01 06:00:00</td>\n",
              "      <td>1900-01-01 22:00:00</td>\n",
              "      <td>1900-01-01 09:00:00</td>\n",
              "      <td>1900-01-01 00:00:00</td>\n",
              "      <td>1900-01-01 09:00:00</td>\n",
              "      <td>1900-01-01 22:00:00</td>\n",
              "      <td>1900-01-01 08:00:00</td>\n",
              "      <td>1900-01-01 22:00:00</td>\n",
              "    </tr>\n",
              "    <tr>\n",
              "      <th>2</th>\n",
              "      <td>1900-01-01 00:00:00</td>\n",
              "      <td>1900-01-01 00:00:00</td>\n",
              "      <td>1900-01-01 06:00:00</td>\n",
              "      <td>1900-01-01 21:00:00</td>\n",
              "      <td>1900-01-01 06:00:00</td>\n",
              "      <td>1900-01-01 21:00:00</td>\n",
              "      <td>1900-01-01 06:00:00</td>\n",
              "      <td>1900-01-01 16:00:00</td>\n",
              "      <td>1900-01-01 06:00:00</td>\n",
              "      <td>1900-01-01 16:00:00</td>\n",
              "      <td>1900-01-01 06:00:00</td>\n",
              "      <td>1900-01-01 17:00:00</td>\n",
              "      <td>1900-01-01 06:00:00</td>\n",
              "      <td>1900-01-01 21:00:00</td>\n",
              "    </tr>\n",
              "    <tr>\n",
              "      <th>3</th>\n",
              "      <td>1900-01-01 11:00:00</td>\n",
              "      <td>1900-01-01 14:00:00</td>\n",
              "      <td>1900-01-01 11:00:00</td>\n",
              "      <td>1900-01-01 14:00:00</td>\n",
              "      <td>1900-01-01 11:00:00</td>\n",
              "      <td>1900-01-01 14:00:00</td>\n",
              "      <td>1900-01-01 11:00:00</td>\n",
              "      <td>1900-01-01 14:00:00</td>\n",
              "      <td>1900-01-01 11:00:00</td>\n",
              "      <td>1900-01-01 14:00:00</td>\n",
              "      <td>1900-01-01 05:00:00</td>\n",
              "      <td>1900-01-01 10:00:00</td>\n",
              "      <td>1900-01-01 15:00:00</td>\n",
              "      <td>1900-01-01 18:00:00</td>\n",
              "    </tr>\n",
              "    <tr>\n",
              "      <th>4</th>\n",
              "      <td>1900-01-01 10:00:00</td>\n",
              "      <td>1900-01-01 18:00:00</td>\n",
              "      <td>1900-01-01 10:00:00</td>\n",
              "      <td>1900-01-01 20:00:00</td>\n",
              "      <td>1900-01-01 10:00:00</td>\n",
              "      <td>1900-01-01 20:00:00</td>\n",
              "      <td>1900-01-01 10:00:00</td>\n",
              "      <td>1900-01-01 20:00:00</td>\n",
              "      <td>1900-01-01 10:00:00</td>\n",
              "      <td>1900-01-01 20:00:00</td>\n",
              "      <td>1900-01-01 10:00:00</td>\n",
              "      <td>1900-01-01 20:00:00</td>\n",
              "      <td>1900-01-01 10:00:00</td>\n",
              "      <td>1900-01-01 20:00:00</td>\n",
              "    </tr>\n",
              "    <tr>\n",
              "      <th>...</th>\n",
              "      <td>...</td>\n",
              "      <td>...</td>\n",
              "      <td>...</td>\n",
              "      <td>...</td>\n",
              "      <td>...</td>\n",
              "      <td>...</td>\n",
              "      <td>...</td>\n",
              "      <td>...</td>\n",
              "      <td>...</td>\n",
              "      <td>...</td>\n",
              "      <td>...</td>\n",
              "      <td>...</td>\n",
              "      <td>...</td>\n",
              "      <td>...</td>\n",
              "    </tr>\n",
              "    <tr>\n",
              "      <th>18934</th>\n",
              "      <td>1900-01-01 09:00:00</td>\n",
              "      <td>1900-01-01 19:30:00</td>\n",
              "      <td>1900-01-01 09:00:00</td>\n",
              "      <td>1900-01-01 19:30:00</td>\n",
              "      <td>1900-01-01 09:00:00</td>\n",
              "      <td>1900-01-01 19:30:00</td>\n",
              "      <td>1900-01-01 09:00:00</td>\n",
              "      <td>1900-01-01 19:30:00</td>\n",
              "      <td>1900-01-01 09:00:00</td>\n",
              "      <td>1900-01-01 17:00:00</td>\n",
              "      <td>1900-01-01 11:00:00</td>\n",
              "      <td>1900-01-01 17:00:00</td>\n",
              "      <td>1900-01-01 11:00:00</td>\n",
              "      <td>1900-01-01 19:30:00</td>\n",
              "    </tr>\n",
              "    <tr>\n",
              "      <th>18935</th>\n",
              "      <td>1900-01-01 00:00:00</td>\n",
              "      <td>1900-01-01 00:00:00</td>\n",
              "      <td>1900-01-01 16:00:00</td>\n",
              "      <td>1900-01-01 21:00:00</td>\n",
              "      <td>1900-01-01 16:00:00</td>\n",
              "      <td>1900-01-01 21:00:00</td>\n",
              "      <td>1900-01-01 16:00:00</td>\n",
              "      <td>1900-01-01 21:00:00</td>\n",
              "      <td>1900-01-01 16:00:00</td>\n",
              "      <td>1900-01-01 22:00:00</td>\n",
              "      <td>1900-01-01 15:00:00</td>\n",
              "      <td>1900-01-01 22:00:00</td>\n",
              "      <td>1900-01-01 12:00:00</td>\n",
              "      <td>1900-01-01 21:00:00</td>\n",
              "    </tr>\n",
              "    <tr>\n",
              "      <th>18936</th>\n",
              "      <td>1900-01-01 00:00:00</td>\n",
              "      <td>1900-01-01 00:00:00</td>\n",
              "      <td>1900-01-01 00:00:00</td>\n",
              "      <td>1900-01-01 00:00:00</td>\n",
              "      <td>1900-01-01 00:00:00</td>\n",
              "      <td>1900-01-01 00:00:00</td>\n",
              "      <td>1900-01-01 00:00:00</td>\n",
              "      <td>1900-01-01 00:00:00</td>\n",
              "      <td>1900-01-01 00:00:00</td>\n",
              "      <td>1900-01-01 00:00:00</td>\n",
              "      <td>1900-01-01 00:00:00</td>\n",
              "      <td>1900-01-01 00:00:00</td>\n",
              "      <td>1900-01-01 00:00:00</td>\n",
              "      <td>1900-01-01 00:00:00</td>\n",
              "    </tr>\n",
              "    <tr>\n",
              "      <th>18937</th>\n",
              "      <td>1900-01-01 00:00:00</td>\n",
              "      <td>1900-01-01 00:00:00</td>\n",
              "      <td>1900-01-01 00:00:00</td>\n",
              "      <td>1900-01-01 17:00:00</td>\n",
              "      <td>1900-01-01 00:00:00</td>\n",
              "      <td>1900-01-01 00:00:00</td>\n",
              "      <td>1900-01-01 00:00:00</td>\n",
              "      <td>1900-01-01 00:00:00</td>\n",
              "      <td>1900-01-01 00:00:00</td>\n",
              "      <td>1900-01-01 00:00:00</td>\n",
              "      <td>1900-01-01 00:00:00</td>\n",
              "      <td>1900-01-01 00:00:00</td>\n",
              "      <td>1900-01-01 00:00:00</td>\n",
              "      <td>1900-01-01 00:00:00</td>\n",
              "    </tr>\n",
              "    <tr>\n",
              "      <th>18938</th>\n",
              "      <td>1900-01-01 00:00:00</td>\n",
              "      <td>1900-01-01 00:00:00</td>\n",
              "      <td>1900-01-01 00:00:00</td>\n",
              "      <td>1900-01-01 00:00:00</td>\n",
              "      <td>1900-01-01 00:00:00</td>\n",
              "      <td>1900-01-01 00:00:00</td>\n",
              "      <td>1900-01-01 00:00:00</td>\n",
              "      <td>1900-01-01 00:00:00</td>\n",
              "      <td>1900-01-01 00:00:00</td>\n",
              "      <td>1900-01-01 00:00:00</td>\n",
              "      <td>1900-01-01 00:00:00</td>\n",
              "      <td>1900-01-01 00:00:00</td>\n",
              "      <td>1900-01-01 00:00:00</td>\n",
              "      <td>1900-01-01 00:00:00</td>\n",
              "    </tr>\n",
              "  </tbody>\n",
              "</table>\n",
              "<p>18939 rows × 14 columns</p>\n",
              "</div>"
            ],
            "text/plain": [
              "      hours_Monday_opening hours_Monday_closing hours_Tuesday_opening  \\\n",
              "0      1900-01-01 07:00:00  1900-01-01 20:00:00   1900-01-01 07:00:00   \n",
              "1      1900-01-01 00:00:00  1900-01-01 00:00:00   1900-01-01 06:00:00   \n",
              "2      1900-01-01 00:00:00  1900-01-01 00:00:00   1900-01-01 06:00:00   \n",
              "3      1900-01-01 11:00:00  1900-01-01 14:00:00   1900-01-01 11:00:00   \n",
              "4      1900-01-01 10:00:00  1900-01-01 18:00:00   1900-01-01 10:00:00   \n",
              "...                    ...                  ...                   ...   \n",
              "18934  1900-01-01 09:00:00  1900-01-01 19:30:00   1900-01-01 09:00:00   \n",
              "18935  1900-01-01 00:00:00  1900-01-01 00:00:00   1900-01-01 16:00:00   \n",
              "18936  1900-01-01 00:00:00  1900-01-01 00:00:00   1900-01-01 00:00:00   \n",
              "18937  1900-01-01 00:00:00  1900-01-01 00:00:00   1900-01-01 00:00:00   \n",
              "18938  1900-01-01 00:00:00  1900-01-01 00:00:00   1900-01-01 00:00:00   \n",
              "\n",
              "      hours_Tuesday_closing hours_Wednesday_opening hours_Wednesday_closing  \\\n",
              "0       1900-01-01 20:00:00     1900-01-01 07:00:00     1900-01-01 20:00:00   \n",
              "1       1900-01-01 22:00:00     1900-01-01 06:00:00     1900-01-01 22:00:00   \n",
              "2       1900-01-01 21:00:00     1900-01-01 06:00:00     1900-01-01 21:00:00   \n",
              "3       1900-01-01 14:00:00     1900-01-01 11:00:00     1900-01-01 14:00:00   \n",
              "4       1900-01-01 20:00:00     1900-01-01 10:00:00     1900-01-01 20:00:00   \n",
              "...                     ...                     ...                     ...   \n",
              "18934   1900-01-01 19:30:00     1900-01-01 09:00:00     1900-01-01 19:30:00   \n",
              "18935   1900-01-01 21:00:00     1900-01-01 16:00:00     1900-01-01 21:00:00   \n",
              "18936   1900-01-01 00:00:00     1900-01-01 00:00:00     1900-01-01 00:00:00   \n",
              "18937   1900-01-01 17:00:00     1900-01-01 00:00:00     1900-01-01 00:00:00   \n",
              "18938   1900-01-01 00:00:00     1900-01-01 00:00:00     1900-01-01 00:00:00   \n",
              "\n",
              "      hours_Thursday_opening hours_Thursday_closing hours_Friday_opening  \\\n",
              "0        1900-01-01 07:00:00    1900-01-01 20:00:00  1900-01-01 07:00:00   \n",
              "1        1900-01-01 06:00:00    1900-01-01 22:00:00  1900-01-01 09:00:00   \n",
              "2        1900-01-01 06:00:00    1900-01-01 16:00:00  1900-01-01 06:00:00   \n",
              "3        1900-01-01 11:00:00    1900-01-01 14:00:00  1900-01-01 11:00:00   \n",
              "4        1900-01-01 10:00:00    1900-01-01 20:00:00  1900-01-01 10:00:00   \n",
              "...                      ...                    ...                  ...   \n",
              "18934    1900-01-01 09:00:00    1900-01-01 19:30:00  1900-01-01 09:00:00   \n",
              "18935    1900-01-01 16:00:00    1900-01-01 21:00:00  1900-01-01 16:00:00   \n",
              "18936    1900-01-01 00:00:00    1900-01-01 00:00:00  1900-01-01 00:00:00   \n",
              "18937    1900-01-01 00:00:00    1900-01-01 00:00:00  1900-01-01 00:00:00   \n",
              "18938    1900-01-01 00:00:00    1900-01-01 00:00:00  1900-01-01 00:00:00   \n",
              "\n",
              "      hours_Friday_closing hours_Saturday_opening hours_Saturday_closing  \\\n",
              "0      1900-01-01 21:00:00    1900-01-01 07:00:00    1900-01-01 21:00:00   \n",
              "1      1900-01-01 00:00:00    1900-01-01 09:00:00    1900-01-01 22:00:00   \n",
              "2      1900-01-01 16:00:00    1900-01-01 06:00:00    1900-01-01 17:00:00   \n",
              "3      1900-01-01 14:00:00    1900-01-01 05:00:00    1900-01-01 10:00:00   \n",
              "4      1900-01-01 20:00:00    1900-01-01 10:00:00    1900-01-01 20:00:00   \n",
              "...                    ...                    ...                    ...   \n",
              "18934  1900-01-01 17:00:00    1900-01-01 11:00:00    1900-01-01 17:00:00   \n",
              "18935  1900-01-01 22:00:00    1900-01-01 15:00:00    1900-01-01 22:00:00   \n",
              "18936  1900-01-01 00:00:00    1900-01-01 00:00:00    1900-01-01 00:00:00   \n",
              "18937  1900-01-01 00:00:00    1900-01-01 00:00:00    1900-01-01 00:00:00   \n",
              "18938  1900-01-01 00:00:00    1900-01-01 00:00:00    1900-01-01 00:00:00   \n",
              "\n",
              "      hours_Sunday_opening hours_Sunday_closing  \n",
              "0      1900-01-01 07:00:00  1900-01-01 21:00:00  \n",
              "1      1900-01-01 08:00:00  1900-01-01 22:00:00  \n",
              "2      1900-01-01 06:00:00  1900-01-01 21:00:00  \n",
              "3      1900-01-01 15:00:00  1900-01-01 18:00:00  \n",
              "4      1900-01-01 10:00:00  1900-01-01 20:00:00  \n",
              "...                    ...                  ...  \n",
              "18934  1900-01-01 11:00:00  1900-01-01 19:30:00  \n",
              "18935  1900-01-01 12:00:00  1900-01-01 21:00:00  \n",
              "18936  1900-01-01 00:00:00  1900-01-01 00:00:00  \n",
              "18937  1900-01-01 00:00:00  1900-01-01 00:00:00  \n",
              "18938  1900-01-01 00:00:00  1900-01-01 00:00:00  \n",
              "\n",
              "[18939 rows x 14 columns]"
            ]
          },
          "execution_count": 56,
          "metadata": {},
          "output_type": "execute_result"
        }
      ],
      "source": [
        "final_business_df[day_col_new]"
      ]
    },
    {
      "cell_type": "code",
      "execution_count": null,
      "metadata": {
        "id": "iwU7iNeWnQid",
        "outputId": "00f2a4e3-1225-4ddd-8a61-2dd9f2bfc717"
      },
      "outputs": [
        {
          "name": "stdout",
          "output_type": "stream",
          "text": [
            "Shape of final_Business_Df : (18939, 89)\n"
          ]
        }
      ],
      "source": [
        "print(\"Shape of final_Business_Df : {}\".format(final_business_df.shape))"
      ]
    },
    {
      "cell_type": "code",
      "execution_count": null,
      "metadata": {
        "id": "NXFaMtVhVcRv"
      },
      "outputs": [],
      "source": [
        "# Pushing the final_business_df to database\n",
        "if create_db:\n",
        "    final_business_df.to_sql('business_sql', conn, if_exists='replace', index=False)"
      ]
    },
    {
      "cell_type": "code",
      "execution_count": null,
      "metadata": {
        "id": "8szXwEM4Qghl"
      },
      "outputs": [],
      "source": [
        "# import shutil"
      ]
    },
    {
      "cell_type": "code",
      "execution_count": null,
      "metadata": {
        "id": "afqlwbF1QuZ2"
      },
      "outputs": [],
      "source": [
        "# from google.colab import drive\n",
        "# drive.mount('/content/drive')"
      ]
    },
    {
      "cell_type": "code",
      "execution_count": null,
      "metadata": {
        "id": "mMznpIT9Q4FC"
      },
      "outputs": [],
      "source": [
        "# %mkdir /content/drive/My Drive/Colab Notebook/"
      ]
    },
    {
      "cell_type": "code",
      "execution_count": null,
      "metadata": {
        "id": "09BwWSp9Tz-X"
      },
      "outputs": [],
      "source": [
        "#checking for database connectivity and business_df \n",
        "cursor = conn.cursor()\n",
        "# cursor.execute('''PRAGMA table_info(business_sql)''').fetchall()"
      ]
    },
    {
      "cell_type": "code",
      "execution_count": null,
      "metadata": {
        "id": "O3LIQsl6nQis"
      },
      "outputs": [],
      "source": [
        "final_business_df.to_pickle(\"Final_business_df.pkl\")"
      ]
    },
    {
      "cell_type": "markdown",
      "metadata": {
        "id": "edRWeM5GnQiu"
      },
      "source": [
        "## Performing EDA\n",
        "### Business Table"
      ]
    },
    {
      "cell_type": "code",
      "execution_count": null,
      "metadata": {
        "id": "Vwb7DcyjW4tI"
      },
      "outputs": [],
      "source": [
        "# selecting all columns from business table\n",
        "colname_query = '''\n",
        "        SELECT *\n",
        "        FROM business_sql\n",
        "        LIMIT 1\n",
        "            '''"
      ]
    },
    {
      "cell_type": "code",
      "execution_count": null,
      "metadata": {
        "id": "S4kuclvZnQk9"
      },
      "outputs": [],
      "source": [
        "# storing the result of the query in a dataframe\n",
        "business_df_columns = pd.DataFrame(cursor.execute(colname_query).description)[0].values"
      ]
    },
    {
      "cell_type": "code",
      "execution_count": null,
      "metadata": {
        "id": "JWO1mwm9nQlP"
      },
      "outputs": [],
      "source": [
        "# filtering different encoded features based on the parent feature and storing in respective parent list defined below\n",
        "key_words = ['Parking','Ambience','GoodForMeal','WiFi','Alcohol','Attire','NoiseLevel']\n",
        "parking_ , ambience , gfm , wifi , alcohol , attire_ , NL_ = [], [], [], [], [], [], []\n",
        "Misc = []\n",
        "\n",
        "for i in business_df_columns:\n",
        "    if key_words[0] in i:\n",
        "        parking_.append(i)\n",
        "    elif key_words[1] in i:\n",
        "        ambience.append(i)\n",
        "    elif key_words[2] in i:\n",
        "        gfm.append(i)\n",
        "    elif key_words[3] in i:\n",
        "        wifi.append(i)\n",
        "    elif key_words[4] in i:\n",
        "        alcohol.append(i)\n",
        "    elif key_words[5] in i:\n",
        "        attire_.append(i)\n",
        "    elif key_words[6] in i:\n",
        "        NL_.append(i)\n",
        "    else:\n",
        "        Misc.append(i)\n",
        "    "
      ]
    },
    {
      "cell_type": "code",
      "execution_count": null,
      "metadata": {
        "id": "4MCsMDopnQlY"
      },
      "outputs": [],
      "source": [
        "#Querying for Parking facilities for different restaurants\n",
        "query_parking_stars = '''\n",
        "        SELECT stars ,attributes_BikeParking , attributes_BusinessParking_garage,attributes_BusinessParking_street,\n",
        "                attributes_BusinessParking_validated,attributes_BusinessParking_lot,attributes_BusinessParking_valet\n",
        "        FROM business_sql\n",
        "    '''\n",
        "\n",
        "parking_star = cursor.execute(query_parking_stars).fetchall()"
      ]
    },
    {
      "cell_type": "code",
      "execution_count": null,
      "metadata": {
        "id": "btjq-6W5nQmr"
      },
      "outputs": [],
      "source": [
        "#Storing the result in a dataframe parking_star_df\n",
        "parking_star_df = pd.DataFrame(parking_star , columns = ['stars' ,'attributes_BikeParking','attributes_BusinessParking_garage','attributes_BusinessParking_street',\n",
        "                'attributes_BusinessParking_validated','attributes_BusinessParking_lot','attributes_BusinessParking_valet'])"
      ]
    },
    {
      "cell_type": "code",
      "execution_count": null,
      "metadata": {
        "id": "Y7GK16tTnQmy"
      },
      "outputs": [],
      "source": [
        "#Plotting the most commonly used parking \n",
        "parking_star_df.groupby(by = 'stars').sum().iloc[-3:,:].sum().sort_values().plot(kind = 'barh' , color = 'red' , alpha = 0.5 , linewidth = 10)\n",
        "plt.xlabel(\"Number of restaurants\")\n",
        "plt.ylabel(\"Parking Facility\")\n",
        "plt.title(\"Most common parking Facility at Top Rated Restaurants\")"
      ]
    },
    {
      "cell_type": "markdown",
      "metadata": {
        "id": "B1jjwQyKnQmz"
      },
      "source": [
        "* Here it can be observed that most of the top rated restaurants have a private parking lot"
      ]
    },
    {
      "cell_type": "code",
      "execution_count": null,
      "metadata": {
        "id": "XpJ_goL7nQm6"
      },
      "outputs": [],
      "source": [
        "# query for categories of ambience with their respective ratings in stars \n",
        "query_amb_stars = '''\n",
        "        SELECT stars ,attributes_Ambience_touristy,attributes_Ambience_hipster,attributes_Ambience_romantic,\n",
        "               attributes_Ambience_divey,attributes_Ambience_intimate,attributes_Ambience_trendy,attributes_Ambience_upscale,\n",
        "               attributes_Ambience_classy,attributes_Ambience_casual\n",
        "        FROM business_sql\n",
        "    '''\n",
        "\n",
        "amb_star = cursor.execute(query_amb_stars).fetchall()"
      ]
    },
    {
      "cell_type": "code",
      "execution_count": null,
      "metadata": {
        "id": "jrcA43ChnQm7"
      },
      "outputs": [],
      "source": [
        "# storing the data in a dataframe \n",
        "amb_star_df = pd.DataFrame(amb_star , columns = ['stars' ,'attributes_Ambience_touristy','attributes_Ambience_hipster','attributes_Ambience_romantic',\n",
        "               'attributes_Ambience_divey','attributes_Ambience_intimate','attributes_Ambience_trendy','attributes_Ambience_upscale',\n",
        "               'attributes_Ambience_classy','attributes_Ambience_casual'])"
      ]
    },
    {
      "cell_type": "code",
      "execution_count": null,
      "metadata": {
        "id": "wQGYDyalnQnB",
        "outputId": "8db717a6-439e-46a6-a944-2774a48b2763"
      },
      "outputs": [
        {
          "data": {
            "text/plain": [
              "Text(0.5, 1.0, 'Most commonly Preferred Ambience at Top Rated Restaurants')"
            ]
          },
          "execution_count": 72,
          "metadata": {},
          "output_type": "execute_result"
        },
        {
          "data": {
            "image/png": "[encoded data removed]",
            "text/plain": [
              "<Figure size 432x288 with 1 Axes>"
            ]
          },
          "metadata": {
            "needs_background": "light"
          },
          "output_type": "display_data"
        }
      ],
      "source": [
        "#Plotting the most commonly prefered ambience \n",
        "amb_star_df.groupby(by = 'stars').sum().iloc[-3:,:].sum().sort_values().plot(kind = 'barh' , color = 'g' , alpha = 0.5 , linewidth = 10)\n",
        "plt.xlabel(\"Number of restaurants\")\n",
        "plt.ylabel(\"Ambience Category\")\n",
        "plt.title(\"Most commonly Preferred Ambience at Top Rated Restaurants\")"
      ]
    },
    {
      "cell_type": "markdown",
      "metadata": {
        "id": "O7J61t6_nQnC"
      },
      "source": [
        "* Here it can be observed that people like to visit restaurants with a **casual / classy ambience** more often"
      ]
    },
    {
      "cell_type": "code",
      "execution_count": null,
      "metadata": {
        "id": "n_z_sIrAnQnC"
      },
      "outputs": [],
      "source": [
        "# query for categories of GoodForMeal with their respective ratings in stars \n",
        "query_gfm_stars = '''\n",
        "        SELECT stars ,attributes_GoodForMeal_dessert,attributes_GoodForMeal_latenight,attributes_GoodForMeal_lunch,\n",
        "               attributes_GoodForMeal_dinner,attributes_GoodForMeal_brunch,attributes_GoodForMeal_breakfast\n",
        "        FROM business_sql\n",
        "    '''\n",
        "\n",
        "gfm_star = cursor.execute(query_gfm_stars).fetchall()"
      ]
    },
    {
      "cell_type": "code",
      "execution_count": null,
      "metadata": {
        "id": "xCsxfR1fnQnD"
      },
      "outputs": [],
      "source": [
        "# storing the data in a dataframe \n",
        "gfm_star_df = pd.DataFrame(gfm_star , columns = ['stars' ,'attributes_GoodForMeal_dessert','attributes_GoodForMeal_latenight','attributes_GoodForMeal_lunch',\n",
        "                                                   'attributes_GoodForMeal_dinner','attributes_GoodForMeal_brunch','attributes_GoodForMeal_breakfast'])"
      ]
    },
    {
      "cell_type": "code",
      "execution_count": null,
      "metadata": {
        "id": "f_ANYScDnQnF",
        "outputId": "c0f41840-f7ce-4423-e8b4-c30a68f3a781"
      },
      "outputs": [
        {
          "data": {
            "text/plain": [
              "Text(0.5, 1.0, 'Most commonly Preferred Meal Category at Top Rated Restaurants')"
            ]
          },
          "execution_count": 75,
          "metadata": {},
          "output_type": "execute_result"
        },
        {
          "data": {
            "image/png": "[encoded data removed]",
            "text/plain": [
              "<Figure size 432x288 with 1 Axes>"
            ]
          },
          "metadata": {
            "needs_background": "light"
          },
          "output_type": "display_data"
        }
      ],
      "source": [
        "#Plotting the most commonly prefered Meals \n",
        "gfm_star_df.groupby(by = 'stars').sum().iloc[-3:,:].sum().sort_values().plot(kind = 'barh' , color = 'b' , alpha = 0.5 , linewidth = 10)\n",
        "plt.xlabel(\"Number of restaurants\")\n",
        "plt.ylabel(\"GoodForMeal Category\")\n",
        "plt.title(\"Most commonly Preferred Meal Category at Top Rated Restaurants\")"
      ]
    },
    {
      "cell_type": "markdown",
      "metadata": {
        "id": "gziTt_sVnQnF"
      },
      "source": [
        "* It can be observed that users like to eat lunch or dinner at a restaurant more than breakfast "
      ]
    },
    {
      "cell_type": "code",
      "execution_count": null,
      "metadata": {
        "id": "Ne6WZIZ5nQnF"
      },
      "outputs": [],
      "source": [
        "# querying for distribution of restaurant ratings\n",
        "\n",
        "query_rating = '''\n",
        "\n",
        "        SELECT DISTINCT business_id , stars\n",
        "        FROM business_sql\n",
        "\n",
        "'''\n",
        "\n",
        "ratings_ = cursor.execute(query_rating).fetchall()"
      ]
    },
    {
      "cell_type": "code",
      "execution_count": null,
      "metadata": {
        "id": "SAUq6fJdnQnG"
      },
      "outputs": [],
      "source": [
        "# Storing the restaurant rating for various business ids in a dataframe\n",
        "ratings_df = pd.DataFrame(ratings_ , columns = ['Business_id','Stars'])"
      ]
    },
    {
      "cell_type": "code",
      "execution_count": null,
      "metadata": {
        "id": "ACaD8gYInQnG",
        "outputId": "da53423c-8a88-421c-ee70-c960defc54dd"
      },
      "outputs": [
        {
          "data": {
            "text/plain": [
              "Text(0.5, 1.0, 'Distribution of restaurant ratings')"
            ]
          },
          "execution_count": 78,
          "metadata": {},
          "output_type": "execute_result"
        },
        {
          "data": {
            "image/png": "[encoded data removed]",
            "text/plain": [
              "<Figure size 720x720 with 1 Axes>"
            ]
          },
          "metadata": {},
          "output_type": "display_data"
        }
      ],
      "source": [
        "# plotting the distribution of ratings \n",
        "label = ratings_df['Stars'].value_counts().apply(lambda x : (x/len(ratings_df))*100).sort_values(ascending = False).index.tolist()\n",
        "val = ratings_df['Stars'].value_counts().apply(lambda x : (x/len(ratings_df))*100).sort_values(ascending = False).values.tolist()\n",
        "\n",
        "def func(pct, allvalues):\n",
        "    absolute = int(pct / 100.*np.sum(allvalues))\n",
        "    return \"{:.1f}%\".format(pct, absolute)\n",
        "\n",
        "plt.figure(figsize = (10,10))\n",
        "plt.pie(val , labels = label , autopct=lambda pct: func(pct, val) )\n",
        "plt.title(\"Distribution of restaurant ratings\",fontsize = 15)"
      ]
    },
    {
      "cell_type": "markdown",
      "metadata": {
        "id": "Cjm5kVIOnQnH"
      },
      "source": [
        "* The users have generously rated above 4.0 more than 45% of the times"
      ]
    },
    {
      "cell_type": "code",
      "execution_count": null,
      "metadata": {
        "id": "7_RVfkdWnQnH"
      },
      "outputs": [],
      "source": [
        "#Querying for the features to get most popular restaurant based on number of reviews it receives \n",
        "\n",
        "query_x = '''\n",
        "        SELECT DISTINCT name , review_count , city , stars\n",
        "        FROM business_sql\n",
        "        \n",
        "        '''\n",
        "\n",
        "name_ = cursor.execute(query_x).fetchall()"
      ]
    },
    {
      "cell_type": "code",
      "execution_count": null,
      "metadata": {
        "id": "AeHIJ6PLnQnI",
        "outputId": "349c7971-d962-4ee4-8bcc-87aa3dc889b8"
      },
      "outputs": [
        {
          "data": {
            "text/html": [
              "<div>\n",
              "<style scoped>\n",
              "    .dataframe tbody tr th:only-of-type {\n",
              "        vertical-align: middle;\n",
              "    }\n",
              "\n",
              "    .dataframe tbody tr th {\n",
              "        vertical-align: top;\n",
              "    }\n",
              "\n",
              "    .dataframe thead th {\n",
              "        text-align: right;\n",
              "    }\n",
              "</style>\n",
              "<table border=\"1\" class=\"dataframe\">\n",
              "  <thead>\n",
              "    <tr style=\"text-align: right;\">\n",
              "      <th></th>\n",
              "      <th>name</th>\n",
              "      <th>review_count</th>\n",
              "      <th>city</th>\n",
              "      <th>stars</th>\n",
              "    </tr>\n",
              "  </thead>\n",
              "  <tbody>\n",
              "    <tr>\n",
              "      <th>0</th>\n",
              "      <td>St Honore Pastries</td>\n",
              "      <td>80</td>\n",
              "      <td>Philadelphia</td>\n",
              "      <td>4.0</td>\n",
              "    </tr>\n",
              "    <tr>\n",
              "      <th>1</th>\n",
              "      <td>Sonic Drive-In</td>\n",
              "      <td>6</td>\n",
              "      <td>Ashland City</td>\n",
              "      <td>2.0</td>\n",
              "    </tr>\n",
              "    <tr>\n",
              "      <th>2</th>\n",
              "      <td>Sonic Drive-In</td>\n",
              "      <td>10</td>\n",
              "      <td>Nashville</td>\n",
              "      <td>1.5</td>\n",
              "    </tr>\n",
              "    <tr>\n",
              "      <th>3</th>\n",
              "      <td>Vietnamese Food Truck</td>\n",
              "      <td>10</td>\n",
              "      <td>Tampa Bay</td>\n",
              "      <td>4.0</td>\n",
              "    </tr>\n",
              "    <tr>\n",
              "      <th>4</th>\n",
              "      <td>Zio's Italian Market</td>\n",
              "      <td>100</td>\n",
              "      <td>Largo</td>\n",
              "      <td>4.5</td>\n",
              "    </tr>\n",
              "  </tbody>\n",
              "</table>\n",
              "</div>"
            ],
            "text/plain": [
              "                    name  review_count          city  stars\n",
              "0     St Honore Pastries            80  Philadelphia    4.0\n",
              "1         Sonic Drive-In             6  Ashland City    2.0\n",
              "2         Sonic Drive-In            10     Nashville    1.5\n",
              "3  Vietnamese Food Truck            10     Tampa Bay    4.0\n",
              "4   Zio's Italian Market           100         Largo    4.5"
            ]
          },
          "execution_count": 80,
          "metadata": {},
          "output_type": "execute_result"
        }
      ],
      "source": [
        "# storing the result in a dataframe\n",
        "name_df = pd.DataFrame(name_ , columns = ['name','review_count', 'city','stars'])\n",
        "name_df.head()"
      ]
    },
    {
      "cell_type": "code",
      "execution_count": null,
      "metadata": {
        "id": "eslqtlN3nQnI",
        "outputId": "b47087ce-04da-4302-f0a9-2ddd568acd8b"
      },
      "outputs": [
        {
          "data": {
            "text/plain": [
              "(-1.1060934019937385,\n",
              " 1.1002901619997019,\n",
              " -1.1059638122715625,\n",
              " 1.108048477986156)"
            ]
          },
          "execution_count": 81,
          "metadata": {},
          "output_type": "execute_result"
        },
        {
          "data": {
            "image/png": "[encoded data removed]",
            "text/plain": [
              "<Figure size 720x432 with 1 Axes>"
            ]
          },
          "metadata": {},
          "output_type": "display_data"
        }
      ],
      "source": [
        "# PLotting a pie chart to visualise the restaurany with most number of reviews\n",
        "name_df[['name', 'review_count', 'city', 'stars']].sort_values(ascending=False, by=\"review_count\")[0:10]\n",
        "name_df['name'].value_counts().sort_values(ascending=False).head(10)\n",
        "name_df['name'].value_counts().sort_values(ascending=False).head(10).plot(kind='pie',figsize=(10,6),fontsize = 10,autopct='%1.2f%%' , cmap = 'summer' , )\n",
        "plt.title(\"Most Reviewed Restaurants\",fontsize = 15)\n",
        "plt.axis('equal')"
      ]
    },
    {
      "cell_type": "markdown",
      "metadata": {
        "id": "-lffy4XOnQnJ"
      },
      "source": [
        "* McDonalds , Subway , Taco Bell and Wendy's are favourite food joints for most users"
      ]
    },
    {
      "cell_type": "markdown",
      "metadata": {
        "id": "ToqGL50JnQnJ"
      },
      "source": [
        "### User Table"
      ]
    },
    {
      "cell_type": "code",
      "execution_count": null,
      "metadata": {
        "id": "VxgOuO9wnQnK",
        "outputId": "e50b985d-8c43-46fb-b891-e5bdafbccde1"
      },
      "outputs": [
        {
          "name": "stdout",
          "output_type": "stream",
          "text": [
            "Number of rows in User DataBase : 1987897\n"
          ]
        }
      ],
      "source": [
        "# Print number of rows in the data\n",
        "\n",
        "#Query\n",
        "\n",
        "query_1 = '''\n",
        "    SELECT COUNT(*) AS NUM\n",
        "    FROM user_sql\n",
        "    '''\n",
        "\n",
        "num_rows = cursor.execute(query_1).fetchall()\n",
        "print(\"Number of rows in User DataBase : {}\".format(num_rows[0][0]))"
      ]
    },
    {
      "cell_type": "code",
      "execution_count": null,
      "metadata": {
        "id": "rTY4KquSnQnM"
      },
      "outputs": [],
      "source": [
        "# Number of unique users in the DataBase\n",
        "query_2 = '''\n",
        "        SELECT DISTINCT user_id , review_count\n",
        "        FROM user_sql\n",
        "        '''\n",
        "\n",
        "user_id = cursor.execute(query_2).fetchall()"
      ]
    },
    {
      "cell_type": "code",
      "execution_count": null,
      "metadata": {
        "id": "i2sZXjaNnQnM",
        "outputId": "196c2d85-94d6-4609-c572-3cdcfaa8f4a0"
      },
      "outputs": [
        {
          "name": "stdout",
          "output_type": "stream",
          "text": [
            "Number of Unique Users : 1987897\n"
          ]
        }
      ],
      "source": [
        "# Saving the result of query in user_df DataFrame\n",
        "user_df = pd.DataFrame(user_id , columns = ['user_id' , 'review_count'])\n",
        "print(\"Number of Unique Users : {}\".format(len(user_df['user_id'].unique())))"
      ]
    },
    {
      "cell_type": "code",
      "execution_count": null,
      "metadata": {
        "id": "wjxk5dZInQnV"
      },
      "outputs": [],
      "source": [
        "# User lifecycle \n",
        "\n",
        "query_3 = '''\n",
        "    SELECT DISTINCT user_id , yelping_since\n",
        "    FROM user_sql\n",
        "'''\n",
        "\n",
        "userlife = cursor.execute(query_3).fetchall()"
      ]
    },
    {
      "cell_type": "code",
      "execution_count": null,
      "metadata": {
        "id": "f_-ky4U5nQnW"
      },
      "outputs": [],
      "source": [
        "# saving the result of the query in dataframe \n",
        "user_lifecycle_df = pd.DataFrame(userlife , columns = ['user_id' , 'Yelping_since'])"
      ]
    },
    {
      "cell_type": "code",
      "execution_count": null,
      "metadata": {
        "id": "z5g9dnpfnQnW",
        "outputId": "68bda61c-7238-4bcc-ef97-7c4cb2c9dfae"
      },
      "outputs": [
        {
          "name": "stdout",
          "output_type": "stream",
          "text": [
            "<class 'pandas.core.frame.DataFrame'>\n",
            "RangeIndex: 1987897 entries, 0 to 1987896\n",
            "Data columns (total 2 columns):\n",
            " #   Column         Dtype         \n",
            "---  ------         -----         \n",
            " 0   user_id        object        \n",
            " 1   Yelping_since  datetime64[ns]\n",
            "dtypes: datetime64[ns](1), object(1)\n",
            "memory usage: 30.3+ MB\n"
          ]
        }
      ],
      "source": [
        "# type casting the yelping since column to time stamp\n",
        "user_lifecycle_df['Yelping_since'] = pd.to_datetime(user_lifecycle_df['Yelping_since'])\n",
        "user_lifecycle_df.info()"
      ]
    },
    {
      "cell_type": "code",
      "execution_count": null,
      "metadata": {
        "id": "-OZV6pJLnQnX"
      },
      "outputs": [],
      "source": [
        "# creating a new feature {'User_life' : Number of days since the user joined Yelp }\n",
        "user_lifecycle_df['User_life'] = user_lifecycle_df['Yelping_since'].apply(lambda x : (date.today() - x.date()).days)"
      ]
    },
    {
      "cell_type": "code",
      "execution_count": null,
      "metadata": {
        "id": "0JG4ozKxnQnl"
      },
      "outputs": [],
      "source": [
        "# number of friends each user has \n",
        "\n",
        "query_4 = '''\n",
        "        SELECT DISTINCT user_id , LENGTH(friends)\n",
        "        FROM user_sql\n",
        "'''\n",
        "\n",
        "count_friend = cursor.execute(query_4).fetchall()"
      ]
    },
    {
      "cell_type": "code",
      "execution_count": null,
      "metadata": {
        "id": "CZdIS8xynQnm"
      },
      "outputs": [],
      "source": [
        "# Saving the result in a dataframe\n",
        "friend_count = pd.DataFrame(count_friend , columns = ['user_id' , 'Number_of_friends'])"
      ]
    },
    {
      "cell_type": "code",
      "execution_count": null,
      "metadata": {
        "id": "gJVmV9SpnQnm"
      },
      "outputs": [],
      "source": [
        "# number of useful , funny , cool votes per user \n",
        "\n",
        "query_5 = '''\n",
        "        SELECT DISTINCT user_id , useful , funny , cool \n",
        "        FROM user_sql\n",
        "'''\n",
        "\n",
        "votes = cursor.execute(query_5).fetchall()"
      ]
    },
    {
      "cell_type": "code",
      "execution_count": null,
      "metadata": {
        "id": "lOPB68z_nQnn"
      },
      "outputs": [],
      "source": [
        "# saving the result in a dataframe\n",
        "votes_df = pd.DataFrame(votes , columns = ['user_id' , 'useful' , 'funny' , 'cool'])"
      ]
    },
    {
      "cell_type": "code",
      "execution_count": null,
      "metadata": {
        "id": "2H8Hsa5pnQnp"
      },
      "outputs": [],
      "source": [
        "# total compliments received by the user \n",
        "\n",
        "query_6 = '''\n",
        "        SELECT DISTINCT user_id,compliment_hot + compliment_more + compliment_profile + compliment_cute + compliment_list + compliment_note + compliment_plain + compliment_cool + compliment_funny + compliment_writer AS Total , compliment_photos\n",
        "        FROM user_sql\n",
        "'''\n",
        "\n",
        "comp = cursor.execute(query_6).fetchall()"
      ]
    },
    {
      "cell_type": "code",
      "execution_count": null,
      "metadata": {
        "id": "F8OK82v_nQnq"
      },
      "outputs": [],
      "source": [
        "# saving the result in a dataframe\n",
        "comp_df = pd.DataFrame(comp , columns = ['user_id' ,'TOTAL', 'compliment_photos'])"
      ]
    },
    {
      "cell_type": "code",
      "execution_count": null,
      "metadata": {
        "id": "sfxjflJEnQnv"
      },
      "outputs": [],
      "source": [
        "# arranging the data in a Pretty Table for better visualisation \n",
        "AVG_Table = PrettyTable([\"Feature\" , \"Average\" , \"Units\"])\n",
        "\n",
        "AVG_Table.add_row([\"Review_Count\" , int(np.round(user_df['review_count'].mean())) , 'No.'])\n",
        "AVG_Table.add_row([\"User_Life\" , int(np.round(user_lifecycle_df['User_life'].mean())) , 'Days'])\n",
        "AVG_Table.add_row([\"Number_Of_Friends\" , int(np.round(friend_count['Number_of_friends'].mean())) , 'No.'])\n",
        "AVG_Table.add_row([\"Useful_Votes\" , int(np.round(votes_df['useful'].mean())) , 'Votes'])\n",
        "AVG_Table.add_row([\"Funny_Votes\" , int(np.round(votes_df['funny'].mean())) , 'Votes'])\n",
        "AVG_Table.add_row([\"Cool_Votes\" , int(np.round(votes_df['cool'].mean())) , 'Votes'])\n",
        "AVG_Table.add_row([\"Compliments\" , int(np.round(comp_df['TOTAL'].mean())) , 'No.'])\n",
        "AVG_Table.add_row([\"Compliments_Photos\" , int(np.round(comp_df['compliment_photos'].mean())) , 'No.'])"
      ]
    },
    {
      "cell_type": "code",
      "execution_count": null,
      "metadata": {
        "id": "l_QtbMpxnQoY",
        "outputId": "f16a14af-8c5d-489f-8611-5d3ecd872bd9"
      },
      "outputs": [
        {
          "data": {
            "text/html": [
              "<table>\n",
              "    <thead>\n",
              "        <tr>\n",
              "            <th>Feature</th>\n",
              "            <th>Average</th>\n",
              "            <th>Units</th>\n",
              "        </tr>\n",
              "    </thead>\n",
              "    <tbody>\n",
              "        <tr>\n",
              "            <td>Review_Count</td>\n",
              "            <td>23</td>\n",
              "            <td>No.</td>\n",
              "        </tr>\n",
              "        <tr>\n",
              "            <td>User_Life</td>\n",
              "            <td>2804</td>\n",
              "            <td>Days</td>\n",
              "        </tr>\n",
              "        <tr>\n",
              "            <td>Number_Of_Friends</td>\n",
              "            <td>1271</td>\n",
              "            <td>No.</td>\n",
              "        </tr>\n",
              "        <tr>\n",
              "            <td>Useful_Votes</td>\n",
              "            <td>42</td>\n",
              "            <td>Votes</td>\n",
              "        </tr>\n",
              "        <tr>\n",
              "            <td>Funny_Votes</td>\n",
              "            <td>17</td>\n",
              "            <td>Votes</td>\n",
              "        </tr>\n",
              "        <tr>\n",
              "            <td>Cool_Votes</td>\n",
              "            <td>24</td>\n",
              "            <td>Votes</td>\n",
              "        </tr>\n",
              "        <tr>\n",
              "            <td>Compliments</td>\n",
              "            <td>14</td>\n",
              "            <td>No.</td>\n",
              "        </tr>\n",
              "        <tr>\n",
              "            <td>Compliments_Photos</td>\n",
              "            <td>1</td>\n",
              "            <td>No.</td>\n",
              "        </tr>\n",
              "    </tbody>\n",
              "</table>"
            ],
            "text/plain": [
              "+--------------------+---------+-------+\n",
              "|      Feature       | Average | Units |\n",
              "+--------------------+---------+-------+\n",
              "|    Review_Count    |    23   |  No.  |\n",
              "|     User_Life      |   2804  |  Days |\n",
              "| Number_Of_Friends  |   1271  |  No.  |\n",
              "|    Useful_Votes    |    42   | Votes |\n",
              "|    Funny_Votes     |    17   | Votes |\n",
              "|     Cool_Votes     |    24   | Votes |\n",
              "|    Compliments     |    14   |  No.  |\n",
              "| Compliments_Photos |    1    |  No.  |\n",
              "+--------------------+---------+-------+"
            ]
          },
          "execution_count": 96,
          "metadata": {},
          "output_type": "execute_result"
        }
      ],
      "source": [
        "AVG_Table"
      ]
    },
    {
      "cell_type": "code",
      "execution_count": null,
      "metadata": {
        "id": "pvVgsovRnQoZ",
        "outputId": "2d0d7dd2-835d-40f4-81e3-068258acc703"
      },
      "outputs": [
        {
          "data": {
            "text/plain": [
              "<matplotlib.legend.Legend at 0x23367e6bca0>"
            ]
          },
          "execution_count": 97,
          "metadata": {},
          "output_type": "execute_result"
        },
        {
          "data": {
            "image/png": "[encoded data removed]",
            "text/plain": [
              "<Figure size 1080x1440 with 8 Axes>"
            ]
          },
          "metadata": {
            "needs_background": "light"
          },
          "output_type": "display_data"
        }
      ],
      "source": [
        "#Plotting the distribution of various features using histograms with the most common response/ number of responses\n",
        "\n",
        "fig , ax = plt.subplots(4,2 , figsize = (15,20))\n",
        "\n",
        "ax[0][0].hist(user_df['review_count'].values , bins = 100)\n",
        "ax[0][0].vlines(int(np.round(user_df['review_count'].mean())) , 0 , 2000000 , color = 'r' , linestyle = 'dashed' , label = 'Mean')\n",
        "ax[0][0].set_title(\"Distribution of Review_Count\")\n",
        "ax[0][0].legend()\n",
        "\n",
        "ax[0][1].hist(user_lifecycle_df['User_life'].values , bins = 100)\n",
        "ax[0][1].vlines(int(np.round(user_lifecycle_df['User_life'].mean())) , 0 , 40000, color = 'r' , linestyle = 'dashed' , label = 'Mean')\n",
        "ax[0][1].set_title(\"Distribution of User_Life on Yelp\")\n",
        "ax[0][1].legend()\n",
        "\n",
        "ax[1][0].hist(friend_count['Number_of_friends'].values , bins = 100)\n",
        "ax[1][0].vlines(int(np.round(friend_count['Number_of_friends'].mean())) , 0 , 2000000, color = 'r' , linestyle = 'dashed',label = 'Mean')\n",
        "ax[1][0].set_title(\"Distribution of Number of Friends\")\n",
        "ax[1][0].legend()\n",
        "\n",
        "ax[1][1].hist(votes_df['useful'].values , bins = 100)\n",
        "ax[1][1].vlines(int(np.round(votes_df['useful'].mean())) , 0 ,2000000, color = 'r' , linestyle = 'dashed',label = 'Mean')\n",
        "ax[1][1].set_title(\"Distribution of useful Votes\")\n",
        "ax[1][1].legend()\n",
        "\n",
        "ax[2][0].hist(votes_df['funny'].values , bins = 100)\n",
        "ax[2][0].vlines(int(np.round(votes_df['funny'].mean())) , 0 ,2000000, color = 'r' , linestyle = 'dashed',label = 'Mean')\n",
        "ax[2][0].set_title(\"Distribution of funny Votes\")\n",
        "ax[2][0].legend()\n",
        "\n",
        "ax[2][1].hist(votes_df['cool'].values , bins = 100)\n",
        "ax[2][1].vlines(int(np.round(votes_df['cool'].mean())) , 0 ,2000000, color = 'r' , linestyle = 'dashed',label = 'Mean')\n",
        "ax[2][1].set_title(\"Distribution of cool votes\")\n",
        "ax[2][1].legend()\n",
        "\n",
        "ax[3][0].hist(comp_df['TOTAL'].values , bins = 100)\n",
        "ax[3][0].vlines(int(np.round(comp_df['TOTAL'].mean())) , 0 ,2000000, color = 'r' , linestyle = 'dashed',label = 'Mean')\n",
        "ax[3][0].set_title(\"Distribution of Total compliments received by user\")\n",
        "ax[3][0].legend()\n",
        "\n",
        "ax[3][1].hist(comp_df['compliment_photos'].values , bins = 100)\n",
        "ax[3][1].vlines(int(np.round(comp_df['compliment_photos'].mean())) , 0 ,2000000, color = 'r' , linestyle = 'dashed',label = 'Mean')\n",
        "ax[3][1].set_title(\"Distribution of compliments on photos received by user\")\n",
        "ax[3][1].legend()\n"
      ]
    },
    {
      "cell_type": "code",
      "execution_count": null,
      "metadata": {
        "id": "mjKiN6LrnQoZ"
      },
      "outputs": [],
      "source": [
        "# years the user was a elite user on the app \n",
        "\n",
        "query_7 = '''\n",
        "    SELECT DISTINCT user_id , elite\n",
        "    FROM user_sql\n",
        "\n",
        "'''\n",
        "\n",
        "elite = cursor.execute(query_7).fetchall()"
      ]
    },
    {
      "cell_type": "code",
      "execution_count": null,
      "metadata": {
        "id": "mpzKK0hUnQoa",
        "outputId": "1ec1985d-e6aa-44fb-8a73-6d70f9e092e8"
      },
      "outputs": [
        {
          "data": {
            "text/html": [
              "<div>\n",
              "<style scoped>\n",
              "    .dataframe tbody tr th:only-of-type {\n",
              "        vertical-align: middle;\n",
              "    }\n",
              "\n",
              "    .dataframe tbody tr th {\n",
              "        vertical-align: top;\n",
              "    }\n",
              "\n",
              "    .dataframe thead th {\n",
              "        text-align: right;\n",
              "    }\n",
              "</style>\n",
              "<table border=\"1\" class=\"dataframe\">\n",
              "  <thead>\n",
              "    <tr style=\"text-align: right;\">\n",
              "      <th></th>\n",
              "      <th>user_id</th>\n",
              "      <th>elite</th>\n",
              "    </tr>\n",
              "  </thead>\n",
              "  <tbody>\n",
              "    <tr>\n",
              "      <th>618157</th>\n",
              "      <td>qh0dymU9ORy1ECCewHBzcQ</td>\n",
              "      <td>2021</td>\n",
              "    </tr>\n",
              "    <tr>\n",
              "      <th>300478</th>\n",
              "      <td>SYaP2pTaheR8j-pq9VdP9g</td>\n",
              "      <td>2021</td>\n",
              "    </tr>\n",
              "    <tr>\n",
              "      <th>41326</th>\n",
              "      <td>N5ek5cqxLhPlGLx6UPbXXA</td>\n",
              "      <td>2021</td>\n",
              "    </tr>\n",
              "    <tr>\n",
              "      <th>688164</th>\n",
              "      <td>dDUstIhusW3QlD_qizi1lw</td>\n",
              "      <td>2021</td>\n",
              "    </tr>\n",
              "    <tr>\n",
              "      <th>1628657</th>\n",
              "      <td>J6dYRAy8StI5qDt5QZVEpg</td>\n",
              "      <td>2021</td>\n",
              "    </tr>\n",
              "    <tr>\n",
              "      <th>...</th>\n",
              "      <td>...</td>\n",
              "      <td>...</td>\n",
              "    </tr>\n",
              "    <tr>\n",
              "      <th>698240</th>\n",
              "      <td>7uru0LN1WrvpOOIrMc5LMA</td>\n",
              "      <td></td>\n",
              "    </tr>\n",
              "    <tr>\n",
              "      <th>698239</th>\n",
              "      <td>sV_I8W7y8qyqkmv1tdCcOw</td>\n",
              "      <td></td>\n",
              "    </tr>\n",
              "    <tr>\n",
              "      <th>698238</th>\n",
              "      <td>FUppGits48JwdTIy9cLLJg</td>\n",
              "      <td></td>\n",
              "    </tr>\n",
              "    <tr>\n",
              "      <th>698237</th>\n",
              "      <td>LXxf08mSHn2gn1Z-ZTjHCQ</td>\n",
              "      <td></td>\n",
              "    </tr>\n",
              "    <tr>\n",
              "      <th>1987896</th>\n",
              "      <td>wL5jPrLRVCK_Pmo4lM1zpA</td>\n",
              "      <td></td>\n",
              "    </tr>\n",
              "  </tbody>\n",
              "</table>\n",
              "<p>1987897 rows × 2 columns</p>\n",
              "</div>"
            ],
            "text/plain": [
              "                        user_id elite\n",
              "618157   qh0dymU9ORy1ECCewHBzcQ  2021\n",
              "300478   SYaP2pTaheR8j-pq9VdP9g  2021\n",
              "41326    N5ek5cqxLhPlGLx6UPbXXA  2021\n",
              "688164   dDUstIhusW3QlD_qizi1lw  2021\n",
              "1628657  J6dYRAy8StI5qDt5QZVEpg  2021\n",
              "...                         ...   ...\n",
              "698240   7uru0LN1WrvpOOIrMc5LMA      \n",
              "698239   sV_I8W7y8qyqkmv1tdCcOw      \n",
              "698238   FUppGits48JwdTIy9cLLJg      \n",
              "698237   LXxf08mSHn2gn1Z-ZTjHCQ      \n",
              "1987896  wL5jPrLRVCK_Pmo4lM1zpA      \n",
              "\n",
              "[1987897 rows x 2 columns]"
            ]
          },
          "execution_count": 99,
          "metadata": {},
          "output_type": "execute_result"
        }
      ],
      "source": [
        "# store the result in a dataframe and sorting on elite\n",
        "elite_df = pd.DataFrame(elite , columns = ['user_id','elite'])\n",
        "elite_df.sort_values(by = 'elite',ascending = False)"
      ]
    },
    {
      "cell_type": "code",
      "execution_count": null,
      "metadata": {
        "id": "omRrC2ymnQp7"
      },
      "outputs": [],
      "source": [
        "# spitting the list of years into a list\n",
        "elite_df['elite'] = elite_df['elite'].apply(lambda x : x.split(\",\"))"
      ]
    },
    {
      "cell_type": "code",
      "execution_count": null,
      "metadata": {
        "id": "LWu8rgtTnQp9"
      },
      "outputs": [],
      "source": [
        "# one hot encoding the years\n",
        "elite_df = elite_df.drop('elite', 1).join(elite_df.elite.str.join('|').str.get_dummies())"
      ]
    },
    {
      "cell_type": "code",
      "execution_count": null,
      "metadata": {
        "id": "h_t12RConQqT"
      },
      "outputs": [],
      "source": [
        "# fixing bad data\n",
        "elite_df['2020'] = elite_df['20']\n",
        "elite_df.drop('20' , axis = 1 , inplace = True)"
      ]
    },
    {
      "cell_type": "code",
      "execution_count": null,
      "metadata": {
        "id": "OVaq44DsnQqT",
        "outputId": "0bee8ae0-7965-4c57-faeb-37039a4c39b5"
      },
      "outputs": [
        {
          "data": {
            "text/html": [
              "<div>\n",
              "<style scoped>\n",
              "    .dataframe tbody tr th:only-of-type {\n",
              "        vertical-align: middle;\n",
              "    }\n",
              "\n",
              "    .dataframe tbody tr th {\n",
              "        vertical-align: top;\n",
              "    }\n",
              "\n",
              "    .dataframe thead th {\n",
              "        text-align: right;\n",
              "    }\n",
              "</style>\n",
              "<table border=\"1\" class=\"dataframe\">\n",
              "  <thead>\n",
              "    <tr style=\"text-align: right;\">\n",
              "      <th></th>\n",
              "      <th>user_id</th>\n",
              "      <th>2006</th>\n",
              "      <th>2007</th>\n",
              "      <th>2008</th>\n",
              "      <th>2009</th>\n",
              "      <th>2010</th>\n",
              "      <th>2011</th>\n",
              "      <th>2012</th>\n",
              "      <th>2013</th>\n",
              "      <th>2014</th>\n",
              "      <th>2015</th>\n",
              "      <th>2016</th>\n",
              "      <th>2017</th>\n",
              "      <th>2018</th>\n",
              "      <th>2019</th>\n",
              "      <th>2021</th>\n",
              "      <th>2020</th>\n",
              "    </tr>\n",
              "  </thead>\n",
              "  <tbody>\n",
              "    <tr>\n",
              "      <th>0</th>\n",
              "      <td>qVc8ODYU5SZjKXVBgXdI7w</td>\n",
              "      <td>0</td>\n",
              "      <td>1</td>\n",
              "      <td>0</td>\n",
              "      <td>0</td>\n",
              "      <td>0</td>\n",
              "      <td>0</td>\n",
              "      <td>0</td>\n",
              "      <td>0</td>\n",
              "      <td>0</td>\n",
              "      <td>0</td>\n",
              "      <td>0</td>\n",
              "      <td>0</td>\n",
              "      <td>0</td>\n",
              "      <td>0</td>\n",
              "      <td>0</td>\n",
              "      <td>0</td>\n",
              "    </tr>\n",
              "    <tr>\n",
              "      <th>1</th>\n",
              "      <td>j14WgRoU_-2ZE1aw1dXrJg</td>\n",
              "      <td>0</td>\n",
              "      <td>0</td>\n",
              "      <td>0</td>\n",
              "      <td>1</td>\n",
              "      <td>1</td>\n",
              "      <td>1</td>\n",
              "      <td>1</td>\n",
              "      <td>1</td>\n",
              "      <td>1</td>\n",
              "      <td>1</td>\n",
              "      <td>1</td>\n",
              "      <td>1</td>\n",
              "      <td>1</td>\n",
              "      <td>1</td>\n",
              "      <td>1</td>\n",
              "      <td>1</td>\n",
              "    </tr>\n",
              "    <tr>\n",
              "      <th>2</th>\n",
              "      <td>2WnXYQFK0hXEoTxPtV2zvg</td>\n",
              "      <td>0</td>\n",
              "      <td>0</td>\n",
              "      <td>0</td>\n",
              "      <td>1</td>\n",
              "      <td>1</td>\n",
              "      <td>1</td>\n",
              "      <td>1</td>\n",
              "      <td>1</td>\n",
              "      <td>0</td>\n",
              "      <td>0</td>\n",
              "      <td>0</td>\n",
              "      <td>0</td>\n",
              "      <td>0</td>\n",
              "      <td>0</td>\n",
              "      <td>0</td>\n",
              "      <td>0</td>\n",
              "    </tr>\n",
              "    <tr>\n",
              "      <th>3</th>\n",
              "      <td>SZDeASXq7o05mMNLshsdIA</td>\n",
              "      <td>0</td>\n",
              "      <td>0</td>\n",
              "      <td>0</td>\n",
              "      <td>1</td>\n",
              "      <td>1</td>\n",
              "      <td>1</td>\n",
              "      <td>0</td>\n",
              "      <td>0</td>\n",
              "      <td>0</td>\n",
              "      <td>0</td>\n",
              "      <td>0</td>\n",
              "      <td>0</td>\n",
              "      <td>0</td>\n",
              "      <td>0</td>\n",
              "      <td>0</td>\n",
              "      <td>0</td>\n",
              "    </tr>\n",
              "    <tr>\n",
              "      <th>4</th>\n",
              "      <td>hA5lMy-EnncsH4JoR-hFGQ</td>\n",
              "      <td>0</td>\n",
              "      <td>0</td>\n",
              "      <td>0</td>\n",
              "      <td>0</td>\n",
              "      <td>0</td>\n",
              "      <td>0</td>\n",
              "      <td>0</td>\n",
              "      <td>0</td>\n",
              "      <td>0</td>\n",
              "      <td>0</td>\n",
              "      <td>0</td>\n",
              "      <td>0</td>\n",
              "      <td>0</td>\n",
              "      <td>0</td>\n",
              "      <td>0</td>\n",
              "      <td>0</td>\n",
              "    </tr>\n",
              "  </tbody>\n",
              "</table>\n",
              "</div>"
            ],
            "text/plain": [
              "                  user_id  2006  2007  2008  2009  2010  2011  2012  2013  \\\n",
              "0  qVc8ODYU5SZjKXVBgXdI7w     0     1     0     0     0     0     0     0   \n",
              "1  j14WgRoU_-2ZE1aw1dXrJg     0     0     0     1     1     1     1     1   \n",
              "2  2WnXYQFK0hXEoTxPtV2zvg     0     0     0     1     1     1     1     1   \n",
              "3  SZDeASXq7o05mMNLshsdIA     0     0     0     1     1     1     0     0   \n",
              "4  hA5lMy-EnncsH4JoR-hFGQ     0     0     0     0     0     0     0     0   \n",
              "\n",
              "   2014  2015  2016  2017  2018  2019  2021  2020  \n",
              "0     0     0     0     0     0     0     0     0  \n",
              "1     1     1     1     1     1     1     1     1  \n",
              "2     0     0     0     0     0     0     0     0  \n",
              "3     0     0     0     0     0     0     0     0  \n",
              "4     0     0     0     0     0     0     0     0  "
            ]
          },
          "execution_count": 103,
          "metadata": {},
          "output_type": "execute_result"
        }
      ],
      "source": [
        "elite_df.head()"
      ]
    },
    {
      "cell_type": "code",
      "execution_count": null,
      "metadata": {
        "id": "lxUSl6VenQqZ"
      },
      "outputs": [],
      "source": [
        "# Taking the sum of number of times a user was elite on Yelp\n",
        "elite_df['Total'] = elite_df.iloc[:,1:].sum(axis=1)"
      ]
    },
    {
      "cell_type": "code",
      "execution_count": null,
      "metadata": {
        "id": "RvyxoCd2nQqb"
      },
      "outputs": [],
      "source": [
        "# Sorting for the most elite users one yelp\n",
        "elite_df = elite_df.sort_values(by = 'Total' , ascending = False)"
      ]
    },
    {
      "cell_type": "code",
      "execution_count": null,
      "metadata": {
        "id": "PlbT3d1unQqb",
        "outputId": "bbcb5e72-4cc4-46f8-8c1d-5a207d6ba8bb"
      },
      "outputs": [
        {
          "data": {
            "image/png": "[encoded data removed]",
            "text/plain": [
              "<Figure size 432x288 with 1 Axes>"
            ]
          },
          "metadata": {
            "needs_background": "light"
          },
          "output_type": "display_data"
        }
      ],
      "source": [
        "# Plotting the percentage of elite users on yelp \n",
        "elite_df['Total'].value_counts().apply(lambda x : (x/len(elite_df))*100).sort_values(ascending = True).plot.bar(color = 'y' , alpha = 0.5)\n",
        "plt.xlabel(\"Number of times user is elite on yelp\")\n",
        "plt.ylabel(\"Percentage of Users\")\n",
        "plt.grid()"
      ]
    },
    {
      "cell_type": "code",
      "execution_count": null,
      "metadata": {
        "id": "ejz33XhJnQqd"
      },
      "outputs": [],
      "source": [
        "# defining the elite_per as percentage of elite users and non_elite as percentage of no elite users\n",
        "elite_per = elite_df['Total'].value_counts().apply(lambda x : (x/len(elite_df))*100).sort_values(ascending = True)[:6].sum()\n",
        "non_elite = elite_df['Total'].value_counts().apply(lambda x : (x/len(elite_df))*100).sort_values(ascending = True)[-1:].values[0]"
      ]
    },
    {
      "cell_type": "code",
      "execution_count": null,
      "metadata": {
        "id": "ndQsIhLWnQqf",
        "outputId": "af572f14-4582-40ba-8365-3228dbe54111"
      },
      "outputs": [
        {
          "name": "stdout",
          "output_type": "stream",
          "text": [
            "Only 0.12% of users were elite for more than 10 years\n",
            "Around 95.41% of users were never elite on yelp in 15years\n"
          ]
        }
      ],
      "source": [
        "print(\"Only {}% of users were elite for more than 10 years\".format(np.round(elite_per , 2)))\n",
        "print(\"Around {}% of users were never elite on yelp in 15years\".format(np.round(non_elite,2)))"
      ]
    },
    {
      "cell_type": "code",
      "execution_count": null,
      "metadata": {
        "id": "wrsHz4g5nQqg"
      },
      "outputs": [],
      "source": [
        "# choosing the dataframe of supreme elite users who have been elite for more than  years\n",
        "elite_users = elite_df[elite_df['Total'] > 10]"
      ]
    },
    {
      "cell_type": "code",
      "execution_count": null,
      "metadata": {
        "id": "D3lkaG-JnQqi",
        "outputId": "20c0a2aa-070b-40e2-dfe3-b8fee2105f74"
      },
      "outputs": [
        {
          "data": {
            "text/html": [
              "<div>\n",
              "<style scoped>\n",
              "    .dataframe tbody tr th:only-of-type {\n",
              "        vertical-align: middle;\n",
              "    }\n",
              "\n",
              "    .dataframe tbody tr th {\n",
              "        vertical-align: top;\n",
              "    }\n",
              "\n",
              "    .dataframe thead th {\n",
              "        text-align: right;\n",
              "    }\n",
              "</style>\n",
              "<table border=\"1\" class=\"dataframe\">\n",
              "  <thead>\n",
              "    <tr style=\"text-align: right;\">\n",
              "      <th></th>\n",
              "      <th>user_id</th>\n",
              "      <th>2006</th>\n",
              "      <th>2007</th>\n",
              "      <th>2008</th>\n",
              "      <th>2009</th>\n",
              "      <th>2010</th>\n",
              "      <th>2011</th>\n",
              "      <th>2012</th>\n",
              "      <th>2013</th>\n",
              "      <th>2014</th>\n",
              "      <th>2015</th>\n",
              "      <th>2016</th>\n",
              "      <th>2017</th>\n",
              "      <th>2018</th>\n",
              "      <th>2019</th>\n",
              "      <th>2021</th>\n",
              "      <th>2020</th>\n",
              "      <th>Total</th>\n",
              "    </tr>\n",
              "  </thead>\n",
              "  <tbody>\n",
              "    <tr>\n",
              "      <th>796244</th>\n",
              "      <td>OnagJ2dnPjfRRT4a_CgKCw</td>\n",
              "      <td>1</td>\n",
              "      <td>1</td>\n",
              "      <td>1</td>\n",
              "      <td>1</td>\n",
              "      <td>1</td>\n",
              "      <td>1</td>\n",
              "      <td>1</td>\n",
              "      <td>1</td>\n",
              "      <td>1</td>\n",
              "      <td>1</td>\n",
              "      <td>1</td>\n",
              "      <td>1</td>\n",
              "      <td>1</td>\n",
              "      <td>1</td>\n",
              "      <td>1</td>\n",
              "      <td>1</td>\n",
              "      <td>16</td>\n",
              "    </tr>\n",
              "    <tr>\n",
              "      <th>2114</th>\n",
              "      <td>nnImk681KaRqUVHlSfZjGQ</td>\n",
              "      <td>1</td>\n",
              "      <td>1</td>\n",
              "      <td>1</td>\n",
              "      <td>1</td>\n",
              "      <td>1</td>\n",
              "      <td>1</td>\n",
              "      <td>1</td>\n",
              "      <td>1</td>\n",
              "      <td>1</td>\n",
              "      <td>1</td>\n",
              "      <td>1</td>\n",
              "      <td>1</td>\n",
              "      <td>1</td>\n",
              "      <td>1</td>\n",
              "      <td>1</td>\n",
              "      <td>1</td>\n",
              "      <td>16</td>\n",
              "    </tr>\n",
              "    <tr>\n",
              "      <th>994025</th>\n",
              "      <td>Nlfemj273YV_Ro3dwep8Kw</td>\n",
              "      <td>1</td>\n",
              "      <td>1</td>\n",
              "      <td>1</td>\n",
              "      <td>1</td>\n",
              "      <td>1</td>\n",
              "      <td>1</td>\n",
              "      <td>1</td>\n",
              "      <td>1</td>\n",
              "      <td>1</td>\n",
              "      <td>1</td>\n",
              "      <td>1</td>\n",
              "      <td>1</td>\n",
              "      <td>1</td>\n",
              "      <td>1</td>\n",
              "      <td>1</td>\n",
              "      <td>1</td>\n",
              "      <td>16</td>\n",
              "    </tr>\n",
              "    <tr>\n",
              "      <th>601978</th>\n",
              "      <td>PdpWp_j67Nfr_oQF-4yKUw</td>\n",
              "      <td>1</td>\n",
              "      <td>1</td>\n",
              "      <td>1</td>\n",
              "      <td>1</td>\n",
              "      <td>1</td>\n",
              "      <td>1</td>\n",
              "      <td>1</td>\n",
              "      <td>1</td>\n",
              "      <td>1</td>\n",
              "      <td>1</td>\n",
              "      <td>1</td>\n",
              "      <td>1</td>\n",
              "      <td>1</td>\n",
              "      <td>1</td>\n",
              "      <td>1</td>\n",
              "      <td>1</td>\n",
              "      <td>16</td>\n",
              "    </tr>\n",
              "    <tr>\n",
              "      <th>200145</th>\n",
              "      <td>DecNq9BYtMwHhgdnPNGbVQ</td>\n",
              "      <td>1</td>\n",
              "      <td>1</td>\n",
              "      <td>1</td>\n",
              "      <td>1</td>\n",
              "      <td>1</td>\n",
              "      <td>1</td>\n",
              "      <td>1</td>\n",
              "      <td>1</td>\n",
              "      <td>1</td>\n",
              "      <td>1</td>\n",
              "      <td>1</td>\n",
              "      <td>1</td>\n",
              "      <td>1</td>\n",
              "      <td>1</td>\n",
              "      <td>1</td>\n",
              "      <td>1</td>\n",
              "      <td>16</td>\n",
              "    </tr>\n",
              "  </tbody>\n",
              "</table>\n",
              "</div>"
            ],
            "text/plain": [
              "                       user_id  2006  2007  2008  2009  2010  2011  2012  \\\n",
              "796244  OnagJ2dnPjfRRT4a_CgKCw     1     1     1     1     1     1     1   \n",
              "2114    nnImk681KaRqUVHlSfZjGQ     1     1     1     1     1     1     1   \n",
              "994025  Nlfemj273YV_Ro3dwep8Kw     1     1     1     1     1     1     1   \n",
              "601978  PdpWp_j67Nfr_oQF-4yKUw     1     1     1     1     1     1     1   \n",
              "200145  DecNq9BYtMwHhgdnPNGbVQ     1     1     1     1     1     1     1   \n",
              "\n",
              "        2013  2014  2015  2016  2017  2018  2019  2021  2020  Total  \n",
              "796244     1     1     1     1     1     1     1     1     1     16  \n",
              "2114       1     1     1     1     1     1     1     1     1     16  \n",
              "994025     1     1     1     1     1     1     1     1     1     16  \n",
              "601978     1     1     1     1     1     1     1     1     1     16  \n",
              "200145     1     1     1     1     1     1     1     1     1     16  "
            ]
          },
          "execution_count": 110,
          "metadata": {},
          "output_type": "execute_result"
        }
      ],
      "source": [
        "elite_users.head()"
      ]
    },
    {
      "cell_type": "code",
      "execution_count": null,
      "metadata": {
        "id": "oCa-lltQnQql"
      },
      "outputs": [],
      "source": [
        "# merging the data for different features on user_id of elite features\n",
        "df_1 = pd.merge(elite_users , user_df)\n",
        "df_1 = pd.merge(df_1 , user_lifecycle_df)\n",
        "df_1 = pd.merge(df_1 , friend_count)\n",
        "df_1 = pd.merge(df_1 , votes_df)\n",
        "elite_df = pd.merge(df_1 , comp_df)"
      ]
    },
    {
      "cell_type": "code",
      "execution_count": null,
      "metadata": {
        "id": "MeZ57CvknQql",
        "outputId": "93abe27d-6c1b-4866-d21b-86626eae9d54"
      },
      "outputs": [
        {
          "data": {
            "text/plain": [
              "<matplotlib.legend.Legend at 0x2338504d760>"
            ]
          },
          "execution_count": 112,
          "metadata": {},
          "output_type": "execute_result"
        },
        {
          "data": {
            "image/png": "[encoded data removed]",
            "text/plain": [
              "<Figure size 1080x1440 with 8 Axes>"
            ]
          },
          "metadata": {
            "needs_background": "light"
          },
          "output_type": "display_data"
        }
      ],
      "source": [
        "# plotting the distribution of features for supreme elite users on yelp and their most common reponse/ number of number of responses\n",
        "fig , ax = plt.subplots(4,2 ,figsize = (15,20))\n",
        "\n",
        "ax[0][0].hist(elite_df['review_count'].values , bins = 100)\n",
        "ax[0][0].vlines(elite_df['review_count'].median() , 0, 500 , color = 'r' , linestyle = 'dashed' , label = 'median = {}'.format(elite_df['review_count'].median()))\n",
        "ax[0][0].set_title(\"Distribution of reviews \")\n",
        "ax[0][0].legend()\n",
        "\n",
        "ax[0][1].hist(elite_df['User_life'].values , bins = 100)\n",
        "ax[0][1].vlines(elite_df['User_life'].median() , 0, 50 , color = 'r' , linestyle = 'dashed',label = 'median = {}'.format(elite_df['User_life'].median()))\n",
        "ax[0][1].set_title(\"Distribution of User_Life\")\n",
        "ax[0][1].set_xlabel(\"Days\")\n",
        "ax[0][1].legend()\n",
        "\n",
        "ax[1][0].hist(elite_df['Number_of_friends'].values , bins = 100)\n",
        "ax[1][0].vlines(elite_df['Number_of_friends'].median() , 0, 400 , color = 'r' , linestyle = 'dashed' , label = 'Median = {}'.format(elite_df['Number_of_friends'].median()))\n",
        "ax[1][0].set_title(\"Distribution of Number of Friends\")\n",
        "ax[1][0].legend()\n",
        "\n",
        "ax[1][1].hist(elite_df['useful'].values , bins = 100)\n",
        "ax[1][1].vlines(elite_df['useful'].median() , 0, 1200 , color = 'r' , linestyle = 'dashed' , label = 'Median : {}'.format(elite_df['useful'].median()))\n",
        "ax[1][1].set_title(\"Distribution of Useful Votes\")\n",
        "ax[1][1].legend()\n",
        "\n",
        "ax[2][0].hist(elite_df['funny'].values , bins = 100)\n",
        "ax[2][0].vlines(elite_df['funny'].median() , 0, 1200 , color = 'r' , linestyle = 'dashed' , label = 'Median : {}'.format(elite_df['funny'].median()))\n",
        "ax[2][0].set_title(\"Distribution of Funny Votes\")\n",
        "ax[2][0].legend()\n",
        "\n",
        "ax[2][1].hist(elite_df['cool'].values , bins = 100)\n",
        "ax[2][1].vlines(elite_df['cool'].median() , 0, 1200 , color = 'r' , linestyle = 'dashed' , label = 'Median : {}'.format(elite_df['cool'].median()))\n",
        "ax[2][1].set_title(\"Distribution of cool Votes\")\n",
        "ax[2][1].legend()\n",
        "\n",
        "ax[3][0].hist(elite_df['TOTAL'].values , bins = 100)\n",
        "ax[3][0].vlines(elite_df['TOTAL'].median() , 0, 1200 , color = 'r' , linestyle = 'dashed' , label = 'Median : {}'.format(elite_df['TOTAL'].median()))\n",
        "ax[3][0].set_title(\"Distribution of total compliments received by user\")\n",
        "ax[3][0].legend()\n",
        "\n",
        "ax[3][1].hist(elite_df['compliment_photos'].values , bins = 100)\n",
        "ax[3][1].vlines(elite_df['compliment_photos'].median() , 0, 1200 , color = 'r' , linestyle = 'dashed' , label = \"Median : {}\".format(elite_df['compliment_photos'].median()))\n",
        "ax[3][1].set_title(\"Distribution of compliments on photos\")\n",
        "ax[3][1].legend()"
      ]
    },
    {
      "cell_type": "code",
      "execution_count": null,
      "metadata": {
        "id": "251sDJ9lnQqs"
      },
      "outputs": [],
      "source": [
        "# querying for list of friends for each user id \n",
        "query_8 = '''\n",
        "    SELECT DISTINCT user_id , friends\n",
        "    FROM user_sql\n",
        "\n",
        "'''\n",
        "\n",
        "friends = cursor.execute(query_8).fetchall()"
      ]
    },
    {
      "cell_type": "code",
      "execution_count": null,
      "metadata": {
        "id": "qrsoJCylnQqu"
      },
      "outputs": [],
      "source": [
        "# storing the result in a dataframe\n",
        "friends_df = pd.DataFrame(friends , columns = ['user_id','friends'])"
      ]
    },
    {
      "cell_type": "code",
      "execution_count": null,
      "metadata": {
        "id": "AbIp_FxQnQqu"
      },
      "outputs": [],
      "source": [
        "# sorting the dataframe on number of friends \n",
        "elite_friends = pd.merge(elite_df , friends_df)[['user_id','friends','Number_of_friends']].sort_values(by = 'Number_of_friends' , ascending = False)"
      ]
    },
    {
      "cell_type": "code",
      "execution_count": null,
      "metadata": {
        "id": "WOU1pyBAnQqw"
      },
      "outputs": [],
      "source": [
        "# assigning a numeric user_id for each user_id string in a dictionary\n",
        "user_dict = {}\n",
        "for i in range(0,len(user_id)):\n",
        "    user_dict[user_df.user_id[i]] = i"
      ]
    },
    {
      "cell_type": "code",
      "execution_count": null,
      "metadata": {
        "id": "uhAvtbgBnQrB"
      },
      "outputs": [],
      "source": [
        "# Creating a DataFrame of mutaul friends \n",
        "# This returns 4 lists, the user_id_1 , user_id_2 , mutual friends between two ids , number of mutual friends between two ids \n",
        "# stores 0 if there are no mutual friends\n",
        "\n",
        "mutual = []                        #string id of mutual friend\n",
        "mutual_nos = []                    # number of mutual friends\n",
        "ui_1 = []                          # User_1 ID\n",
        "ui_2 = []                          # User_2 ID \n",
        "for i in range(0,len(elite_friends)):\n",
        "    for j in range(1 , len(elite_friends)):\n",
        "        res_1 = elite_friends.friends[i].strip('][').split(', ')\n",
        "        res_2 = elite_friends.friends[j].strip('][').split(', ')\n",
        "        idx_1 = []\n",
        "        idx_2 = []\n",
        "    for k in res_1:\n",
        "        if k in user_dict.keys():\n",
        "            idx_1.append(k)\n",
        "    for l in res_2:\n",
        "        if l in user_dict.keys():\n",
        "            idx_2.append(l)\n",
        "    if len(set.intersection(set(idx_1) , set(idx_2))) != 0:\n",
        "        ui_1.append(i)\n",
        "        ui_2.append(j)\n",
        "        mutual_nos.append(len(set.intersection(set(idx_1) , set(idx_2))))\n",
        "        mutual.append(set.intersection(set(idx_1) , set(idx_2)))\n",
        "    else:\n",
        "        ui_1.append(i)\n",
        "        ui_2.append(j)\n",
        "        mutual_nos.append(0)\n",
        "        mutual.append(0)"
      ]
    },
    {
      "cell_type": "code",
      "execution_count": null,
      "metadata": {
        "id": "Eb-fSYZmnQrD"
      },
      "outputs": [],
      "source": [
        "mutual_df = pd.DataFrame()"
      ]
    },
    {
      "cell_type": "code",
      "execution_count": null,
      "metadata": {
        "id": "MsxEN6y3nQrD"
      },
      "outputs": [],
      "source": [
        "# creating dataframe of mutuals \n",
        "mutual_df['User_1'] = ui_1\n",
        "mutual_df['User_2'] = ui_2\n",
        "\n",
        "mutual_df['Mutuals'] = mutual\n",
        "mutual_df['Number of Mutuals'] = mutual_nos"
      ]
    },
    {
      "cell_type": "code",
      "execution_count": null,
      "metadata": {
        "id": "3KWnveeRnQrE"
      },
      "outputs": [],
      "source": [
        "# creating a function for getting key corresponding to a values from dictionary\n",
        "def get_key(val):\n",
        "    keys = user_dict.keys()\n",
        "    for k in keys:\n",
        "        if user_dict[k] == val:\n",
        "            return k"
      ]
    },
    {
      "cell_type": "code",
      "execution_count": null,
      "metadata": {
        "id": "nnpaAeudnQrF"
      },
      "outputs": [],
      "source": [
        "# converting the integer to string id for user_id\n",
        "mutual_df['User_id_1'] = mutual_df['User_1'].apply(lambda x : get_key(x))\n",
        "mutual_df['User_id_2'] = mutual_df['User_2'].apply(lambda x : get_key(x))"
      ]
    },
    {
      "cell_type": "code",
      "execution_count": null,
      "metadata": {
        "id": "OymWlhwZnQrF"
      },
      "outputs": [],
      "source": [
        "# dropping the numeric id of user\n",
        "mutual_df.drop(['User_1' , 'User_2' ], axis=1 , inplace = True)"
      ]
    },
    {
      "cell_type": "code",
      "execution_count": null,
      "metadata": {
        "id": "Ywf6jhIKnQrG",
        "outputId": "42fa3840-5b85-4919-c829-73773a7be5f6"
      },
      "outputs": [
        {
          "data": {
            "text/html": [
              "<div>\n",
              "<style scoped>\n",
              "    .dataframe tbody tr th:only-of-type {\n",
              "        vertical-align: middle;\n",
              "    }\n",
              "\n",
              "    .dataframe tbody tr th {\n",
              "        vertical-align: top;\n",
              "    }\n",
              "\n",
              "    .dataframe thead th {\n",
              "        text-align: right;\n",
              "    }\n",
              "</style>\n",
              "<table border=\"1\" class=\"dataframe\">\n",
              "  <thead>\n",
              "    <tr style=\"text-align: right;\">\n",
              "      <th></th>\n",
              "      <th>Mutuals</th>\n",
              "      <th>Number of Mutuals</th>\n",
              "      <th>User_id_1</th>\n",
              "      <th>User_id_2</th>\n",
              "    </tr>\n",
              "  </thead>\n",
              "  <tbody>\n",
              "    <tr>\n",
              "      <th>0</th>\n",
              "      <td>{OdMNiPACHRZc8FOr6IE1Bg}</td>\n",
              "      <td>1</td>\n",
              "      <td>qVc8ODYU5SZjKXVBgXdI7w</td>\n",
              "      <td>IOyvme2n-lPfBT2lyb_Lsg</td>\n",
              "    </tr>\n",
              "    <tr>\n",
              "      <th>1</th>\n",
              "      <td>{m7nSwHRMpGKQcB3dyqurZg, ZcFB7xOpJufgX9hHPFh9m...</td>\n",
              "      <td>11</td>\n",
              "      <td>j14WgRoU_-2ZE1aw1dXrJg</td>\n",
              "      <td>IOyvme2n-lPfBT2lyb_Lsg</td>\n",
              "    </tr>\n",
              "    <tr>\n",
              "      <th>2</th>\n",
              "      <td>{dgrejzJzzI485oR3PHTfFw, ZcFB7xOpJufgX9hHPFh9m...</td>\n",
              "      <td>5</td>\n",
              "      <td>2WnXYQFK0hXEoTxPtV2zvg</td>\n",
              "      <td>IOyvme2n-lPfBT2lyb_Lsg</td>\n",
              "    </tr>\n",
              "    <tr>\n",
              "      <th>3</th>\n",
              "      <td>{9aPhTC34PILldShZHzPi5g, uKxUtSvo1An9d1xbQOiid...</td>\n",
              "      <td>7</td>\n",
              "      <td>SZDeASXq7o05mMNLshsdIA</td>\n",
              "      <td>IOyvme2n-lPfBT2lyb_Lsg</td>\n",
              "    </tr>\n",
              "    <tr>\n",
              "      <th>4</th>\n",
              "      <td>{yLW8OrR8Ns4X1oXJmkKYgg}</td>\n",
              "      <td>1</td>\n",
              "      <td>hA5lMy-EnncsH4JoR-hFGQ</td>\n",
              "      <td>IOyvme2n-lPfBT2lyb_Lsg</td>\n",
              "    </tr>\n",
              "  </tbody>\n",
              "</table>\n",
              "</div>"
            ],
            "text/plain": [
              "                                             Mutuals  Number of Mutuals  \\\n",
              "0                           {OdMNiPACHRZc8FOr6IE1Bg}                  1   \n",
              "1  {m7nSwHRMpGKQcB3dyqurZg, ZcFB7xOpJufgX9hHPFh9m...                 11   \n",
              "2  {dgrejzJzzI485oR3PHTfFw, ZcFB7xOpJufgX9hHPFh9m...                  5   \n",
              "3  {9aPhTC34PILldShZHzPi5g, uKxUtSvo1An9d1xbQOiid...                  7   \n",
              "4                           {yLW8OrR8Ns4X1oXJmkKYgg}                  1   \n",
              "\n",
              "                User_id_1               User_id_2  \n",
              "0  qVc8ODYU5SZjKXVBgXdI7w  IOyvme2n-lPfBT2lyb_Lsg  \n",
              "1  j14WgRoU_-2ZE1aw1dXrJg  IOyvme2n-lPfBT2lyb_Lsg  \n",
              "2  2WnXYQFK0hXEoTxPtV2zvg  IOyvme2n-lPfBT2lyb_Lsg  \n",
              "3  SZDeASXq7o05mMNLshsdIA  IOyvme2n-lPfBT2lyb_Lsg  \n",
              "4  hA5lMy-EnncsH4JoR-hFGQ  IOyvme2n-lPfBT2lyb_Lsg  "
            ]
          },
          "execution_count": 123,
          "metadata": {},
          "output_type": "execute_result"
        }
      ],
      "source": [
        "# viewing DataBase of mutual friends among elite users\n",
        "mutual_df.head()"
      ]
    },
    {
      "cell_type": "markdown",
      "source": [
        "## Creating recommandation system"
      ],
      "metadata": {
        "id": "JrXgUzmJpmIz"
      }
    },
    {
      "cell_type": "markdown",
      "source": [
        "### creating business-business similaity matrix"
      ],
      "metadata": {
        "id": "oyqSNg0_psLD"
      }
    },
    {
      "cell_type": "code",
      "execution_count": null,
      "metadata": {
        "id": "SA6KBQ1OnQrR"
      },
      "outputs": [],
      "source": [
        "# sparse_data = csr_matrix((new_rec_df.Rest_Rating, (new_rec_df.user_id, new_rec_df.business_id)))\n",
        "# Compute the cosine similarity\n",
        "def cosine_similarity(ratings, epsilon=1e-9):\n",
        "    # epsilon -> small number for handling dived-by-zero errors\n",
        "    sim = np.dot(ratings.T,ratings)  + epsilon\n",
        "    norms = np.array([np.sqrt(np.diagonal(sim))])\n",
        "    return (sim/(norms*norms.T))"
      ]
    },
    {
      "cell_type": "code",
      "execution_count": null,
      "metadata": {
        "id": "eQwmeV0HnQrT"
      },
      "outputs": [],
      "source": [
        "final_business_df = pd.read_sql(\"SELECT * FROM Business_sql\", conn)"
      ]
    },
    {
      "cell_type": "code",
      "source": [
        "final_business_df"
      ],
      "metadata": {
        "colab": {
          "base_uri": "https://localhost:8080/",
          "height": 748
        },
        "id": "U5qfuJtGqY3d",
        "outputId": "f4823771-459f-4e0e-ba20-77c3466be1f9"
      },
      "execution_count": null,
      "outputs": [
        {
          "output_type": "execute_result",
          "data": {
            "text/plain": [
              "                  business_id                         name  \\\n",
              "0      MTSW4McQd7CbVtyjqoe9mw           St Honore Pastries   \n",
              "1      CF33F8-E6oudUQ46HnavjQ               Sonic Drive-In   \n",
              "2      bBDDEgkFA1Otx9Lfe7BZUQ               Sonic Drive-In   \n",
              "3      eEOYSgkmpB90uNA7lDOMRA        Vietnamese Food Truck   \n",
              "4      0bPLkL0QhhPO5kt1_EXmNQ         Zio's Italian Market   \n",
              "...                       ...                          ...   \n",
              "18934  8n93L-ilMAsvwUatarykSg                  Kitchen Gia   \n",
              "18935  2MAQeAqmD8enCT2ZYqUgIQ  The Melting Pot - Nashville   \n",
              "18936  l9eLGG9ZKpLJzboZq-9LRQ                         Wawa   \n",
              "18937  cM6V90ExQD6KMSU3rRB5ZA            Dutch Bros Coffee   \n",
              "18938  2O2K6SXPWv56amqxCECd4w                 The Plum Pit   \n",
              "\n",
              "                    address             city state postal_code   latitude  \\\n",
              "0               935 Race St     Philadelphia    PA       19107  39.955505   \n",
              "1             615 S Main St     Ashland City    TN       37015  36.269593   \n",
              "2       2312 Dickerson Pike        Nashville    TN       37207  36.208102   \n",
              "3                                  Tampa Bay    FL       33602  27.955269   \n",
              "4             2575 E Bay Dr            Largo    FL       33771  27.916116   \n",
              "...                     ...              ...   ...         ...        ...   \n",
              "18934        3716 Spruce St     Philadelphia    PA       19104  39.951018   \n",
              "18935  166 2nd Ave N, Ste A        Nashville    TN       37201  36.163875   \n",
              "18936       19 N Bishop Ave  Clifton Heights    PA       19018  39.925656   \n",
              "18937   1181 N Milwaukee St            Boise    ID       83704  43.615401   \n",
              "18938       4405 Pennell Rd            Aston    DE       19014  39.856185   \n",
              "\n",
              "        longitude  stars  review_count  ...  hours_Wednesday_opening  \\\n",
              "0      -75.155564    4.0            80  ...      1900-01-01 07:00:00   \n",
              "1      -87.058943    2.0             6  ...      1900-01-01 06:00:00   \n",
              "2      -86.768170    1.5            10  ...      1900-01-01 06:00:00   \n",
              "3      -82.456320    4.0            10  ...      1900-01-01 11:00:00   \n",
              "4      -82.760461    4.5           100  ...      1900-01-01 10:00:00   \n",
              "...           ...    ...           ...  ...                      ...   \n",
              "18934  -75.198240    3.0            22  ...      1900-01-01 09:00:00   \n",
              "18935  -86.776311    4.0           204  ...      1900-01-01 16:00:00   \n",
              "18936  -75.310344    3.0            11  ...      1900-01-01 00:00:00   \n",
              "18937 -116.284689    4.0            33  ...      1900-01-01 00:00:00   \n",
              "18938  -75.427725    4.5            14  ...      1900-01-01 00:00:00   \n",
              "\n",
              "       hours_Wednesday_closing  hours_Thursday_opening  \\\n",
              "0          1900-01-01 20:00:00     1900-01-01 07:00:00   \n",
              "1          1900-01-01 22:00:00     1900-01-01 06:00:00   \n",
              "2          1900-01-01 21:00:00     1900-01-01 06:00:00   \n",
              "3          1900-01-01 14:00:00     1900-01-01 11:00:00   \n",
              "4          1900-01-01 20:00:00     1900-01-01 10:00:00   \n",
              "...                        ...                     ...   \n",
              "18934      1900-01-01 19:30:00     1900-01-01 09:00:00   \n",
              "18935      1900-01-01 21:00:00     1900-01-01 16:00:00   \n",
              "18936      1900-01-01 00:00:00     1900-01-01 00:00:00   \n",
              "18937      1900-01-01 00:00:00     1900-01-01 00:00:00   \n",
              "18938      1900-01-01 00:00:00     1900-01-01 00:00:00   \n",
              "\n",
              "       hours_Thursday_closing  hours_Friday_opening  hours_Friday_closing  \\\n",
              "0         1900-01-01 20:00:00   1900-01-01 07:00:00   1900-01-01 21:00:00   \n",
              "1         1900-01-01 22:00:00   1900-01-01 09:00:00   1900-01-01 00:00:00   \n",
              "2         1900-01-01 16:00:00   1900-01-01 06:00:00   1900-01-01 16:00:00   \n",
              "3         1900-01-01 14:00:00   1900-01-01 11:00:00   1900-01-01 14:00:00   \n",
              "4         1900-01-01 20:00:00   1900-01-01 10:00:00   1900-01-01 20:00:00   \n",
              "...                       ...                   ...                   ...   \n",
              "18934     1900-01-01 19:30:00   1900-01-01 09:00:00   1900-01-01 17:00:00   \n",
              "18935     1900-01-01 21:00:00   1900-01-01 16:00:00   1900-01-01 22:00:00   \n",
              "18936     1900-01-01 00:00:00   1900-01-01 00:00:00   1900-01-01 00:00:00   \n",
              "18937     1900-01-01 00:00:00   1900-01-01 00:00:00   1900-01-01 00:00:00   \n",
              "18938     1900-01-01 00:00:00   1900-01-01 00:00:00   1900-01-01 00:00:00   \n",
              "\n",
              "       hours_Saturday_opening  hours_Saturday_closing  hours_Sunday_opening  \\\n",
              "0         1900-01-01 07:00:00     1900-01-01 21:00:00   1900-01-01 07:00:00   \n",
              "1         1900-01-01 09:00:00     1900-01-01 22:00:00   1900-01-01 08:00:00   \n",
              "2         1900-01-01 06:00:00     1900-01-01 17:00:00   1900-01-01 06:00:00   \n",
              "3         1900-01-01 05:00:00     1900-01-01 10:00:00   1900-01-01 15:00:00   \n",
              "4         1900-01-01 10:00:00     1900-01-01 20:00:00   1900-01-01 10:00:00   \n",
              "...                       ...                     ...                   ...   \n",
              "18934     1900-01-01 11:00:00     1900-01-01 17:00:00   1900-01-01 11:00:00   \n",
              "18935     1900-01-01 15:00:00     1900-01-01 22:00:00   1900-01-01 12:00:00   \n",
              "18936     1900-01-01 00:00:00     1900-01-01 00:00:00   1900-01-01 00:00:00   \n",
              "18937     1900-01-01 00:00:00     1900-01-01 00:00:00   1900-01-01 00:00:00   \n",
              "18938     1900-01-01 00:00:00     1900-01-01 00:00:00   1900-01-01 00:00:00   \n",
              "\n",
              "       hours_Sunday_closing  \n",
              "0       1900-01-01 21:00:00  \n",
              "1       1900-01-01 22:00:00  \n",
              "2       1900-01-01 21:00:00  \n",
              "3       1900-01-01 18:00:00  \n",
              "4       1900-01-01 20:00:00  \n",
              "...                     ...  \n",
              "18934   1900-01-01 19:30:00  \n",
              "18935   1900-01-01 21:00:00  \n",
              "18936   1900-01-01 00:00:00  \n",
              "18937   1900-01-01 00:00:00  \n",
              "18938   1900-01-01 00:00:00  \n",
              "\n",
              "[18939 rows x 89 columns]"
            ],
            "text/html": [
              "\n",
              "  <div id=\"df-5b437c03-f958-4111-a758-ee4f4040d69c\">\n",
              "    <div class=\"colab-df-container\">\n",
              "      <div>\n",
              "<style scoped>\n",
              "    .dataframe tbody tr th:only-of-type {\n",
              "        vertical-align: middle;\n",
              "    }\n",
              "\n",
              "    .dataframe tbody tr th {\n",
              "        vertical-align: top;\n",
              "    }\n",
              "\n",
              "    .dataframe thead th {\n",
              "        text-align: right;\n",
              "    }\n",
              "</style>\n",
              "<table border=\"1\" class=\"dataframe\">\n",
              "  <thead>\n",
              "    <tr style=\"text-align: right;\">\n",
              "      <th></th>\n",
              "      <th>business_id</th>\n",
              "      <th>name</th>\n",
              "      <th>address</th>\n",
              "      <th>city</th>\n",
              "      <th>state</th>\n",
              "      <th>postal_code</th>\n",
              "      <th>latitude</th>\n",
              "      <th>longitude</th>\n",
              "      <th>stars</th>\n",
              "      <th>review_count</th>\n",
              "      <th>...</th>\n",
              "      <th>hours_Wednesday_opening</th>\n",
              "      <th>hours_Wednesday_closing</th>\n",
              "      <th>hours_Thursday_opening</th>\n",
              "      <th>hours_Thursday_closing</th>\n",
              "      <th>hours_Friday_opening</th>\n",
              "      <th>hours_Friday_closing</th>\n",
              "      <th>hours_Saturday_opening</th>\n",
              "      <th>hours_Saturday_closing</th>\n",
              "      <th>hours_Sunday_opening</th>\n",
              "      <th>hours_Sunday_closing</th>\n",
              "    </tr>\n",
              "  </thead>\n",
              "  <tbody>\n",
              "    <tr>\n",
              "      <th>0</th>\n",
              "      <td>MTSW4McQd7CbVtyjqoe9mw</td>\n",
              "      <td>St Honore Pastries</td>\n",
              "      <td>935 Race St</td>\n",
              "      <td>Philadelphia</td>\n",
              "      <td>PA</td>\n",
              "      <td>19107</td>\n",
              "      <td>39.955505</td>\n",
              "      <td>-75.155564</td>\n",
              "      <td>4.0</td>\n",
              "      <td>80</td>\n",
              "      <td>...</td>\n",
              "      <td>1900-01-01 07:00:00</td>\n",
              "      <td>1900-01-01 20:00:00</td>\n",
              "      <td>1900-01-01 07:00:00</td>\n",
              "      <td>1900-01-01 20:00:00</td>\n",
              "      <td>1900-01-01 07:00:00</td>\n",
              "      <td>1900-01-01 21:00:00</td>\n",
              "      <td>1900-01-01 07:00:00</td>\n",
              "      <td>1900-01-01 21:00:00</td>\n",
              "      <td>1900-01-01 07:00:00</td>\n",
              "      <td>1900-01-01 21:00:00</td>\n",
              "    </tr>\n",
              "    <tr>\n",
              "      <th>1</th>\n",
              "      <td>CF33F8-E6oudUQ46HnavjQ</td>\n",
              "      <td>Sonic Drive-In</td>\n",
              "      <td>615 S Main St</td>\n",
              "      <td>Ashland City</td>\n",
              "      <td>TN</td>\n",
              "      <td>37015</td>\n",
              "      <td>36.269593</td>\n",
              "      <td>-87.058943</td>\n",
              "      <td>2.0</td>\n",
              "      <td>6</td>\n",
              "      <td>...</td>\n",
              "      <td>1900-01-01 06:00:00</td>\n",
              "      <td>1900-01-01 22:00:00</td>\n",
              "      <td>1900-01-01 06:00:00</td>\n",
              "      <td>1900-01-01 22:00:00</td>\n",
              "      <td>1900-01-01 09:00:00</td>\n",
              "      <td>1900-01-01 00:00:00</td>\n",
              "      <td>1900-01-01 09:00:00</td>\n",
              "      <td>1900-01-01 22:00:00</td>\n",
              "      <td>1900-01-01 08:00:00</td>\n",
              "      <td>1900-01-01 22:00:00</td>\n",
              "    </tr>\n",
              "    <tr>\n",
              "      <th>2</th>\n",
              "      <td>bBDDEgkFA1Otx9Lfe7BZUQ</td>\n",
              "      <td>Sonic Drive-In</td>\n",
              "      <td>2312 Dickerson Pike</td>\n",
              "      <td>Nashville</td>\n",
              "      <td>TN</td>\n",
              "      <td>37207</td>\n",
              "      <td>36.208102</td>\n",
              "      <td>-86.768170</td>\n",
              "      <td>1.5</td>\n",
              "      <td>10</td>\n",
              "      <td>...</td>\n",
              "      <td>1900-01-01 06:00:00</td>\n",
              "      <td>1900-01-01 21:00:00</td>\n",
              "      <td>1900-01-01 06:00:00</td>\n",
              "      <td>1900-01-01 16:00:00</td>\n",
              "      <td>1900-01-01 06:00:00</td>\n",
              "      <td>1900-01-01 16:00:00</td>\n",
              "      <td>1900-01-01 06:00:00</td>\n",
              "      <td>1900-01-01 17:00:00</td>\n",
              "      <td>1900-01-01 06:00:00</td>\n",
              "      <td>1900-01-01 21:00:00</td>\n",
              "    </tr>\n",
              "    <tr>\n",
              "      <th>3</th>\n",
              "      <td>eEOYSgkmpB90uNA7lDOMRA</td>\n",
              "      <td>Vietnamese Food Truck</td>\n",
              "      <td></td>\n",
              "      <td>Tampa Bay</td>\n",
              "      <td>FL</td>\n",
              "      <td>33602</td>\n",
              "      <td>27.955269</td>\n",
              "      <td>-82.456320</td>\n",
              "      <td>4.0</td>\n",
              "      <td>10</td>\n",
              "      <td>...</td>\n",
              "      <td>1900-01-01 11:00:00</td>\n",
              "      <td>1900-01-01 14:00:00</td>\n",
              "      <td>1900-01-01 11:00:00</td>\n",
              "      <td>1900-01-01 14:00:00</td>\n",
              "      <td>1900-01-01 11:00:00</td>\n",
              "      <td>1900-01-01 14:00:00</td>\n",
              "      <td>1900-01-01 05:00:00</td>\n",
              "      <td>1900-01-01 10:00:00</td>\n",
              "      <td>1900-01-01 15:00:00</td>\n",
              "      <td>1900-01-01 18:00:00</td>\n",
              "    </tr>\n",
              "    <tr>\n",
              "      <th>4</th>\n",
              "      <td>0bPLkL0QhhPO5kt1_EXmNQ</td>\n",
              "      <td>Zio's Italian Market</td>\n",
              "      <td>2575 E Bay Dr</td>\n",
              "      <td>Largo</td>\n",
              "      <td>FL</td>\n",
              "      <td>33771</td>\n",
              "      <td>27.916116</td>\n",
              "      <td>-82.760461</td>\n",
              "      <td>4.5</td>\n",
              "      <td>100</td>\n",
              "      <td>...</td>\n",
              "      <td>1900-01-01 10:00:00</td>\n",
              "      <td>1900-01-01 20:00:00</td>\n",
              "      <td>1900-01-01 10:00:00</td>\n",
              "      <td>1900-01-01 20:00:00</td>\n",
              "      <td>1900-01-01 10:00:00</td>\n",
              "      <td>1900-01-01 20:00:00</td>\n",
              "      <td>1900-01-01 10:00:00</td>\n",
              "      <td>1900-01-01 20:00:00</td>\n",
              "      <td>1900-01-01 10:00:00</td>\n",
              "      <td>1900-01-01 20:00:00</td>\n",
              "    </tr>\n",
              "    <tr>\n",
              "      <th>...</th>\n",
              "      <td>...</td>\n",
              "      <td>...</td>\n",
              "      <td>...</td>\n",
              "      <td>...</td>\n",
              "      <td>...</td>\n",
              "      <td>...</td>\n",
              "      <td>...</td>\n",
              "      <td>...</td>\n",
              "      <td>...</td>\n",
              "      <td>...</td>\n",
              "      <td>...</td>\n",
              "      <td>...</td>\n",
              "      <td>...</td>\n",
              "      <td>...</td>\n",
              "      <td>...</td>\n",
              "      <td>...</td>\n",
              "      <td>...</td>\n",
              "      <td>...</td>\n",
              "      <td>...</td>\n",
              "      <td>...</td>\n",
              "      <td>...</td>\n",
              "    </tr>\n",
              "    <tr>\n",
              "      <th>18934</th>\n",
              "      <td>8n93L-ilMAsvwUatarykSg</td>\n",
              "      <td>Kitchen Gia</td>\n",
              "      <td>3716 Spruce St</td>\n",
              "      <td>Philadelphia</td>\n",
              "      <td>PA</td>\n",
              "      <td>19104</td>\n",
              "      <td>39.951018</td>\n",
              "      <td>-75.198240</td>\n",
              "      <td>3.0</td>\n",
              "      <td>22</td>\n",
              "      <td>...</td>\n",
              "      <td>1900-01-01 09:00:00</td>\n",
              "      <td>1900-01-01 19:30:00</td>\n",
              "      <td>1900-01-01 09:00:00</td>\n",
              "      <td>1900-01-01 19:30:00</td>\n",
              "      <td>1900-01-01 09:00:00</td>\n",
              "      <td>1900-01-01 17:00:00</td>\n",
              "      <td>1900-01-01 11:00:00</td>\n",
              "      <td>1900-01-01 17:00:00</td>\n",
              "      <td>1900-01-01 11:00:00</td>\n",
              "      <td>1900-01-01 19:30:00</td>\n",
              "    </tr>\n",
              "    <tr>\n",
              "      <th>18935</th>\n",
              "      <td>2MAQeAqmD8enCT2ZYqUgIQ</td>\n",
              "      <td>The Melting Pot - Nashville</td>\n",
              "      <td>166 2nd Ave N, Ste A</td>\n",
              "      <td>Nashville</td>\n",
              "      <td>TN</td>\n",
              "      <td>37201</td>\n",
              "      <td>36.163875</td>\n",
              "      <td>-86.776311</td>\n",
              "      <td>4.0</td>\n",
              "      <td>204</td>\n",
              "      <td>...</td>\n",
              "      <td>1900-01-01 16:00:00</td>\n",
              "      <td>1900-01-01 21:00:00</td>\n",
              "      <td>1900-01-01 16:00:00</td>\n",
              "      <td>1900-01-01 21:00:00</td>\n",
              "      <td>1900-01-01 16:00:00</td>\n",
              "      <td>1900-01-01 22:00:00</td>\n",
              "      <td>1900-01-01 15:00:00</td>\n",
              "      <td>1900-01-01 22:00:00</td>\n",
              "      <td>1900-01-01 12:00:00</td>\n",
              "      <td>1900-01-01 21:00:00</td>\n",
              "    </tr>\n",
              "    <tr>\n",
              "      <th>18936</th>\n",
              "      <td>l9eLGG9ZKpLJzboZq-9LRQ</td>\n",
              "      <td>Wawa</td>\n",
              "      <td>19 N Bishop Ave</td>\n",
              "      <td>Clifton Heights</td>\n",
              "      <td>PA</td>\n",
              "      <td>19018</td>\n",
              "      <td>39.925656</td>\n",
              "      <td>-75.310344</td>\n",
              "      <td>3.0</td>\n",
              "      <td>11</td>\n",
              "      <td>...</td>\n",
              "      <td>1900-01-01 00:00:00</td>\n",
              "      <td>1900-01-01 00:00:00</td>\n",
              "      <td>1900-01-01 00:00:00</td>\n",
              "      <td>1900-01-01 00:00:00</td>\n",
              "      <td>1900-01-01 00:00:00</td>\n",
              "      <td>1900-01-01 00:00:00</td>\n",
              "      <td>1900-01-01 00:00:00</td>\n",
              "      <td>1900-01-01 00:00:00</td>\n",
              "      <td>1900-01-01 00:00:00</td>\n",
              "      <td>1900-01-01 00:00:00</td>\n",
              "    </tr>\n",
              "    <tr>\n",
              "      <th>18937</th>\n",
              "      <td>cM6V90ExQD6KMSU3rRB5ZA</td>\n",
              "      <td>Dutch Bros Coffee</td>\n",
              "      <td>1181 N Milwaukee St</td>\n",
              "      <td>Boise</td>\n",
              "      <td>ID</td>\n",
              "      <td>83704</td>\n",
              "      <td>43.615401</td>\n",
              "      <td>-116.284689</td>\n",
              "      <td>4.0</td>\n",
              "      <td>33</td>\n",
              "      <td>...</td>\n",
              "      <td>1900-01-01 00:00:00</td>\n",
              "      <td>1900-01-01 00:00:00</td>\n",
              "      <td>1900-01-01 00:00:00</td>\n",
              "      <td>1900-01-01 00:00:00</td>\n",
              "      <td>1900-01-01 00:00:00</td>\n",
              "      <td>1900-01-01 00:00:00</td>\n",
              "      <td>1900-01-01 00:00:00</td>\n",
              "      <td>1900-01-01 00:00:00</td>\n",
              "      <td>1900-01-01 00:00:00</td>\n",
              "      <td>1900-01-01 00:00:00</td>\n",
              "    </tr>\n",
              "    <tr>\n",
              "      <th>18938</th>\n",
              "      <td>2O2K6SXPWv56amqxCECd4w</td>\n",
              "      <td>The Plum Pit</td>\n",
              "      <td>4405 Pennell Rd</td>\n",
              "      <td>Aston</td>\n",
              "      <td>DE</td>\n",
              "      <td>19014</td>\n",
              "      <td>39.856185</td>\n",
              "      <td>-75.427725</td>\n",
              "      <td>4.5</td>\n",
              "      <td>14</td>\n",
              "      <td>...</td>\n",
              "      <td>1900-01-01 00:00:00</td>\n",
              "      <td>1900-01-01 00:00:00</td>\n",
              "      <td>1900-01-01 00:00:00</td>\n",
              "      <td>1900-01-01 00:00:00</td>\n",
              "      <td>1900-01-01 00:00:00</td>\n",
              "      <td>1900-01-01 00:00:00</td>\n",
              "      <td>1900-01-01 00:00:00</td>\n",
              "      <td>1900-01-01 00:00:00</td>\n",
              "      <td>1900-01-01 00:00:00</td>\n",
              "      <td>1900-01-01 00:00:00</td>\n",
              "    </tr>\n",
              "  </tbody>\n",
              "</table>\n",
              "<p>18939 rows × 89 columns</p>\n",
              "</div>\n",
              "      <button class=\"colab-df-convert\" onclick=\"convertToInteractive('df-5b437c03-f958-4111-a758-ee4f4040d69c')\"\n",
              "              title=\"Convert this dataframe to an interactive table.\"\n",
              "              style=\"display:none;\">\n",
              "        \n",
              "  <svg xmlns=\"http://www.w3.org/2000/svg\" height=\"24px\"viewBox=\"0 0 24 24\"\n",
              "       width=\"24px\">\n",
              "    <path d=\"M0 0h24v24H0V0z\" fill=\"none\"/>\n",
              "    <path d=\"M18.56 5.44l.94 2.06.94-2.06 2.06-.94-2.06-.94-.94-2.06-.94 2.06-2.06.94zm-11 1L8.5 8.5l.94-2.06 2.06-.94-2.06-.94L8.5 2.5l-.94 2.06-2.06.94zm10 10l.94 2.06.94-2.06 2.06-.94-2.06-.94-.94-2.06-.94 2.06-2.06.94z\"/><path d=\"M17.41 7.96l-1.37-1.37c-.4-.4-.92-.59-1.43-.59-.52 0-1.04.2-1.43.59L10.3 9.45l-7.72 7.72c-.78.78-.78 2.05 0 2.83L4 21.41c.39.39.9.59 1.41.59.51 0 1.02-.2 1.41-.59l7.78-7.78 2.81-2.81c.8-.78.8-2.07 0-2.86zM5.41 20L4 18.59l7.72-7.72 1.47 1.35L5.41 20z\"/>\n",
              "  </svg>\n",
              "      </button>\n",
              "      \n",
              "  <style>\n",
              "    .colab-df-container {\n",
              "      display:flex;\n",
              "      flex-wrap:wrap;\n",
              "      gap: 12px;\n",
              "    }\n",
              "\n",
              "    .colab-df-convert {\n",
              "      background-color: #E8F0FE;\n",
              "      border: none;\n",
              "      border-radius: 50%;\n",
              "      cursor: pointer;\n",
              "      display: none;\n",
              "      fill: #1967D2;\n",
              "      height: 32px;\n",
              "      padding: 0 0 0 0;\n",
              "      width: 32px;\n",
              "    }\n",
              "\n",
              "    .colab-df-convert:hover {\n",
              "      background-color: #E2EBFA;\n",
              "      box-shadow: 0px 1px 2px rgba(60, 64, 67, 0.3), 0px 1px 3px 1px rgba(60, 64, 67, 0.15);\n",
              "      fill: #174EA6;\n",
              "    }\n",
              "\n",
              "    [theme=dark] .colab-df-convert {\n",
              "      background-color: #3B4455;\n",
              "      fill: #D2E3FC;\n",
              "    }\n",
              "\n",
              "    [theme=dark] .colab-df-convert:hover {\n",
              "      background-color: #434B5C;\n",
              "      box-shadow: 0px 1px 3px 1px rgba(0, 0, 0, 0.15);\n",
              "      filter: drop-shadow(0px 1px 2px rgba(0, 0, 0, 0.3));\n",
              "      fill: #FFFFFF;\n",
              "    }\n",
              "  </style>\n",
              "\n",
              "      <script>\n",
              "        const buttonEl =\n",
              "          document.querySelector('#df-5b437c03-f958-4111-a758-ee4f4040d69c button.colab-df-convert');\n",
              "        buttonEl.style.display =\n",
              "          google.colab.kernel.accessAllowed ? 'block' : 'none';\n",
              "\n",
              "        async function convertToInteractive(key) {\n",
              "          const element = document.querySelector('#df-5b437c03-f958-4111-a758-ee4f4040d69c');\n",
              "          const dataTable =\n",
              "            await google.colab.kernel.invokeFunction('convertToInteractive',\n",
              "                                                     [key], {});\n",
              "          if (!dataTable) return;\n",
              "\n",
              "          const docLinkHtml = 'Like what you see? Visit the ' +\n",
              "            '<a target=\"_blank\" href=https://colab.research.google.com/notebooks/data_table.ipynb>data table notebook</a>'\n",
              "            + ' to learn more about interactive tables.';\n",
              "          element.innerHTML = '';\n",
              "          dataTable['output_type'] = 'display_data';\n",
              "          await google.colab.output.renderOutput(dataTable, element);\n",
              "          const docLink = document.createElement('div');\n",
              "          docLink.innerHTML = docLinkHtml;\n",
              "          element.appendChild(docLink);\n",
              "        }\n",
              "      </script>\n",
              "    </div>\n",
              "  </div>\n",
              "  "
            ]
          },
          "metadata": {},
          "execution_count": 22
        }
      ]
    },
    {
      "cell_type": "code",
      "execution_count": null,
      "metadata": {
        "id": "4pVca6V7nQrk"
      },
      "outputs": [],
      "source": [
        "final_business_df.drop(final_business_df.dtypes[final_business_df.dtypes == 'object'].index, axis=1, inplace=True)\n",
        "final_business_df.drop(['latitude', 'longitude'], axis=1, inplace=True)\n",
        "\n",
        "day_cols = [col for col in final_business_df.columns if col.startswith('hours')]"
      ]
    },
    {
      "cell_type": "code",
      "execution_count": null,
      "metadata": {
        "id": "lEHhV6VInQrl"
      },
      "outputs": [],
      "source": [
        "def cosine_similarity(ratings, epsilon=1e-9):\n",
        "    # epsilon -> small number for handling dived-by-zero errors\n",
        "    sim = np.dot(ratings.T, ratings) + epsilon\n",
        "    norms = np.array([np.sqrt(np.diagonal(sim))])\n",
        "    return (sim / (norms * norms.T))\n",
        "\n",
        "item_item_sim = cosine_similarity(final_business_df.drop(day_cols, axis=1).T)"
      ]
    },
    {
      "cell_type": "code",
      "execution_count": null,
      "metadata": {
        "id": "Dg_bjniGnQrt"
      },
      "outputs": [],
      "source": [
        "business_ids = cursor.execute('SELECT DISTINCT(business_id) FROM business_sql').fetchall()\n",
        "business_ids_mapping = {o[0]:i + 1 for i,o in enumerate(business_ids)}"
      ]
    },
    {
      "cell_type": "code",
      "execution_count": null,
      "metadata": {
        "colab": {
          "base_uri": "https://localhost:8080/",
          "height": 317
        },
        "id": "3khdwP_9nQrm",
        "outputId": "01e6edf8-0ac8-4399-9ef6-57c3bb635158"
      },
      "outputs": [
        {
          "output_type": "execute_result",
          "data": {
            "text/plain": [
              "                        MTSW4McQd7CbVtyjqoe9mw  CF33F8-E6oudUQ46HnavjQ  \\\n",
              "MTSW4McQd7CbVtyjqoe9mw                1.000000                0.835344   \n",
              "CF33F8-E6oudUQ46HnavjQ                0.835344                1.000000   \n",
              "bBDDEgkFA1Otx9Lfe7BZUQ                0.941373                0.950701   \n",
              "eEOYSgkmpB90uNA7lDOMRA                0.938379                0.864393   \n",
              "0bPLkL0QhhPO5kt1_EXmNQ                0.999190                0.840830   \n",
              "\n",
              "                        bBDDEgkFA1Otx9Lfe7BZUQ  eEOYSgkmpB90uNA7lDOMRA  \\\n",
              "MTSW4McQd7CbVtyjqoe9mw                0.941373                0.938379   \n",
              "CF33F8-E6oudUQ46HnavjQ                0.950701                0.864393   \n",
              "bBDDEgkFA1Otx9Lfe7BZUQ                1.000000                0.917534   \n",
              "eEOYSgkmpB90uNA7lDOMRA                0.917534                1.000000   \n",
              "0bPLkL0QhhPO5kt1_EXmNQ                0.944454                0.935451   \n",
              "\n",
              "                        0bPLkL0QhhPO5kt1_EXmNQ  WKMJwqnfZKsAae75RMP6jA  \\\n",
              "MTSW4McQd7CbVtyjqoe9mw                0.999190                0.995396   \n",
              "CF33F8-E6oudUQ46HnavjQ                0.840830                0.852504   \n",
              "bBDDEgkFA1Otx9Lfe7BZUQ                0.944454                0.943357   \n",
              "eEOYSgkmpB90uNA7lDOMRA                0.935451                0.948255   \n",
              "0bPLkL0QhhPO5kt1_EXmNQ                1.000000                0.994840   \n",
              "\n",
              "                        aPNXGTDkf-4bjhyMBQxqpQ  ljxNT9p0y7YMPx0fcNBGig  \\\n",
              "MTSW4McQd7CbVtyjqoe9mw                0.998371                0.998676   \n",
              "CF33F8-E6oudUQ46HnavjQ                0.847266                0.839446   \n",
              "bBDDEgkFA1Otx9Lfe7BZUQ                0.948859                0.943005   \n",
              "eEOYSgkmpB90uNA7lDOMRA                0.938796                0.931463   \n",
              "0bPLkL0QhhPO5kt1_EXmNQ                0.998624                0.999030   \n",
              "\n",
              "                        lk9IwjZXqUMqqOhM774DtQ  cVBxfMC4lp3DnocjYA3FHQ  ...  \\\n",
              "MTSW4McQd7CbVtyjqoe9mw                0.998866                0.971571  ...   \n",
              "CF33F8-E6oudUQ46HnavjQ                0.829563                0.879820  ...   \n",
              "bBDDEgkFA1Otx9Lfe7BZUQ                0.939131                0.947971  ...   \n",
              "eEOYSgkmpB90uNA7lDOMRA                0.927979                0.969926  ...   \n",
              "0bPLkL0QhhPO5kt1_EXmNQ                0.999179                0.969719  ...   \n",
              "\n",
              "                        Y5gyxnQt44B3axgzrjttlw  uriD7RFuHhLJeDdKaf0nFA  \\\n",
              "MTSW4McQd7CbVtyjqoe9mw                0.810444                0.998794   \n",
              "CF33F8-E6oudUQ46HnavjQ                0.830915                0.824969   \n",
              "bBDDEgkFA1Otx9Lfe7BZUQ                0.831971                0.935967   \n",
              "eEOYSgkmpB90uNA7lDOMRA                0.944804                0.925304   \n",
              "0bPLkL0QhhPO5kt1_EXmNQ                0.805632                0.999048   \n",
              "\n",
              "                        Wko0HNelt55ZIp3Dm3eD2g  wVxXRFf10zTTAs11nr4xeA  \\\n",
              "MTSW4McQd7CbVtyjqoe9mw                0.750801                0.997732   \n",
              "CF33F8-E6oudUQ46HnavjQ                0.862000                0.851871   \n",
              "bBDDEgkFA1Otx9Lfe7BZUQ                0.848187                0.949659   \n",
              "eEOYSgkmpB90uNA7lDOMRA                0.861437                0.937695   \n",
              "0bPLkL0QhhPO5kt1_EXmNQ                0.749770                0.998426   \n",
              "\n",
              "                        sf_oQ62L8UEnOOLf00nNGA  8n93L-ilMAsvwUatarykSg  \\\n",
              "MTSW4McQd7CbVtyjqoe9mw                0.873409                0.983264   \n",
              "CF33F8-E6oudUQ46HnavjQ                0.904515                0.892701   \n",
              "bBDDEgkFA1Otx9Lfe7BZUQ                0.915544                0.968196   \n",
              "eEOYSgkmpB90uNA7lDOMRA                0.950379                0.946647   \n",
              "0bPLkL0QhhPO5kt1_EXmNQ                0.871698                0.983768   \n",
              "\n",
              "                        2MAQeAqmD8enCT2ZYqUgIQ  l9eLGG9ZKpLJzboZq-9LRQ  \\\n",
              "MTSW4McQd7CbVtyjqoe9mw                0.998936                0.952687   \n",
              "CF33F8-E6oudUQ46HnavjQ                0.826723                0.891978   \n",
              "bBDDEgkFA1Otx9Lfe7BZUQ                0.936922                0.947563   \n",
              "eEOYSgkmpB90uNA7lDOMRA                0.927294                0.963884   \n",
              "0bPLkL0QhhPO5kt1_EXmNQ                0.998974                0.952109   \n",
              "\n",
              "                        cM6V90ExQD6KMSU3rRB5ZA  2O2K6SXPWv56amqxCECd4w  \n",
              "MTSW4McQd7CbVtyjqoe9mw                0.992563                0.951023  \n",
              "CF33F8-E6oudUQ46HnavjQ                0.866886                0.888581  \n",
              "bBDDEgkFA1Otx9Lfe7BZUQ                0.955549                0.941837  \n",
              "eEOYSgkmpB90uNA7lDOMRA                0.955361                0.981401  \n",
              "0bPLkL0QhhPO5kt1_EXmNQ                0.992625                0.948588  \n",
              "\n",
              "[5 rows x 18939 columns]"
            ],
            "text/html": [
              "\n",
              "  <div id=\"df-c5f65d3b-4f46-4d28-990b-645df4f5e1e4\">\n",
              "    <div class=\"colab-df-container\">\n",
              "      <div>\n",
              "<style scoped>\n",
              "    .dataframe tbody tr th:only-of-type {\n",
              "        vertical-align: middle;\n",
              "    }\n",
              "\n",
              "    .dataframe tbody tr th {\n",
              "        vertical-align: top;\n",
              "    }\n",
              "\n",
              "    .dataframe thead th {\n",
              "        text-align: right;\n",
              "    }\n",
              "</style>\n",
              "<table border=\"1\" class=\"dataframe\">\n",
              "  <thead>\n",
              "    <tr style=\"text-align: right;\">\n",
              "      <th></th>\n",
              "      <th>MTSW4McQd7CbVtyjqoe9mw</th>\n",
              "      <th>CF33F8-E6oudUQ46HnavjQ</th>\n",
              "      <th>bBDDEgkFA1Otx9Lfe7BZUQ</th>\n",
              "      <th>eEOYSgkmpB90uNA7lDOMRA</th>\n",
              "      <th>0bPLkL0QhhPO5kt1_EXmNQ</th>\n",
              "      <th>WKMJwqnfZKsAae75RMP6jA</th>\n",
              "      <th>aPNXGTDkf-4bjhyMBQxqpQ</th>\n",
              "      <th>ljxNT9p0y7YMPx0fcNBGig</th>\n",
              "      <th>lk9IwjZXqUMqqOhM774DtQ</th>\n",
              "      <th>cVBxfMC4lp3DnocjYA3FHQ</th>\n",
              "      <th>...</th>\n",
              "      <th>Y5gyxnQt44B3axgzrjttlw</th>\n",
              "      <th>uriD7RFuHhLJeDdKaf0nFA</th>\n",
              "      <th>Wko0HNelt55ZIp3Dm3eD2g</th>\n",
              "      <th>wVxXRFf10zTTAs11nr4xeA</th>\n",
              "      <th>sf_oQ62L8UEnOOLf00nNGA</th>\n",
              "      <th>8n93L-ilMAsvwUatarykSg</th>\n",
              "      <th>2MAQeAqmD8enCT2ZYqUgIQ</th>\n",
              "      <th>l9eLGG9ZKpLJzboZq-9LRQ</th>\n",
              "      <th>cM6V90ExQD6KMSU3rRB5ZA</th>\n",
              "      <th>2O2K6SXPWv56amqxCECd4w</th>\n",
              "    </tr>\n",
              "  </thead>\n",
              "  <tbody>\n",
              "    <tr>\n",
              "      <th>MTSW4McQd7CbVtyjqoe9mw</th>\n",
              "      <td>1.000000</td>\n",
              "      <td>0.835344</td>\n",
              "      <td>0.941373</td>\n",
              "      <td>0.938379</td>\n",
              "      <td>0.999190</td>\n",
              "      <td>0.995396</td>\n",
              "      <td>0.998371</td>\n",
              "      <td>0.998676</td>\n",
              "      <td>0.998866</td>\n",
              "      <td>0.971571</td>\n",
              "      <td>...</td>\n",
              "      <td>0.810444</td>\n",
              "      <td>0.998794</td>\n",
              "      <td>0.750801</td>\n",
              "      <td>0.997732</td>\n",
              "      <td>0.873409</td>\n",
              "      <td>0.983264</td>\n",
              "      <td>0.998936</td>\n",
              "      <td>0.952687</td>\n",
              "      <td>0.992563</td>\n",
              "      <td>0.951023</td>\n",
              "    </tr>\n",
              "    <tr>\n",
              "      <th>CF33F8-E6oudUQ46HnavjQ</th>\n",
              "      <td>0.835344</td>\n",
              "      <td>1.000000</td>\n",
              "      <td>0.950701</td>\n",
              "      <td>0.864393</td>\n",
              "      <td>0.840830</td>\n",
              "      <td>0.852504</td>\n",
              "      <td>0.847266</td>\n",
              "      <td>0.839446</td>\n",
              "      <td>0.829563</td>\n",
              "      <td>0.879820</td>\n",
              "      <td>...</td>\n",
              "      <td>0.830915</td>\n",
              "      <td>0.824969</td>\n",
              "      <td>0.862000</td>\n",
              "      <td>0.851871</td>\n",
              "      <td>0.904515</td>\n",
              "      <td>0.892701</td>\n",
              "      <td>0.826723</td>\n",
              "      <td>0.891978</td>\n",
              "      <td>0.866886</td>\n",
              "      <td>0.888581</td>\n",
              "    </tr>\n",
              "    <tr>\n",
              "      <th>bBDDEgkFA1Otx9Lfe7BZUQ</th>\n",
              "      <td>0.941373</td>\n",
              "      <td>0.950701</td>\n",
              "      <td>1.000000</td>\n",
              "      <td>0.917534</td>\n",
              "      <td>0.944454</td>\n",
              "      <td>0.943357</td>\n",
              "      <td>0.948859</td>\n",
              "      <td>0.943005</td>\n",
              "      <td>0.939131</td>\n",
              "      <td>0.947971</td>\n",
              "      <td>...</td>\n",
              "      <td>0.831971</td>\n",
              "      <td>0.935967</td>\n",
              "      <td>0.848187</td>\n",
              "      <td>0.949659</td>\n",
              "      <td>0.915544</td>\n",
              "      <td>0.968196</td>\n",
              "      <td>0.936922</td>\n",
              "      <td>0.947563</td>\n",
              "      <td>0.955549</td>\n",
              "      <td>0.941837</td>\n",
              "    </tr>\n",
              "    <tr>\n",
              "      <th>eEOYSgkmpB90uNA7lDOMRA</th>\n",
              "      <td>0.938379</td>\n",
              "      <td>0.864393</td>\n",
              "      <td>0.917534</td>\n",
              "      <td>1.000000</td>\n",
              "      <td>0.935451</td>\n",
              "      <td>0.948255</td>\n",
              "      <td>0.938796</td>\n",
              "      <td>0.931463</td>\n",
              "      <td>0.927979</td>\n",
              "      <td>0.969926</td>\n",
              "      <td>...</td>\n",
              "      <td>0.944804</td>\n",
              "      <td>0.925304</td>\n",
              "      <td>0.861437</td>\n",
              "      <td>0.937695</td>\n",
              "      <td>0.950379</td>\n",
              "      <td>0.946647</td>\n",
              "      <td>0.927294</td>\n",
              "      <td>0.963884</td>\n",
              "      <td>0.955361</td>\n",
              "      <td>0.981401</td>\n",
              "    </tr>\n",
              "    <tr>\n",
              "      <th>0bPLkL0QhhPO5kt1_EXmNQ</th>\n",
              "      <td>0.999190</td>\n",
              "      <td>0.840830</td>\n",
              "      <td>0.944454</td>\n",
              "      <td>0.935451</td>\n",
              "      <td>1.000000</td>\n",
              "      <td>0.994840</td>\n",
              "      <td>0.998624</td>\n",
              "      <td>0.999030</td>\n",
              "      <td>0.999179</td>\n",
              "      <td>0.969719</td>\n",
              "      <td>...</td>\n",
              "      <td>0.805632</td>\n",
              "      <td>0.999048</td>\n",
              "      <td>0.749770</td>\n",
              "      <td>0.998426</td>\n",
              "      <td>0.871698</td>\n",
              "      <td>0.983768</td>\n",
              "      <td>0.998974</td>\n",
              "      <td>0.952109</td>\n",
              "      <td>0.992625</td>\n",
              "      <td>0.948588</td>\n",
              "    </tr>\n",
              "  </tbody>\n",
              "</table>\n",
              "<p>5 rows × 18939 columns</p>\n",
              "</div>\n",
              "      <button class=\"colab-df-convert\" onclick=\"convertToInteractive('df-c5f65d3b-4f46-4d28-990b-645df4f5e1e4')\"\n",
              "              title=\"Convert this dataframe to an interactive table.\"\n",
              "              style=\"display:none;\">\n",
              "        \n",
              "  <svg xmlns=\"http://www.w3.org/2000/svg\" height=\"24px\"viewBox=\"0 0 24 24\"\n",
              "       width=\"24px\">\n",
              "    <path d=\"M0 0h24v24H0V0z\" fill=\"none\"/>\n",
              "    <path d=\"M18.56 5.44l.94 2.06.94-2.06 2.06-.94-2.06-.94-.94-2.06-.94 2.06-2.06.94zm-11 1L8.5 8.5l.94-2.06 2.06-.94-2.06-.94L8.5 2.5l-.94 2.06-2.06.94zm10 10l.94 2.06.94-2.06 2.06-.94-2.06-.94-.94-2.06-.94 2.06-2.06.94z\"/><path d=\"M17.41 7.96l-1.37-1.37c-.4-.4-.92-.59-1.43-.59-.52 0-1.04.2-1.43.59L10.3 9.45l-7.72 7.72c-.78.78-.78 2.05 0 2.83L4 21.41c.39.39.9.59 1.41.59.51 0 1.02-.2 1.41-.59l7.78-7.78 2.81-2.81c.8-.78.8-2.07 0-2.86zM5.41 20L4 18.59l7.72-7.72 1.47 1.35L5.41 20z\"/>\n",
              "  </svg>\n",
              "      </button>\n",
              "      \n",
              "  <style>\n",
              "    .colab-df-container {\n",
              "      display:flex;\n",
              "      flex-wrap:wrap;\n",
              "      gap: 12px;\n",
              "    }\n",
              "\n",
              "    .colab-df-convert {\n",
              "      background-color: #E8F0FE;\n",
              "      border: none;\n",
              "      border-radius: 50%;\n",
              "      cursor: pointer;\n",
              "      display: none;\n",
              "      fill: #1967D2;\n",
              "      height: 32px;\n",
              "      padding: 0 0 0 0;\n",
              "      width: 32px;\n",
              "    }\n",
              "\n",
              "    .colab-df-convert:hover {\n",
              "      background-color: #E2EBFA;\n",
              "      box-shadow: 0px 1px 2px rgba(60, 64, 67, 0.3), 0px 1px 3px 1px rgba(60, 64, 67, 0.15);\n",
              "      fill: #174EA6;\n",
              "    }\n",
              "\n",
              "    [theme=dark] .colab-df-convert {\n",
              "      background-color: #3B4455;\n",
              "      fill: #D2E3FC;\n",
              "    }\n",
              "\n",
              "    [theme=dark] .colab-df-convert:hover {\n",
              "      background-color: #434B5C;\n",
              "      box-shadow: 0px 1px 3px 1px rgba(0, 0, 0, 0.15);\n",
              "      filter: drop-shadow(0px 1px 2px rgba(0, 0, 0, 0.3));\n",
              "      fill: #FFFFFF;\n",
              "    }\n",
              "  </style>\n",
              "\n",
              "      <script>\n",
              "        const buttonEl =\n",
              "          document.querySelector('#df-c5f65d3b-4f46-4d28-990b-645df4f5e1e4 button.colab-df-convert');\n",
              "        buttonEl.style.display =\n",
              "          google.colab.kernel.accessAllowed ? 'block' : 'none';\n",
              "\n",
              "        async function convertToInteractive(key) {\n",
              "          const element = document.querySelector('#df-c5f65d3b-4f46-4d28-990b-645df4f5e1e4');\n",
              "          const dataTable =\n",
              "            await google.colab.kernel.invokeFunction('convertToInteractive',\n",
              "                                                     [key], {});\n",
              "          if (!dataTable) return;\n",
              "\n",
              "          const docLinkHtml = 'Like what you see? Visit the ' +\n",
              "            '<a target=\"_blank\" href=https://colab.research.google.com/notebooks/data_table.ipynb>data table notebook</a>'\n",
              "            + ' to learn more about interactive tables.';\n",
              "          element.innerHTML = '';\n",
              "          dataTable['output_type'] = 'display_data';\n",
              "          await google.colab.output.renderOutput(dataTable, element);\n",
              "          const docLink = document.createElement('div');\n",
              "          docLink.innerHTML = docLinkHtml;\n",
              "          element.appendChild(docLink);\n",
              "        }\n",
              "      </script>\n",
              "    </div>\n",
              "  </div>\n",
              "  "
            ]
          },
          "metadata": {},
          "execution_count": 27
        }
      ],
      "source": [
        "item_item_df = pd.DataFrame(item_item_sim,index = business_ids_mapping.keys())\n",
        "item_item_df.columns = business_ids_mapping.keys()\n",
        "item_item_df.head()"
      ]
    },
    {
      "cell_type": "code",
      "execution_count": null,
      "metadata": {
        "id": "gnyqu7D5nQrt"
      },
      "outputs": [],
      "source": [
        "user_ids = cursor.execute('SELECT DISTINCT(user_id) FROM user_sql').fetchall()\n",
        "user_ids_mapping = {o[0]:i+1 for i,o in enumerate(user_ids)}"
      ]
    },
    {
      "cell_type": "markdown",
      "source": [
        "### creating CF based on latent factors decomposition using SGD"
      ],
      "metadata": {
        "id": "drq-bplaq0Xy"
      }
    },
    {
      "cell_type": "code",
      "execution_count": null,
      "metadata": {
        "id": "etrmGIFxnQrw"
      },
      "outputs": [],
      "source": [
        "ratings = pd.read_sql('''SELECT  a.business_id, b.user_id, b.stars AS user_rating\n",
        "        FROM business_sql AS a INNER JOIN review_sql AS b\n",
        "        ON a.business_id = b.business_id''', conn)"
      ]
    },
    {
      "cell_type": "code",
      "execution_count": null,
      "metadata": {
        "colab": {
          "base_uri": "https://localhost:8080/",
          "height": 206
        },
        "id": "c8B1jwM1nQrx",
        "outputId": "509f7831-9fc2-43ac-eb9f-0af8b273d866"
      },
      "outputs": [
        {
          "output_type": "execute_result",
          "data": {
            "text/plain": [
              "              business_id                 user_id  user_rating\n",
              "0  MTSW4McQd7CbVtyjqoe9mw  -6GY04bTPM2Zo4z0GN4a1A            5\n",
              "1  MTSW4McQd7CbVtyjqoe9mw  -ZskOdnpNCWzTjeoBQM1LA            3\n",
              "2  MTSW4McQd7CbVtyjqoe9mw  0_FWb5d-EkJVaP0GAr0gcQ            4\n",
              "3  MTSW4McQd7CbVtyjqoe9mw  0_FWb5d-EkJVaP0GAr0gcQ            4\n",
              "4  MTSW4McQd7CbVtyjqoe9mw  0q2W3-ieBUJWD5TTLKi3Ug            4"
            ],
            "text/html": [
              "\n",
              "  <div id=\"df-da3340b4-d7bf-4aac-b307-e1d5583a2f57\">\n",
              "    <div class=\"colab-df-container\">\n",
              "      <div>\n",
              "<style scoped>\n",
              "    .dataframe tbody tr th:only-of-type {\n",
              "        vertical-align: middle;\n",
              "    }\n",
              "\n",
              "    .dataframe tbody tr th {\n",
              "        vertical-align: top;\n",
              "    }\n",
              "\n",
              "    .dataframe thead th {\n",
              "        text-align: right;\n",
              "    }\n",
              "</style>\n",
              "<table border=\"1\" class=\"dataframe\">\n",
              "  <thead>\n",
              "    <tr style=\"text-align: right;\">\n",
              "      <th></th>\n",
              "      <th>business_id</th>\n",
              "      <th>user_id</th>\n",
              "      <th>user_rating</th>\n",
              "    </tr>\n",
              "  </thead>\n",
              "  <tbody>\n",
              "    <tr>\n",
              "      <th>0</th>\n",
              "      <td>MTSW4McQd7CbVtyjqoe9mw</td>\n",
              "      <td>-6GY04bTPM2Zo4z0GN4a1A</td>\n",
              "      <td>5</td>\n",
              "    </tr>\n",
              "    <tr>\n",
              "      <th>1</th>\n",
              "      <td>MTSW4McQd7CbVtyjqoe9mw</td>\n",
              "      <td>-ZskOdnpNCWzTjeoBQM1LA</td>\n",
              "      <td>3</td>\n",
              "    </tr>\n",
              "    <tr>\n",
              "      <th>2</th>\n",
              "      <td>MTSW4McQd7CbVtyjqoe9mw</td>\n",
              "      <td>0_FWb5d-EkJVaP0GAr0gcQ</td>\n",
              "      <td>4</td>\n",
              "    </tr>\n",
              "    <tr>\n",
              "      <th>3</th>\n",
              "      <td>MTSW4McQd7CbVtyjqoe9mw</td>\n",
              "      <td>0_FWb5d-EkJVaP0GAr0gcQ</td>\n",
              "      <td>4</td>\n",
              "    </tr>\n",
              "    <tr>\n",
              "      <th>4</th>\n",
              "      <td>MTSW4McQd7CbVtyjqoe9mw</td>\n",
              "      <td>0q2W3-ieBUJWD5TTLKi3Ug</td>\n",
              "      <td>4</td>\n",
              "    </tr>\n",
              "  </tbody>\n",
              "</table>\n",
              "</div>\n",
              "      <button class=\"colab-df-convert\" onclick=\"convertToInteractive('df-da3340b4-d7bf-4aac-b307-e1d5583a2f57')\"\n",
              "              title=\"Convert this dataframe to an interactive table.\"\n",
              "              style=\"display:none;\">\n",
              "        \n",
              "  <svg xmlns=\"http://www.w3.org/2000/svg\" height=\"24px\"viewBox=\"0 0 24 24\"\n",
              "       width=\"24px\">\n",
              "    <path d=\"M0 0h24v24H0V0z\" fill=\"none\"/>\n",
              "    <path d=\"M18.56 5.44l.94 2.06.94-2.06 2.06-.94-2.06-.94-.94-2.06-.94 2.06-2.06.94zm-11 1L8.5 8.5l.94-2.06 2.06-.94-2.06-.94L8.5 2.5l-.94 2.06-2.06.94zm10 10l.94 2.06.94-2.06 2.06-.94-2.06-.94-.94-2.06-.94 2.06-2.06.94z\"/><path d=\"M17.41 7.96l-1.37-1.37c-.4-.4-.92-.59-1.43-.59-.52 0-1.04.2-1.43.59L10.3 9.45l-7.72 7.72c-.78.78-.78 2.05 0 2.83L4 21.41c.39.39.9.59 1.41.59.51 0 1.02-.2 1.41-.59l7.78-7.78 2.81-2.81c.8-.78.8-2.07 0-2.86zM5.41 20L4 18.59l7.72-7.72 1.47 1.35L5.41 20z\"/>\n",
              "  </svg>\n",
              "      </button>\n",
              "      \n",
              "  <style>\n",
              "    .colab-df-container {\n",
              "      display:flex;\n",
              "      flex-wrap:wrap;\n",
              "      gap: 12px;\n",
              "    }\n",
              "\n",
              "    .colab-df-convert {\n",
              "      background-color: #E8F0FE;\n",
              "      border: none;\n",
              "      border-radius: 50%;\n",
              "      cursor: pointer;\n",
              "      display: none;\n",
              "      fill: #1967D2;\n",
              "      height: 32px;\n",
              "      padding: 0 0 0 0;\n",
              "      width: 32px;\n",
              "    }\n",
              "\n",
              "    .colab-df-convert:hover {\n",
              "      background-color: #E2EBFA;\n",
              "      box-shadow: 0px 1px 2px rgba(60, 64, 67, 0.3), 0px 1px 3px 1px rgba(60, 64, 67, 0.15);\n",
              "      fill: #174EA6;\n",
              "    }\n",
              "\n",
              "    [theme=dark] .colab-df-convert {\n",
              "      background-color: #3B4455;\n",
              "      fill: #D2E3FC;\n",
              "    }\n",
              "\n",
              "    [theme=dark] .colab-df-convert:hover {\n",
              "      background-color: #434B5C;\n",
              "      box-shadow: 0px 1px 3px 1px rgba(0, 0, 0, 0.15);\n",
              "      filter: drop-shadow(0px 1px 2px rgba(0, 0, 0, 0.3));\n",
              "      fill: #FFFFFF;\n",
              "    }\n",
              "  </style>\n",
              "\n",
              "      <script>\n",
              "        const buttonEl =\n",
              "          document.querySelector('#df-da3340b4-d7bf-4aac-b307-e1d5583a2f57 button.colab-df-convert');\n",
              "        buttonEl.style.display =\n",
              "          google.colab.kernel.accessAllowed ? 'block' : 'none';\n",
              "\n",
              "        async function convertToInteractive(key) {\n",
              "          const element = document.querySelector('#df-da3340b4-d7bf-4aac-b307-e1d5583a2f57');\n",
              "          const dataTable =\n",
              "            await google.colab.kernel.invokeFunction('convertToInteractive',\n",
              "                                                     [key], {});\n",
              "          if (!dataTable) return;\n",
              "\n",
              "          const docLinkHtml = 'Like what you see? Visit the ' +\n",
              "            '<a target=\"_blank\" href=https://colab.research.google.com/notebooks/data_table.ipynb>data table notebook</a>'\n",
              "            + ' to learn more about interactive tables.';\n",
              "          element.innerHTML = '';\n",
              "          dataTable['output_type'] = 'display_data';\n",
              "          await google.colab.output.renderOutput(dataTable, element);\n",
              "          const docLink = document.createElement('div');\n",
              "          docLink.innerHTML = docLinkHtml;\n",
              "          element.appendChild(docLink);\n",
              "        }\n",
              "      </script>\n",
              "    </div>\n",
              "  </div>\n",
              "  "
            ]
          },
          "metadata": {},
          "execution_count": 8
        }
      ],
      "source": [
        "ratings.head()"
      ]
    },
    {
      "cell_type": "code",
      "execution_count": null,
      "metadata": {
        "colab": {
          "base_uri": "https://localhost:8080/"
        },
        "id": "80X9EzoAnQrz",
        "outputId": "50b37484-5888-4856-ae42-d6b7c9d0799e"
      },
      "outputs": [
        {
          "output_type": "execute_result",
          "data": {
            "text/plain": [
              "(1649541, 3)"
            ]
          },
          "metadata": {},
          "execution_count": 9
        }
      ],
      "source": [
        "ratings.shape"
      ]
    },
    {
      "cell_type": "code",
      "execution_count": null,
      "metadata": {
        "colab": {
          "base_uri": "https://localhost:8080/",
          "height": 206
        },
        "id": "x4K-hRA3nQr0",
        "outputId": "5a6288bf-fca0-4202-f9bc-73db02126abb"
      },
      "outputs": [
        {
          "output_type": "execute_result",
          "data": {
            "text/plain": [
              "   business_id   user_id  user_rating\n",
              "0            1  497965.0            5\n",
              "1            1   90161.0            3\n",
              "2            1   14037.0            4\n",
              "3            1   14037.0            4\n",
              "4            1   80103.0            4"
            ],
            "text/html": [
              "\n",
              "  <div id=\"df-00e823c5-38d5-42a8-83f7-014fccecba13\">\n",
              "    <div class=\"colab-df-container\">\n",
              "      <div>\n",
              "<style scoped>\n",
              "    .dataframe tbody tr th:only-of-type {\n",
              "        vertical-align: middle;\n",
              "    }\n",
              "\n",
              "    .dataframe tbody tr th {\n",
              "        vertical-align: top;\n",
              "    }\n",
              "\n",
              "    .dataframe thead th {\n",
              "        text-align: right;\n",
              "    }\n",
              "</style>\n",
              "<table border=\"1\" class=\"dataframe\">\n",
              "  <thead>\n",
              "    <tr style=\"text-align: right;\">\n",
              "      <th></th>\n",
              "      <th>business_id</th>\n",
              "      <th>user_id</th>\n",
              "      <th>user_rating</th>\n",
              "    </tr>\n",
              "  </thead>\n",
              "  <tbody>\n",
              "    <tr>\n",
              "      <th>0</th>\n",
              "      <td>1</td>\n",
              "      <td>497965.0</td>\n",
              "      <td>5</td>\n",
              "    </tr>\n",
              "    <tr>\n",
              "      <th>1</th>\n",
              "      <td>1</td>\n",
              "      <td>90161.0</td>\n",
              "      <td>3</td>\n",
              "    </tr>\n",
              "    <tr>\n",
              "      <th>2</th>\n",
              "      <td>1</td>\n",
              "      <td>14037.0</td>\n",
              "      <td>4</td>\n",
              "    </tr>\n",
              "    <tr>\n",
              "      <th>3</th>\n",
              "      <td>1</td>\n",
              "      <td>14037.0</td>\n",
              "      <td>4</td>\n",
              "    </tr>\n",
              "    <tr>\n",
              "      <th>4</th>\n",
              "      <td>1</td>\n",
              "      <td>80103.0</td>\n",
              "      <td>4</td>\n",
              "    </tr>\n",
              "  </tbody>\n",
              "</table>\n",
              "</div>\n",
              "      <button class=\"colab-df-convert\" onclick=\"convertToInteractive('df-00e823c5-38d5-42a8-83f7-014fccecba13')\"\n",
              "              title=\"Convert this dataframe to an interactive table.\"\n",
              "              style=\"display:none;\">\n",
              "        \n",
              "  <svg xmlns=\"http://www.w3.org/2000/svg\" height=\"24px\"viewBox=\"0 0 24 24\"\n",
              "       width=\"24px\">\n",
              "    <path d=\"M0 0h24v24H0V0z\" fill=\"none\"/>\n",
              "    <path d=\"M18.56 5.44l.94 2.06.94-2.06 2.06-.94-2.06-.94-.94-2.06-.94 2.06-2.06.94zm-11 1L8.5 8.5l.94-2.06 2.06-.94-2.06-.94L8.5 2.5l-.94 2.06-2.06.94zm10 10l.94 2.06.94-2.06 2.06-.94-2.06-.94-.94-2.06-.94 2.06-2.06.94z\"/><path d=\"M17.41 7.96l-1.37-1.37c-.4-.4-.92-.59-1.43-.59-.52 0-1.04.2-1.43.59L10.3 9.45l-7.72 7.72c-.78.78-.78 2.05 0 2.83L4 21.41c.39.39.9.59 1.41.59.51 0 1.02-.2 1.41-.59l7.78-7.78 2.81-2.81c.8-.78.8-2.07 0-2.86zM5.41 20L4 18.59l7.72-7.72 1.47 1.35L5.41 20z\"/>\n",
              "  </svg>\n",
              "      </button>\n",
              "      \n",
              "  <style>\n",
              "    .colab-df-container {\n",
              "      display:flex;\n",
              "      flex-wrap:wrap;\n",
              "      gap: 12px;\n",
              "    }\n",
              "\n",
              "    .colab-df-convert {\n",
              "      background-color: #E8F0FE;\n",
              "      border: none;\n",
              "      border-radius: 50%;\n",
              "      cursor: pointer;\n",
              "      display: none;\n",
              "      fill: #1967D2;\n",
              "      height: 32px;\n",
              "      padding: 0 0 0 0;\n",
              "      width: 32px;\n",
              "    }\n",
              "\n",
              "    .colab-df-convert:hover {\n",
              "      background-color: #E2EBFA;\n",
              "      box-shadow: 0px 1px 2px rgba(60, 64, 67, 0.3), 0px 1px 3px 1px rgba(60, 64, 67, 0.15);\n",
              "      fill: #174EA6;\n",
              "    }\n",
              "\n",
              "    [theme=dark] .colab-df-convert {\n",
              "      background-color: #3B4455;\n",
              "      fill: #D2E3FC;\n",
              "    }\n",
              "\n",
              "    [theme=dark] .colab-df-convert:hover {\n",
              "      background-color: #434B5C;\n",
              "      box-shadow: 0px 1px 3px 1px rgba(0, 0, 0, 0.15);\n",
              "      filter: drop-shadow(0px 1px 2px rgba(0, 0, 0, 0.3));\n",
              "      fill: #FFFFFF;\n",
              "    }\n",
              "  </style>\n",
              "\n",
              "      <script>\n",
              "        const buttonEl =\n",
              "          document.querySelector('#df-00e823c5-38d5-42a8-83f7-014fccecba13 button.colab-df-convert');\n",
              "        buttonEl.style.display =\n",
              "          google.colab.kernel.accessAllowed ? 'block' : 'none';\n",
              "\n",
              "        async function convertToInteractive(key) {\n",
              "          const element = document.querySelector('#df-00e823c5-38d5-42a8-83f7-014fccecba13');\n",
              "          const dataTable =\n",
              "            await google.colab.kernel.invokeFunction('convertToInteractive',\n",
              "                                                     [key], {});\n",
              "          if (!dataTable) return;\n",
              "\n",
              "          const docLinkHtml = 'Like what you see? Visit the ' +\n",
              "            '<a target=\"_blank\" href=https://colab.research.google.com/notebooks/data_table.ipynb>data table notebook</a>'\n",
              "            + ' to learn more about interactive tables.';\n",
              "          element.innerHTML = '';\n",
              "          dataTable['output_type'] = 'display_data';\n",
              "          await google.colab.output.renderOutput(dataTable, element);\n",
              "          const docLink = document.createElement('div');\n",
              "          docLink.innerHTML = docLinkHtml;\n",
              "          element.appendChild(docLink);\n",
              "        }\n",
              "      </script>\n",
              "    </div>\n",
              "  </div>\n",
              "  "
            ]
          },
          "metadata": {},
          "execution_count": 10
        }
      ],
      "source": [
        "ratings['user_id'] = ratings['user_id'].map(user_ids_mapping)\n",
        "ratings['business_id'] = ratings['business_id'].map(business_ids_mapping)\n",
        "ratings.head()"
      ]
    },
    {
      "cell_type": "code",
      "source": [
        "ratings.isna().sum()"
      ],
      "metadata": {
        "colab": {
          "base_uri": "https://localhost:8080/"
        },
        "id": "fRyDl3kC2V-3",
        "outputId": "f3cc2e22-51cc-43ba-b16a-5e78c80120f1"
      },
      "execution_count": null,
      "outputs": [
        {
          "output_type": "execute_result",
          "data": {
            "text/plain": [
              "business_id    0\n",
              "user_id        1\n",
              "user_rating    0\n",
              "dtype: int64"
            ]
          },
          "metadata": {},
          "execution_count": 13
        }
      ]
    },
    {
      "cell_type": "code",
      "source": [
        "ratings.dropna(axis=0, inplace=True)\n",
        "ratings.isna().sum()"
      ],
      "metadata": {
        "colab": {
          "base_uri": "https://localhost:8080/"
        },
        "id": "SWbKfdTB2nmj",
        "outputId": "90ed95a4-a7a8-43a2-f169-47f83620e30e"
      },
      "execution_count": null,
      "outputs": [
        {
          "output_type": "execute_result",
          "data": {
            "text/plain": [
              "business_id    0\n",
              "user_id        0\n",
              "user_rating    0\n",
              "dtype: int64"
            ]
          },
          "metadata": {},
          "execution_count": 16
        }
      ]
    },
    {
      "cell_type": "code",
      "source": [
        "ratings['user_id'] = ratings['user_id'].astype(int)"
      ],
      "metadata": {
        "id": "-Tv-Ol2U2PZG"
      },
      "execution_count": null,
      "outputs": []
    },
    {
      "cell_type": "code",
      "execution_count": null,
      "metadata": {
        "id": "wrkOttc1nQr1"
      },
      "outputs": [],
      "source": [
        "n_business = len(ratings['business_id'].unique())\n",
        "n_users = len(ratings['user_id'].unique())"
      ]
    },
    {
      "cell_type": "code",
      "execution_count": null,
      "metadata": {
        "id": "gO5TTUGwnQr2"
      },
      "outputs": [],
      "source": [
        "#custom sigmoid function to clip the prediction between 0 and 5\n",
        "def sigmoid_maker(low, high):\n",
        "    def custom_sigmoid(x):\n",
        "        return K.sigmoid(x)*(high - low) + low\n",
        "    return custom_sigmoid\n",
        "sm = sigmoid_maker(0, 5)"
      ]
    },
    {
      "cell_type": "markdown",
      "source": [
        "## Model with optimizatoin on residuals"
      ],
      "metadata": {
        "id": "dOldI_7eQFn6"
      }
    },
    {
      "cell_type": "code",
      "execution_count": null,
      "metadata": {
        "colab": {
          "base_uri": "https://localhost:8080/"
        },
        "id": "V8R8ArdFnQsA",
        "outputId": "4b16acf1-b283-460a-f12b-da2a303f13bf"
      },
      "outputs": [
        {
          "output_type": "execute_result",
          "data": {
            "text/plain": [
              "((1154678, 3), (494862, 3))"
            ]
          },
          "metadata": {},
          "execution_count": 113
        }
      ],
      "source": [
        "train_idx, test_idx = train_test_split(range(ratings.shape[0]), test_size=0.3, random_state=10)\n",
        "trdf = ratings.iloc[train_idx]\n",
        "testdf = ratings.iloc[test_idx]\n",
        "trdf.shape, testdf.shape"
      ]
    },
    {
      "cell_type": "code",
      "source": [
        "#getting constant values now we'll try to fit on residuals and see the mse\n",
        "n_latent_factors = 50\n",
        "reg = 5e-4\n",
        "\n",
        "# business embeddings\n",
        "business_input = keras.layers.Input(shape=[1],name='business')\n",
        "business_embedding = keras.layers.Embedding(n_business, n_latent_factors, input_length=1, name='Business_Embedding', embeddings_regularizer=l2(reg))(business_input)\n",
        "#adding a bias layer\n",
        "business_bias = keras.layers.Embedding(n_business, 1, input_length=1, name='Business_bias')(business_input)\n",
        "business_bias_flat = keras.layers.Flatten(name='Business_bias_flat')(business_bias)\n",
        "\n",
        "# user embeddings\n",
        "user_input = keras.layers.Input(shape=[1],name='user')\n",
        "user_embedding = keras.layers.Embedding(n_users, n_latent_factors, input_length=1, name='User_Embedding', embeddings_regularizer=l2(reg))(user_input)\n",
        "#adding a bias layer\n",
        "user_bias = keras.layers.Embedding(n_users, 1, input_length=1, name='User_bias')(user_input)\n",
        "user_bias_flat = keras.layers.Flatten(name='Users_bias_flat')(user_bias)\n",
        "\n",
        "residual = keras.layers.Dot(axes=2,name='Residual')([user_embedding, business_embedding])\n",
        "residflat = keras.layers.Flatten(name=\"residual_flat\")(residual)\n",
        "regression = keras.layers.Add(name=\"regression\")([user_bias_flat, business_bias_flat, residflat])\n",
        "output = keras.layers.Activation(sm, name='sigmoid_custom')(regression)\n",
        "model = keras.Model([user_input, business_input], output)\n",
        "model.summary()"
      ],
      "metadata": {
        "colab": {
          "base_uri": "https://localhost:8080/"
        },
        "id": "BrL_HgJqAsJl",
        "outputId": "333072c0-c469-4d0e-e748-6b6b70a5fe43"
      },
      "execution_count": null,
      "outputs": [
        {
          "output_type": "stream",
          "name": "stdout",
          "text": [
            "Model: \"model_5\"\n",
            "__________________________________________________________________________________________________\n",
            " Layer (type)                   Output Shape         Param #     Connected to                     \n",
            "==================================================================================================\n",
            " user (InputLayer)              [(None, 1)]          0           []                               \n",
            "                                                                                                  \n",
            " business (InputLayer)          [(None, 1)]          0           []                               \n",
            "                                                                                                  \n",
            " User_Embedding (Embedding)     (None, 1, 50)        36336900    ['user[0][0]']                   \n",
            "                                                                                                  \n",
            " Business_Embedding (Embedding)  (None, 1, 50)       946950      ['business[0][0]']               \n",
            "                                                                                                  \n",
            " User_bias (Embedding)          (None, 1, 1)         726738      ['user[0][0]']                   \n",
            "                                                                                                  \n",
            " Business_bias (Embedding)      (None, 1, 1)         18939       ['business[0][0]']               \n",
            "                                                                                                  \n",
            " Residual (Dot)                 (None, 1, 1)         0           ['User_Embedding[0][0]',         \n",
            "                                                                  'Business_Embedding[0][0]']     \n",
            "                                                                                                  \n",
            " Users_bias_flat (Flatten)      (None, 1)            0           ['User_bias[0][0]']              \n",
            "                                                                                                  \n",
            " Business_bias_flat (Flatten)   (None, 1)            0           ['Business_bias[0][0]']          \n",
            "                                                                                                  \n",
            " residual_flat (Flatten)        (None, 1)            0           ['Residual[0][0]']               \n",
            "                                                                                                  \n",
            " regression (Add)               (None, 1)            0           ['Users_bias_flat[0][0]',        \n",
            "                                                                  'Business_bias_flat[0][0]',     \n",
            "                                                                  'residual_flat[0][0]']          \n",
            "                                                                                                  \n",
            " sigmoid_custom (Activation)    (None, 1)            0           ['regression[0][0]']             \n",
            "                                                                                                  \n",
            "==================================================================================================\n",
            "Total params: 38,029,527\n",
            "Trainable params: 38,029,527\n",
            "Non-trainable params: 0\n",
            "__________________________________________________________________________________________________\n"
          ]
        }
      ]
    },
    {
      "cell_type": "code",
      "source": [
        "SVG(model_to_dot(model,  show_shapes=True, show_layer_names=True, dpi=72, rankdir='TB').create_svg())"
      ],
      "metadata": {
        "colab": {
          "base_uri": "https://localhost:8080/",
          "height": 668
        },
        "id": "zFUqkVfhJzBa",
        "outputId": "bd16c3e2-ec1f-4d08-a6d0-c0b4d53bea1b"
      },
      "execution_count": null,
      "outputs": [
        {
          "output_type": "execute_result",
          "data": {
            "text/plain": [
              "<IPython.core.display.SVG object>"
            ],
            "image/svg+xml": "<svg height=\"470pt\" viewBox=\"0.00 0.00 1074.50 470.00\" width=\"1075pt\" xmlns=\"http://www.w3.org/2000/svg\" xmlns:xlink=\"http://www.w3.org/1999/xlink\">\n<g class=\"graph\" id=\"graph0\" transform=\"scale(1 1) rotate(0) translate(4 466)\">\n<title>G</title>\n<polygon fill=\"#ffffff\" points=\"-4,4 -4,-466 1070.5,-466 1070.5,4 -4,4\" stroke=\"transparent\"/>\n<!-- 140215025354832 -->\n<g class=\"node\" id=\"node1\">\n<title>140215025354832</title>\n<polygon fill=\"none\" points=\"80.5,-415.5 80.5,-461.5 380.5,-461.5 380.5,-415.5 80.5,-415.5\" stroke=\"#000000\"/>\n<text fill=\"#000000\" font-family=\"Times,serif\" font-size=\"14.00\" text-anchor=\"middle\" x=\"120.5\" y=\"-446.3\">user</text>\n<polyline fill=\"none\" points=\"80.5,-438.5 160.5,-438.5 \" stroke=\"#000000\"/>\n<text fill=\"#000000\" font-family=\"Times,serif\" font-size=\"14.00\" text-anchor=\"middle\" x=\"120.5\" y=\"-423.3\">InputLayer</text>\n<polyline fill=\"none\" points=\"160.5,-415.5 160.5,-461.5 \" stroke=\"#000000\"/>\n<text fill=\"#000000\" font-family=\"Times,serif\" font-size=\"14.00\" text-anchor=\"middle\" x=\"189.5\" y=\"-446.3\">input:</text>\n<polyline fill=\"none\" points=\"160.5,-438.5 218.5,-438.5 \" stroke=\"#000000\"/>\n<text fill=\"#000000\" font-family=\"Times,serif\" font-size=\"14.00\" text-anchor=\"middle\" x=\"189.5\" y=\"-423.3\">output:</text>\n<polyline fill=\"none\" points=\"218.5,-415.5 218.5,-461.5 \" stroke=\"#000000\"/>\n<text fill=\"#000000\" font-family=\"Times,serif\" font-size=\"14.00\" text-anchor=\"middle\" x=\"259\" y=\"-434.8\">[(None, 1)]</text>\n<polyline fill=\"none\" points=\"299.5,-415.5 299.5,-461.5 \" stroke=\"#000000\"/>\n<text fill=\"#000000\" font-family=\"Times,serif\" font-size=\"14.00\" text-anchor=\"middle\" x=\"340\" y=\"-434.8\">[(None, 1)]</text>\n</g>\n<!-- 140215063215056 -->\n<g class=\"node\" id=\"node3\">\n<title>140215063215056</title>\n<polygon fill=\"none\" points=\"158,-332.5 158,-378.5 501,-378.5 501,-332.5 158,-332.5\" stroke=\"#000000\"/>\n<text fill=\"#000000\" font-family=\"Times,serif\" font-size=\"14.00\" text-anchor=\"middle\" x=\"217\" y=\"-363.3\">User_Embedding</text>\n<polyline fill=\"none\" points=\"158,-355.5 276,-355.5 \" stroke=\"#000000\"/>\n<text fill=\"#000000\" font-family=\"Times,serif\" font-size=\"14.00\" text-anchor=\"middle\" x=\"217\" y=\"-340.3\">Embedding</text>\n<polyline fill=\"none\" points=\"276,-332.5 276,-378.5 \" stroke=\"#000000\"/>\n<text fill=\"#000000\" font-family=\"Times,serif\" font-size=\"14.00\" text-anchor=\"middle\" x=\"305\" y=\"-363.3\">input:</text>\n<polyline fill=\"none\" points=\"276,-355.5 334,-355.5 \" stroke=\"#000000\"/>\n<text fill=\"#000000\" font-family=\"Times,serif\" font-size=\"14.00\" text-anchor=\"middle\" x=\"305\" y=\"-340.3\">output:</text>\n<polyline fill=\"none\" points=\"334,-332.5 334,-378.5 \" stroke=\"#000000\"/>\n<text fill=\"#000000\" font-family=\"Times,serif\" font-size=\"14.00\" text-anchor=\"middle\" x=\"370\" y=\"-351.8\">(None, 1)</text>\n<polyline fill=\"none\" points=\"406,-332.5 406,-378.5 \" stroke=\"#000000\"/>\n<text fill=\"#000000\" font-family=\"Times,serif\" font-size=\"14.00\" text-anchor=\"middle\" x=\"453.5\" y=\"-351.8\">(None, 1, 50)</text>\n</g>\n<!-- 140215025354832&#45;&gt;140215063215056 -->\n<g class=\"edge\" id=\"edge1\">\n<title>140215025354832-&gt;140215063215056</title>\n<path d=\"M258.077,-415.3799C269.1407,-406.1043 282.0354,-395.2936 293.7999,-385.4304\" fill=\"none\" stroke=\"#000000\"/>\n<polygon fill=\"#000000\" points=\"296.313,-387.8908 301.7275,-378.784 291.8157,-382.5266 296.313,-387.8908\" stroke=\"#000000\"/>\n</g>\n<!-- 140215025576144 -->\n<g class=\"node\" id=\"node5\">\n<title>140215025576144</title>\n<polygon fill=\"none\" points=\"0,-249.5 0,-295.5 301,-295.5 301,-249.5 0,-249.5\" stroke=\"#000000\"/>\n<text fill=\"#000000\" font-family=\"Times,serif\" font-size=\"14.00\" text-anchor=\"middle\" x=\"42\" y=\"-280.3\">User_bias</text>\n<polyline fill=\"none\" points=\"0,-272.5 84,-272.5 \" stroke=\"#000000\"/>\n<text fill=\"#000000\" font-family=\"Times,serif\" font-size=\"14.00\" text-anchor=\"middle\" x=\"42\" y=\"-257.3\">Embedding</text>\n<polyline fill=\"none\" points=\"84,-249.5 84,-295.5 \" stroke=\"#000000\"/>\n<text fill=\"#000000\" font-family=\"Times,serif\" font-size=\"14.00\" text-anchor=\"middle\" x=\"113\" y=\"-280.3\">input:</text>\n<polyline fill=\"none\" points=\"84,-272.5 142,-272.5 \" stroke=\"#000000\"/>\n<text fill=\"#000000\" font-family=\"Times,serif\" font-size=\"14.00\" text-anchor=\"middle\" x=\"113\" y=\"-257.3\">output:</text>\n<polyline fill=\"none\" points=\"142,-249.5 142,-295.5 \" stroke=\"#000000\"/>\n<text fill=\"#000000\" font-family=\"Times,serif\" font-size=\"14.00\" text-anchor=\"middle\" x=\"178\" y=\"-268.8\">(None, 1)</text>\n<polyline fill=\"none\" points=\"214,-249.5 214,-295.5 \" stroke=\"#000000\"/>\n<text fill=\"#000000\" font-family=\"Times,serif\" font-size=\"14.00\" text-anchor=\"middle\" x=\"257.5\" y=\"-268.8\">(None, 1, 1)</text>\n</g>\n<!-- 140215025354832&#45;&gt;140215025576144 -->\n<g class=\"edge\" id=\"edge3\">\n<title>140215025354832-&gt;140215025576144</title>\n<path d=\"M183.4341,-415.4543C169.6193,-406.1706 156.1704,-394.0427 148.5,-379 136.9692,-356.3866 138.3785,-327.4054 142.1665,-305.3861\" fill=\"none\" stroke=\"#000000\"/>\n<polygon fill=\"#000000\" points=\"145.6151,-305.9876 144.1032,-295.5012 138.7457,-304.6416 145.6151,-305.9876\" stroke=\"#000000\"/>\n</g>\n<!-- 140215019724944 -->\n<g class=\"node\" id=\"node2\">\n<title>140215019724944</title>\n<polygon fill=\"none\" points=\"658.5,-415.5 658.5,-461.5 958.5,-461.5 958.5,-415.5 658.5,-415.5\" stroke=\"#000000\"/>\n<text fill=\"#000000\" font-family=\"Times,serif\" font-size=\"14.00\" text-anchor=\"middle\" x=\"698.5\" y=\"-446.3\">business</text>\n<polyline fill=\"none\" points=\"658.5,-438.5 738.5,-438.5 \" stroke=\"#000000\"/>\n<text fill=\"#000000\" font-family=\"Times,serif\" font-size=\"14.00\" text-anchor=\"middle\" x=\"698.5\" y=\"-423.3\">InputLayer</text>\n<polyline fill=\"none\" points=\"738.5,-415.5 738.5,-461.5 \" stroke=\"#000000\"/>\n<text fill=\"#000000\" font-family=\"Times,serif\" font-size=\"14.00\" text-anchor=\"middle\" x=\"767.5\" y=\"-446.3\">input:</text>\n<polyline fill=\"none\" points=\"738.5,-438.5 796.5,-438.5 \" stroke=\"#000000\"/>\n<text fill=\"#000000\" font-family=\"Times,serif\" font-size=\"14.00\" text-anchor=\"middle\" x=\"767.5\" y=\"-423.3\">output:</text>\n<polyline fill=\"none\" points=\"796.5,-415.5 796.5,-461.5 \" stroke=\"#000000\"/>\n<text fill=\"#000000\" font-family=\"Times,serif\" font-size=\"14.00\" text-anchor=\"middle\" x=\"837\" y=\"-434.8\">[(None, 1)]</text>\n<polyline fill=\"none\" points=\"877.5,-415.5 877.5,-461.5 \" stroke=\"#000000\"/>\n<text fill=\"#000000\" font-family=\"Times,serif\" font-size=\"14.00\" text-anchor=\"middle\" x=\"918\" y=\"-434.8\">[(None, 1)]</text>\n</g>\n<!-- 140215019725520 -->\n<g class=\"node\" id=\"node4\">\n<title>140215019725520</title>\n<polygon fill=\"none\" points=\"519,-332.5 519,-378.5 886,-378.5 886,-332.5 519,-332.5\" stroke=\"#000000\"/>\n<text fill=\"#000000\" font-family=\"Times,serif\" font-size=\"14.00\" text-anchor=\"middle\" x=\"590\" y=\"-363.3\">Business_Embedding</text>\n<polyline fill=\"none\" points=\"519,-355.5 661,-355.5 \" stroke=\"#000000\"/>\n<text fill=\"#000000\" font-family=\"Times,serif\" font-size=\"14.00\" text-anchor=\"middle\" x=\"590\" y=\"-340.3\">Embedding</text>\n<polyline fill=\"none\" points=\"661,-332.5 661,-378.5 \" stroke=\"#000000\"/>\n<text fill=\"#000000\" font-family=\"Times,serif\" font-size=\"14.00\" text-anchor=\"middle\" x=\"690\" y=\"-363.3\">input:</text>\n<polyline fill=\"none\" points=\"661,-355.5 719,-355.5 \" stroke=\"#000000\"/>\n<text fill=\"#000000\" font-family=\"Times,serif\" font-size=\"14.00\" text-anchor=\"middle\" x=\"690\" y=\"-340.3\">output:</text>\n<polyline fill=\"none\" points=\"719,-332.5 719,-378.5 \" stroke=\"#000000\"/>\n<text fill=\"#000000\" font-family=\"Times,serif\" font-size=\"14.00\" text-anchor=\"middle\" x=\"755\" y=\"-351.8\">(None, 1)</text>\n<polyline fill=\"none\" points=\"791,-332.5 791,-378.5 \" stroke=\"#000000\"/>\n<text fill=\"#000000\" font-family=\"Times,serif\" font-size=\"14.00\" text-anchor=\"middle\" x=\"838.5\" y=\"-351.8\">(None, 1, 50)</text>\n</g>\n<!-- 140215019724944&#45;&gt;140215019725520 -->\n<g class=\"edge\" id=\"edge2\">\n<title>140215019724944-&gt;140215019725520</title>\n<path d=\"M778.9731,-415.3799C767.0133,-406.0151 753.055,-395.0855 740.3614,-385.1462\" fill=\"none\" stroke=\"#000000\"/>\n<polygon fill=\"#000000\" points=\"742.2675,-382.1934 732.2362,-378.784 737.9519,-387.7049 742.2675,-382.1934\" stroke=\"#000000\"/>\n</g>\n<!-- 140214994778832 -->\n<g class=\"node\" id=\"node6\">\n<title>140214994778832</title>\n<polygon fill=\"none\" points=\"752.5,-249.5 752.5,-295.5 1066.5,-295.5 1066.5,-249.5 752.5,-249.5\" stroke=\"#000000\"/>\n<text fill=\"#000000\" font-family=\"Times,serif\" font-size=\"14.00\" text-anchor=\"middle\" x=\"801\" y=\"-280.3\">Business_bias</text>\n<polyline fill=\"none\" points=\"752.5,-272.5 849.5,-272.5 \" stroke=\"#000000\"/>\n<text fill=\"#000000\" font-family=\"Times,serif\" font-size=\"14.00\" text-anchor=\"middle\" x=\"801\" y=\"-257.3\">Embedding</text>\n<polyline fill=\"none\" points=\"849.5,-249.5 849.5,-295.5 \" stroke=\"#000000\"/>\n<text fill=\"#000000\" font-family=\"Times,serif\" font-size=\"14.00\" text-anchor=\"middle\" x=\"878.5\" y=\"-280.3\">input:</text>\n<polyline fill=\"none\" points=\"849.5,-272.5 907.5,-272.5 \" stroke=\"#000000\"/>\n<text fill=\"#000000\" font-family=\"Times,serif\" font-size=\"14.00\" text-anchor=\"middle\" x=\"878.5\" y=\"-257.3\">output:</text>\n<polyline fill=\"none\" points=\"907.5,-249.5 907.5,-295.5 \" stroke=\"#000000\"/>\n<text fill=\"#000000\" font-family=\"Times,serif\" font-size=\"14.00\" text-anchor=\"middle\" x=\"943.5\" y=\"-268.8\">(None, 1)</text>\n<polyline fill=\"none\" points=\"979.5,-249.5 979.5,-295.5 \" stroke=\"#000000\"/>\n<text fill=\"#000000\" font-family=\"Times,serif\" font-size=\"14.00\" text-anchor=\"middle\" x=\"1023\" y=\"-268.8\">(None, 1, 1)</text>\n</g>\n<!-- 140215019724944&#45;&gt;140214994778832 -->\n<g class=\"edge\" id=\"edge4\">\n<title>140215019724944-&gt;140214994778832</title>\n<path d=\"M857.1981,-415.3673C871.7727,-406.0778 886.3057,-393.9685 895.5,-379 908.8976,-357.1886 911.953,-328.1494 911.9051,-305.9037\" fill=\"none\" stroke=\"#000000\"/>\n<polygon fill=\"#000000\" points=\"915.4042,-305.8191 911.6776,-295.9013 908.406,-305.9784 915.4042,-305.8191\" stroke=\"#000000\"/>\n</g>\n<!-- 140211566697168 -->\n<g class=\"node\" id=\"node7\">\n<title>140211566697168</title>\n<polygon fill=\"none\" points=\"329.5,-249.5 329.5,-295.5 729.5,-295.5 729.5,-249.5 329.5,-249.5\" stroke=\"#000000\"/>\n<text fill=\"#000000\" font-family=\"Times,serif\" font-size=\"14.00\" text-anchor=\"middle\" x=\"362.5\" y=\"-280.3\">Residual</text>\n<polyline fill=\"none\" points=\"329.5,-272.5 395.5,-272.5 \" stroke=\"#000000\"/>\n<text fill=\"#000000\" font-family=\"Times,serif\" font-size=\"14.00\" text-anchor=\"middle\" x=\"362.5\" y=\"-257.3\">Dot</text>\n<polyline fill=\"none\" points=\"395.5,-249.5 395.5,-295.5 \" stroke=\"#000000\"/>\n<text fill=\"#000000\" font-family=\"Times,serif\" font-size=\"14.00\" text-anchor=\"middle\" x=\"424.5\" y=\"-280.3\">input:</text>\n<polyline fill=\"none\" points=\"395.5,-272.5 453.5,-272.5 \" stroke=\"#000000\"/>\n<text fill=\"#000000\" font-family=\"Times,serif\" font-size=\"14.00\" text-anchor=\"middle\" x=\"424.5\" y=\"-257.3\">output:</text>\n<polyline fill=\"none\" points=\"453.5,-249.5 453.5,-295.5 \" stroke=\"#000000\"/>\n<text fill=\"#000000\" font-family=\"Times,serif\" font-size=\"14.00\" text-anchor=\"middle\" x=\"548\" y=\"-268.8\">[(None, 1, 50), (None, 1, 50)]</text>\n<polyline fill=\"none\" points=\"642.5,-249.5 642.5,-295.5 \" stroke=\"#000000\"/>\n<text fill=\"#000000\" font-family=\"Times,serif\" font-size=\"14.00\" text-anchor=\"middle\" x=\"686\" y=\"-268.8\">(None, 1, 1)</text>\n</g>\n<!-- 140215063215056&#45;&gt;140211566697168 -->\n<g class=\"edge\" id=\"edge5\">\n<title>140215063215056-&gt;140211566697168</title>\n<path d=\"M384.9456,-332.4901C409.6558,-322.2353 438.9283,-310.0872 464.6471,-299.414\" fill=\"none\" stroke=\"#000000\"/>\n<polygon fill=\"#000000\" points=\"466.0519,-302.6204 473.9466,-295.5547 463.3688,-296.1551 466.0519,-302.6204\" stroke=\"#000000\"/>\n</g>\n<!-- 140215019725520&#45;&gt;140211566697168 -->\n<g class=\"edge\" id=\"edge6\">\n<title>140215019725520-&gt;140211566697168</title>\n<path d=\"M654.3099,-332.3799C633.4017,-322.3488 608.7514,-310.5224 586.904,-300.0406\" fill=\"none\" stroke=\"#000000\"/>\n<polygon fill=\"#000000\" points=\"588.2615,-296.81 577.7315,-295.6399 585.2335,-303.1212 588.2615,-296.81\" stroke=\"#000000\"/>\n</g>\n<!-- 140215026345744 -->\n<g class=\"node\" id=\"node8\">\n<title>140215026345744</title>\n<polygon fill=\"none\" points=\"15,-166.5 15,-212.5 336,-212.5 336,-166.5 15,-166.5\" stroke=\"#000000\"/>\n<text fill=\"#000000\" font-family=\"Times,serif\" font-size=\"14.00\" text-anchor=\"middle\" x=\"67\" y=\"-197.3\">Users_bias_flat</text>\n<polyline fill=\"none\" points=\"15,-189.5 119,-189.5 \" stroke=\"#000000\"/>\n<text fill=\"#000000\" font-family=\"Times,serif\" font-size=\"14.00\" text-anchor=\"middle\" x=\"67\" y=\"-174.3\">Flatten</text>\n<polyline fill=\"none\" points=\"119,-166.5 119,-212.5 \" stroke=\"#000000\"/>\n<text fill=\"#000000\" font-family=\"Times,serif\" font-size=\"14.00\" text-anchor=\"middle\" x=\"148\" y=\"-197.3\">input:</text>\n<polyline fill=\"none\" points=\"119,-189.5 177,-189.5 \" stroke=\"#000000\"/>\n<text fill=\"#000000\" font-family=\"Times,serif\" font-size=\"14.00\" text-anchor=\"middle\" x=\"148\" y=\"-174.3\">output:</text>\n<polyline fill=\"none\" points=\"177,-166.5 177,-212.5 \" stroke=\"#000000\"/>\n<text fill=\"#000000\" font-family=\"Times,serif\" font-size=\"14.00\" text-anchor=\"middle\" x=\"220.5\" y=\"-185.8\">(None, 1, 1)</text>\n<polyline fill=\"none\" points=\"264,-166.5 264,-212.5 \" stroke=\"#000000\"/>\n<text fill=\"#000000\" font-family=\"Times,serif\" font-size=\"14.00\" text-anchor=\"middle\" x=\"300\" y=\"-185.8\">(None, 1)</text>\n</g>\n<!-- 140215025576144&#45;&gt;140215026345744 -->\n<g class=\"edge\" id=\"edge7\">\n<title>140215025576144-&gt;140215026345744</title>\n<path d=\"M157.4639,-249.3799C159.9622,-241.0854 162.8303,-231.5633 165.5335,-222.5889\" fill=\"none\" stroke=\"#000000\"/>\n<polygon fill=\"#000000\" points=\"168.9539,-223.3685 168.4867,-212.784 162.2513,-221.3496 168.9539,-223.3685\" stroke=\"#000000\"/>\n</g>\n<!-- 140215098237072 -->\n<g class=\"node\" id=\"node9\">\n<title>140215098237072</title>\n<polygon fill=\"none\" points=\"719,-166.5 719,-212.5 1058,-212.5 1058,-166.5 719,-166.5\" stroke=\"#000000\"/>\n<text fill=\"#000000\" font-family=\"Times,serif\" font-size=\"14.00\" text-anchor=\"middle\" x=\"780\" y=\"-197.3\">Business_bias_flat</text>\n<polyline fill=\"none\" points=\"719,-189.5 841,-189.5 \" stroke=\"#000000\"/>\n<text fill=\"#000000\" font-family=\"Times,serif\" font-size=\"14.00\" text-anchor=\"middle\" x=\"780\" y=\"-174.3\">Flatten</text>\n<polyline fill=\"none\" points=\"841,-166.5 841,-212.5 \" stroke=\"#000000\"/>\n<text fill=\"#000000\" font-family=\"Times,serif\" font-size=\"14.00\" text-anchor=\"middle\" x=\"870\" y=\"-197.3\">input:</text>\n<polyline fill=\"none\" points=\"841,-189.5 899,-189.5 \" stroke=\"#000000\"/>\n<text fill=\"#000000\" font-family=\"Times,serif\" font-size=\"14.00\" text-anchor=\"middle\" x=\"870\" y=\"-174.3\">output:</text>\n<polyline fill=\"none\" points=\"899,-166.5 899,-212.5 \" stroke=\"#000000\"/>\n<text fill=\"#000000\" font-family=\"Times,serif\" font-size=\"14.00\" text-anchor=\"middle\" x=\"942.5\" y=\"-185.8\">(None, 1, 1)</text>\n<polyline fill=\"none\" points=\"986,-166.5 986,-212.5 \" stroke=\"#000000\"/>\n<text fill=\"#000000\" font-family=\"Times,serif\" font-size=\"14.00\" text-anchor=\"middle\" x=\"1022\" y=\"-185.8\">(None, 1)</text>\n</g>\n<!-- 140214994778832&#45;&gt;140215098237072 -->\n<g class=\"edge\" id=\"edge8\">\n<title>140214994778832-&gt;140215098237072</title>\n<path d=\"M903.6503,-249.3799C901.5517,-241.0854 899.1425,-231.5633 896.8719,-222.5889\" fill=\"none\" stroke=\"#000000\"/>\n<polygon fill=\"#000000\" points=\"900.2371,-221.62 894.3911,-212.784 893.451,-223.337 900.2371,-221.62\" stroke=\"#000000\"/>\n</g>\n<!-- 140215172890896 -->\n<g class=\"node\" id=\"node10\">\n<title>140215172890896</title>\n<polygon fill=\"none\" points=\"378,-166.5 378,-212.5 681,-212.5 681,-166.5 378,-166.5\" stroke=\"#000000\"/>\n<text fill=\"#000000\" font-family=\"Times,serif\" font-size=\"14.00\" text-anchor=\"middle\" x=\"421\" y=\"-197.3\">residual_flat</text>\n<polyline fill=\"none\" points=\"378,-189.5 464,-189.5 \" stroke=\"#000000\"/>\n<text fill=\"#000000\" font-family=\"Times,serif\" font-size=\"14.00\" text-anchor=\"middle\" x=\"421\" y=\"-174.3\">Flatten</text>\n<polyline fill=\"none\" points=\"464,-166.5 464,-212.5 \" stroke=\"#000000\"/>\n<text fill=\"#000000\" font-family=\"Times,serif\" font-size=\"14.00\" text-anchor=\"middle\" x=\"493\" y=\"-197.3\">input:</text>\n<polyline fill=\"none\" points=\"464,-189.5 522,-189.5 \" stroke=\"#000000\"/>\n<text fill=\"#000000\" font-family=\"Times,serif\" font-size=\"14.00\" text-anchor=\"middle\" x=\"493\" y=\"-174.3\">output:</text>\n<polyline fill=\"none\" points=\"522,-166.5 522,-212.5 \" stroke=\"#000000\"/>\n<text fill=\"#000000\" font-family=\"Times,serif\" font-size=\"14.00\" text-anchor=\"middle\" x=\"565.5\" y=\"-185.8\">(None, 1, 1)</text>\n<polyline fill=\"none\" points=\"609,-166.5 609,-212.5 \" stroke=\"#000000\"/>\n<text fill=\"#000000\" font-family=\"Times,serif\" font-size=\"14.00\" text-anchor=\"middle\" x=\"645\" y=\"-185.8\">(None, 1)</text>\n</g>\n<!-- 140211566697168&#45;&gt;140215172890896 -->\n<g class=\"edge\" id=\"edge9\">\n<title>140211566697168-&gt;140215172890896</title>\n<path d=\"M529.5,-249.3799C529.5,-241.1745 529.5,-231.7679 529.5,-222.8786\" fill=\"none\" stroke=\"#000000\"/>\n<polygon fill=\"#000000\" points=\"533.0001,-222.784 529.5,-212.784 526.0001,-222.784 533.0001,-222.784\" stroke=\"#000000\"/>\n</g>\n<!-- 140215025576528 -->\n<g class=\"node\" id=\"node11\">\n<title>140215025576528</title>\n<polygon fill=\"none\" points=\"324,-83.5 324,-129.5 735,-129.5 735,-83.5 324,-83.5\" stroke=\"#000000\"/>\n<text fill=\"#000000\" font-family=\"Times,serif\" font-size=\"14.00\" text-anchor=\"middle\" x=\"361\" y=\"-114.3\">regression</text>\n<polyline fill=\"none\" points=\"324,-106.5 398,-106.5 \" stroke=\"#000000\"/>\n<text fill=\"#000000\" font-family=\"Times,serif\" font-size=\"14.00\" text-anchor=\"middle\" x=\"361\" y=\"-91.3\">Add</text>\n<polyline fill=\"none\" points=\"398,-83.5 398,-129.5 \" stroke=\"#000000\"/>\n<text fill=\"#000000\" font-family=\"Times,serif\" font-size=\"14.00\" text-anchor=\"middle\" x=\"427\" y=\"-114.3\">input:</text>\n<polyline fill=\"none\" points=\"398,-106.5 456,-106.5 \" stroke=\"#000000\"/>\n<text fill=\"#000000\" font-family=\"Times,serif\" font-size=\"14.00\" text-anchor=\"middle\" x=\"427\" y=\"-91.3\">output:</text>\n<polyline fill=\"none\" points=\"456,-83.5 456,-129.5 \" stroke=\"#000000\"/>\n<text fill=\"#000000\" font-family=\"Times,serif\" font-size=\"14.00\" text-anchor=\"middle\" x=\"559.5\" y=\"-102.8\">[(None, 1), (None, 1), (None, 1)]</text>\n<polyline fill=\"none\" points=\"663,-83.5 663,-129.5 \" stroke=\"#000000\"/>\n<text fill=\"#000000\" font-family=\"Times,serif\" font-size=\"14.00\" text-anchor=\"middle\" x=\"699\" y=\"-102.8\">(None, 1)</text>\n</g>\n<!-- 140215026345744&#45;&gt;140215025576528 -->\n<g class=\"edge\" id=\"edge10\">\n<title>140215026345744-&gt;140215025576528</title>\n<path d=\"M273.6386,-166.4901C319.4859,-155.7406 374.2064,-142.9107 421.2535,-131.8798\" fill=\"none\" stroke=\"#000000\"/>\n<polygon fill=\"#000000\" points=\"422.2335,-135.2451 431.1705,-129.5547 420.6355,-128.4299 422.2335,-135.2451\" stroke=\"#000000\"/>\n</g>\n<!-- 140215098237072&#45;&gt;140215025576528 -->\n<g class=\"edge\" id=\"edge11\">\n<title>140215098237072-&gt;140215025576528</title>\n<path d=\"M788.9752,-166.4901C742.3832,-155.7181 686.7548,-142.857 638.976,-131.8106\" fill=\"none\" stroke=\"#000000\"/>\n<polygon fill=\"#000000\" points=\"639.7498,-128.3973 629.2184,-129.5547 638.1729,-135.2174 639.7498,-128.3973\" stroke=\"#000000\"/>\n</g>\n<!-- 140215172890896&#45;&gt;140215025576528 -->\n<g class=\"edge\" id=\"edge12\">\n<title>140215172890896-&gt;140215025576528</title>\n<path d=\"M529.5,-166.3799C529.5,-158.1745 529.5,-148.7679 529.5,-139.8786\" fill=\"none\" stroke=\"#000000\"/>\n<polygon fill=\"#000000\" points=\"533.0001,-139.784 529.5,-129.784 526.0001,-139.784 533.0001,-139.784\" stroke=\"#000000\"/>\n</g>\n<!-- 140215185970064 -->\n<g class=\"node\" id=\"node12\">\n<title>140215185970064</title>\n<polygon fill=\"none\" points=\"372.5,-.5 372.5,-46.5 686.5,-46.5 686.5,-.5 372.5,-.5\" stroke=\"#000000\"/>\n<text fill=\"#000000\" font-family=\"Times,serif\" font-size=\"14.00\" text-anchor=\"middle\" x=\"428.5\" y=\"-31.3\">sigmoid_custom</text>\n<polyline fill=\"none\" points=\"372.5,-23.5 484.5,-23.5 \" stroke=\"#000000\"/>\n<text fill=\"#000000\" font-family=\"Times,serif\" font-size=\"14.00\" text-anchor=\"middle\" x=\"428.5\" y=\"-8.3\">Activation</text>\n<polyline fill=\"none\" points=\"484.5,-.5 484.5,-46.5 \" stroke=\"#000000\"/>\n<text fill=\"#000000\" font-family=\"Times,serif\" font-size=\"14.00\" text-anchor=\"middle\" x=\"513.5\" y=\"-31.3\">input:</text>\n<polyline fill=\"none\" points=\"484.5,-23.5 542.5,-23.5 \" stroke=\"#000000\"/>\n<text fill=\"#000000\" font-family=\"Times,serif\" font-size=\"14.00\" text-anchor=\"middle\" x=\"513.5\" y=\"-8.3\">output:</text>\n<polyline fill=\"none\" points=\"542.5,-.5 542.5,-46.5 \" stroke=\"#000000\"/>\n<text fill=\"#000000\" font-family=\"Times,serif\" font-size=\"14.00\" text-anchor=\"middle\" x=\"578.5\" y=\"-19.8\">(None, 1)</text>\n<polyline fill=\"none\" points=\"614.5,-.5 614.5,-46.5 \" stroke=\"#000000\"/>\n<text fill=\"#000000\" font-family=\"Times,serif\" font-size=\"14.00\" text-anchor=\"middle\" x=\"650.5\" y=\"-19.8\">(None, 1)</text>\n</g>\n<!-- 140215025576528&#45;&gt;140215185970064 -->\n<g class=\"edge\" id=\"edge13\">\n<title>140215025576528-&gt;140215185970064</title>\n<path d=\"M529.5,-83.3799C529.5,-75.1745 529.5,-65.7679 529.5,-56.8786\" fill=\"none\" stroke=\"#000000\"/>\n<polygon fill=\"#000000\" points=\"533.0001,-56.784 529.5,-46.784 526.0001,-56.784 533.0001,-56.784\" stroke=\"#000000\"/>\n</g>\n</g>\n</svg>"
          },
          "metadata": {},
          "execution_count": 123
        }
      ]
    },
    {
      "cell_type": "code",
      "source": [
        "%mkdir model2_data"
      ],
      "metadata": {
        "id": "7Ck6A-BkLUhd"
      },
      "execution_count": null,
      "outputs": []
    },
    {
      "cell_type": "code",
      "source": [
        "model.compile(optimizer='sgd', loss='mean_squared_error', metrics=['mae', 'mse'])"
      ],
      "metadata": {
        "id": "-dB-b8VRNK8v"
      },
      "execution_count": null,
      "outputs": []
    },
    {
      "cell_type": "code",
      "source": [
        "es = keras.callbacks.EarlyStopping('val_loss', patience=4, verbose=1, restore_best_weights=True)\n",
        "mc = keras.callbacks.ModelCheckpoint('model2_data', verbose=1)"
      ],
      "metadata": {
        "id": "86qr1C3ALUhe"
      },
      "execution_count": null,
      "outputs": []
    },
    {
      "cell_type": "code",
      "execution_count": null,
      "metadata": {
        "colab": {
          "base_uri": "https://localhost:8080/"
        },
        "outputId": "b4c1078a-6905-4d57-f538-6e7a3b2825a3",
        "id": "xyKk1FBkLUhe"
      },
      "outputs": [
        {
          "output_type": "stream",
          "name": "stdout",
          "text": [
            "Epoch 1/10\n",
            "18040/18042 [============================>.] - ETA: 0s - loss: 16.4143 - mae: 1.6829 - mse: 3.3760\n",
            "Epoch 1: saving model to model2_data\n",
            "INFO:tensorflow:Assets written to: model2_data/assets\n",
            "18042/18042 [==============================] - 361s 20ms/step - loss: 16.4141 - mae: 1.6829 - mse: 3.3760 - val_loss: 13.9590 - val_mae: 1.6149 - val_mse: 3.1322\n",
            "Epoch 2/10\n",
            " 8799/18042 [=============>................] - ETA: 2:23 - loss: 12.9692 - mae: 1.5879 - mse: 3.0413"
          ]
        }
      ],
      "source": [
        "history = model.fit([trdf['user_id'], trdf['business_id']], trdf['user_rating'], callbacks=[es, mc], epochs=10, batch_size=64,\n",
        "                    validation_data=([testdf['user_id'], testdf['business_id']], testdf['user_rating']))"
      ]
    },
    {
      "cell_type": "code",
      "source": [
        "model_history = history.history\n",
        "plt.plot([f\"epoch {i+1}\" for i in range(len(model_history['val_loss']))], model_history['val_loss'])\n",
        "plt.xlabel('epoch')\n",
        "plt.xticks(rotation=45)\n",
        "plt.ylabel('Validation loss')\n",
        "plt.title('Model loss with each epoch')\n",
        "plt.show()"
      ],
      "metadata": {
        "id": "_DaWVHyULUhf"
      },
      "execution_count": null,
      "outputs": []
    },
    {
      "cell_type": "code",
      "source": [
        "dfpreds = testdf[['business_id', 'user_id', 'user_rating']].copy()\n",
        "dfpreds['predictions'] = model.predict([dfpreds['user_id'], dfpreds['business_id']]).ravel()"
      ],
      "metadata": {
        "id": "CAnFk51aBjYL"
      },
      "execution_count": null,
      "outputs": []
    }
  ],
  "metadata": {
    "accelerator": "GPU",
    "colab": {
      "collapsed_sections": [
        "aI7P-WeGwZVA",
        "Tl0gusoewxua",
        "CUPGt5-Cpvmy",
        "rPQgMugLxoiI",
        "LEoP4Sb70ASn",
        "e-_QYJtCy3DC",
        "dCy-aemFzUVG",
        "xDl50s0LzcBN",
        "Xf_iI1b_1A6_",
        "0_IeVPlzITUo",
        "edRWeM5GnQiu",
        "JrXgUzmJpmIz",
        "oyqSNg0_psLD",
        "drq-bplaq0Xy",
        "dOldI_7eQFn6"
      ],
      "name": "DS1_Project_1 (1).ipynb",
      "provenance": [],
      "toc_visible": true
    },
    "kernelspec": {
      "display_name": "Python 3 (ipykernel)",
      "language": "python",
      "name": "python3"
    },
    "language_info": {
      "codemirror_mode": {
        "name": "ipython",
        "version": 3
      },
      "file_extension": ".py",
      "mimetype": "text/x-python",
      "name": "python",
      "nbconvert_exporter": "python",
      "pygments_lexer": "ipython3",
      "version": "3.9.7"
    }
  },
  "nbformat": 4,
  "nbformat_minor": 0
}